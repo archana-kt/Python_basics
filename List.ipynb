{
 "cells": [
  {
   "cell_type": "markdown",
   "id": "1b18a722",
   "metadata": {},
   "source": [
    "# List"
   ]
  },
  {
   "cell_type": "markdown",
   "id": "0200e570",
   "metadata": {},
   "source": [
    "# Characteristics of List"
   ]
  },
  {
   "cell_type": "raw",
   "id": "bf204823",
   "metadata": {},
   "source": [
    "Mutable\n",
    "Iterable\n",
    "Ordered\n",
    "Heterogenous"
   ]
  },
  {
   "cell_type": "code",
   "execution_count": 52,
   "id": "6cce9233",
   "metadata": {},
   "outputs": [],
   "source": [
    "x = []"
   ]
  },
  {
   "cell_type": "code",
   "execution_count": 53,
   "id": "d7a3108a",
   "metadata": {},
   "outputs": [
    {
     "data": {
      "text/plain": [
       "[]"
      ]
     },
     "execution_count": 53,
     "metadata": {},
     "output_type": "execute_result"
    }
   ],
   "source": [
    "x"
   ]
  },
  {
   "cell_type": "code",
   "execution_count": 54,
   "id": "1f4c16f4",
   "metadata": {},
   "outputs": [
    {
     "data": {
      "text/plain": [
       "list"
      ]
     },
     "execution_count": 54,
     "metadata": {},
     "output_type": "execute_result"
    }
   ],
   "source": [
    "type(x)"
   ]
  },
  {
   "cell_type": "code",
   "execution_count": 55,
   "id": "4da295f9",
   "metadata": {},
   "outputs": [],
   "source": [
    "# Heterogenous"
   ]
  },
  {
   "cell_type": "code",
   "execution_count": 56,
   "id": "5acbdbf5",
   "metadata": {},
   "outputs": [],
   "source": [
    "x = [1, 2, 3, 4, 5, 6, 7, 8, 9, 'Amma', 'Appa', 'Papa', 1.4]"
   ]
  },
  {
   "cell_type": "code",
   "execution_count": 57,
   "id": "68e8e182",
   "metadata": {},
   "outputs": [
    {
     "data": {
      "text/plain": [
       "[1, 2, 3, 4, 5, 6, 7, 8, 9, 'Amma', 'Appa', 'Papa', 1.4]"
      ]
     },
     "execution_count": 57,
     "metadata": {},
     "output_type": "execute_result"
    }
   ],
   "source": [
    "x"
   ]
  },
  {
   "cell_type": "code",
   "execution_count": 7,
   "id": "44f21557",
   "metadata": {},
   "outputs": [
    {
     "data": {
      "text/plain": [
       "list"
      ]
     },
     "execution_count": 7,
     "metadata": {},
     "output_type": "execute_result"
    }
   ],
   "source": [
    "type(x)"
   ]
  },
  {
   "cell_type": "code",
   "execution_count": 58,
   "id": "ad08968b",
   "metadata": {},
   "outputs": [],
   "source": [
    "# Iterable"
   ]
  },
  {
   "cell_type": "code",
   "execution_count": 59,
   "id": "c94ce4a2",
   "metadata": {},
   "outputs": [
    {
     "name": "stdout",
     "output_type": "stream",
     "text": [
      "1\n",
      "2\n",
      "3\n",
      "4\n",
      "5\n",
      "6\n",
      "7\n",
      "8\n",
      "9\n",
      "Amma\n",
      "Appa\n",
      "Papa\n",
      "1.4\n"
     ]
    }
   ],
   "source": [
    "for i in x:\n",
    "    print(i)"
   ]
  },
  {
   "cell_type": "code",
   "execution_count": 60,
   "id": "e933093f",
   "metadata": {},
   "outputs": [
    {
     "data": {
      "text/plain": [
       "1"
      ]
     },
     "execution_count": 60,
     "metadata": {},
     "output_type": "execute_result"
    }
   ],
   "source": [
    "x[0]"
   ]
  },
  {
   "cell_type": "code",
   "execution_count": 61,
   "id": "4691e3fa",
   "metadata": {},
   "outputs": [
    {
     "data": {
      "text/plain": [
       "6"
      ]
     },
     "execution_count": 61,
     "metadata": {},
     "output_type": "execute_result"
    }
   ],
   "source": [
    "x[5]"
   ]
  },
  {
   "cell_type": "code",
   "execution_count": 62,
   "id": "9d66773b",
   "metadata": {},
   "outputs": [
    {
     "data": {
      "text/plain": [
       "'Amma'"
      ]
     },
     "execution_count": 62,
     "metadata": {},
     "output_type": "execute_result"
    }
   ],
   "source": [
    "x[9]"
   ]
  },
  {
   "cell_type": "code",
   "execution_count": 63,
   "id": "e9abc511",
   "metadata": {},
   "outputs": [],
   "source": [
    "# Mutable"
   ]
  },
  {
   "cell_type": "code",
   "execution_count": 15,
   "id": "d46a23c2",
   "metadata": {},
   "outputs": [],
   "source": [
    "x[0] = 'a'"
   ]
  },
  {
   "cell_type": "code",
   "execution_count": 64,
   "id": "89d9ae3c",
   "metadata": {},
   "outputs": [
    {
     "data": {
      "text/plain": [
       "[1, 2, 3, 4, 5, 6, 7, 8, 9, 'Amma', 'Appa', 'Papa', 1.4]"
      ]
     },
     "execution_count": 64,
     "metadata": {},
     "output_type": "execute_result"
    }
   ],
   "source": [
    "x"
   ]
  },
  {
   "cell_type": "code",
   "execution_count": 17,
   "id": "6aec7ba5",
   "metadata": {},
   "outputs": [],
   "source": [
    "# it is mutable and so the value get changed"
   ]
  },
  {
   "cell_type": "code",
   "execution_count": 18,
   "id": "f25adefb",
   "metadata": {},
   "outputs": [],
   "source": [
    "# mutable need to be same location eventhough value get changed"
   ]
  },
  {
   "cell_type": "code",
   "execution_count": 65,
   "id": "5b8e7e32",
   "metadata": {},
   "outputs": [
    {
     "data": {
      "text/plain": [
       "140418594947136"
      ]
     },
     "execution_count": 65,
     "metadata": {},
     "output_type": "execute_result"
    }
   ],
   "source": [
    "id(x)"
   ]
  },
  {
   "cell_type": "code",
   "execution_count": 66,
   "id": "ec983b44",
   "metadata": {},
   "outputs": [],
   "source": [
    "x[1] = 'b'"
   ]
  },
  {
   "cell_type": "code",
   "execution_count": 67,
   "id": "b1582cae",
   "metadata": {},
   "outputs": [
    {
     "data": {
      "text/plain": [
       "[1, 'b', 3, 4, 5, 6, 7, 8, 9, 'Amma', 'Appa', 'Papa', 1.4]"
      ]
     },
     "execution_count": 67,
     "metadata": {},
     "output_type": "execute_result"
    }
   ],
   "source": [
    "x"
   ]
  },
  {
   "cell_type": "code",
   "execution_count": 68,
   "id": "555e7755",
   "metadata": {},
   "outputs": [
    {
     "data": {
      "text/plain": [
       "140418594947136"
      ]
     },
     "execution_count": 68,
     "metadata": {},
     "output_type": "execute_result"
    }
   ],
   "source": [
    "id(x)"
   ]
  },
  {
   "cell_type": "code",
   "execution_count": 23,
   "id": "160363e9",
   "metadata": {},
   "outputs": [],
   "source": [
    "# See after changing the values also, the location is not getting changed. "
   ]
  },
  {
   "cell_type": "code",
   "execution_count": 24,
   "id": "4a22537b",
   "metadata": {},
   "outputs": [],
   "source": [
    "# DataStructures which is used to hold the elements and allow the manipulation"
   ]
  },
  {
   "cell_type": "markdown",
   "id": "69ab5344",
   "metadata": {},
   "source": [
    "# Methods in List"
   ]
  },
  {
   "cell_type": "raw",
   "id": "a3b6657d",
   "metadata": {},
   "source": [
    "1) append\n",
    "2) clear\n",
    "3) copy \n",
    "4) count\n",
    "5) extend\n",
    "6) index\n",
    "7) insert\n",
    "8) pop\n",
    "9) remove\n",
    "10) reverse"
   ]
  },
  {
   "cell_type": "code",
   "execution_count": 69,
   "id": "5cba31c7",
   "metadata": {},
   "outputs": [
    {
     "data": {
      "text/plain": [
       "[1, 'b', 3, 4, 5, 6, 7, 8, 9, 'Amma', 'Appa', 'Papa', 1.4]"
      ]
     },
     "execution_count": 69,
     "metadata": {},
     "output_type": "execute_result"
    }
   ],
   "source": [
    "x"
   ]
  },
  {
   "cell_type": "code",
   "execution_count": 33,
   "id": "b5988433",
   "metadata": {},
   "outputs": [],
   "source": [
    "# append"
   ]
  },
  {
   "cell_type": "code",
   "execution_count": 70,
   "id": "afb6b4ff",
   "metadata": {},
   "outputs": [],
   "source": [
    "x.append('Grand_Mother')"
   ]
  },
  {
   "cell_type": "code",
   "execution_count": 71,
   "id": "7d4033c7",
   "metadata": {},
   "outputs": [
    {
     "data": {
      "text/plain": [
       "[1, 'b', 3, 4, 5, 6, 7, 8, 9, 'Amma', 'Appa', 'Papa', 1.4, 'Grand_Mother']"
      ]
     },
     "execution_count": 71,
     "metadata": {},
     "output_type": "execute_result"
    }
   ],
   "source": [
    "x"
   ]
  },
  {
   "cell_type": "code",
   "execution_count": 72,
   "id": "67400605",
   "metadata": {},
   "outputs": [],
   "source": [
    "# copy"
   ]
  },
  {
   "cell_type": "code",
   "execution_count": 73,
   "id": "d5395732",
   "metadata": {},
   "outputs": [
    {
     "data": {
      "text/plain": [
       "[1, 'b', 3, 4, 5, 6, 7, 8, 9, 'Amma', 'Appa', 'Papa', 1.4, 'Grand_Mother']"
      ]
     },
     "execution_count": 73,
     "metadata": {},
     "output_type": "execute_result"
    }
   ],
   "source": [
    "x.copy()"
   ]
  },
  {
   "cell_type": "code",
   "execution_count": 35,
   "id": "db132da9",
   "metadata": {},
   "outputs": [],
   "source": [
    "# count"
   ]
  },
  {
   "cell_type": "code",
   "execution_count": 74,
   "id": "5fe8aaa9",
   "metadata": {},
   "outputs": [
    {
     "data": {
      "text/plain": [
       "1"
      ]
     },
     "execution_count": 74,
     "metadata": {},
     "output_type": "execute_result"
    }
   ],
   "source": [
    "x.count('b')"
   ]
  },
  {
   "cell_type": "code",
   "execution_count": 36,
   "id": "dbed1a9e",
   "metadata": {},
   "outputs": [],
   "source": [
    "# extend"
   ]
  },
  {
   "cell_type": "code",
   "execution_count": 75,
   "id": "5a49732b",
   "metadata": {},
   "outputs": [
    {
     "data": {
      "text/plain": [
       "[1, 'b', 3, 4, 5, 6, 7, 8, 9, 'Amma', 'Appa', 'Papa', 1.4, 'Grand_Mother']"
      ]
     },
     "execution_count": 75,
     "metadata": {},
     "output_type": "execute_result"
    }
   ],
   "source": [
    "x"
   ]
  },
  {
   "cell_type": "code",
   "execution_count": 76,
   "id": "ff84208e",
   "metadata": {},
   "outputs": [],
   "source": [
    "y = ['aa','bb','cc']"
   ]
  },
  {
   "cell_type": "code",
   "execution_count": 77,
   "id": "935b0d72",
   "metadata": {},
   "outputs": [],
   "source": [
    "x.extend(y)"
   ]
  },
  {
   "cell_type": "code",
   "execution_count": 78,
   "id": "5aafc238",
   "metadata": {},
   "outputs": [
    {
     "data": {
      "text/plain": [
       "[1,\n",
       " 'b',\n",
       " 3,\n",
       " 4,\n",
       " 5,\n",
       " 6,\n",
       " 7,\n",
       " 8,\n",
       " 9,\n",
       " 'Amma',\n",
       " 'Appa',\n",
       " 'Papa',\n",
       " 1.4,\n",
       " 'Grand_Mother',\n",
       " 'aa',\n",
       " 'bb',\n",
       " 'cc']"
      ]
     },
     "execution_count": 78,
     "metadata": {},
     "output_type": "execute_result"
    }
   ],
   "source": [
    "x"
   ]
  },
  {
   "cell_type": "code",
   "execution_count": 42,
   "id": "6d60536a",
   "metadata": {},
   "outputs": [],
   "source": [
    "# index"
   ]
  },
  {
   "cell_type": "code",
   "execution_count": 79,
   "id": "d889ee9c",
   "metadata": {},
   "outputs": [
    {
     "data": {
      "text/plain": [
       "14"
      ]
     },
     "execution_count": 79,
     "metadata": {},
     "output_type": "execute_result"
    }
   ],
   "source": [
    "x.index('aa')"
   ]
  },
  {
   "cell_type": "code",
   "execution_count": 43,
   "id": "cbab6198",
   "metadata": {},
   "outputs": [],
   "source": [
    "# insert"
   ]
  },
  {
   "cell_type": "code",
   "execution_count": 44,
   "id": "f6a97c76",
   "metadata": {},
   "outputs": [],
   "source": [
    "x.insert?"
   ]
  },
  {
   "cell_type": "raw",
   "id": "0b7fcbc7",
   "metadata": {},
   "source": [
    "Signature: x.insert(index, object, /)\n",
    "Docstring: Insert object before index.\n",
    "Type:      builtin_function_or_method"
   ]
  },
  {
   "cell_type": "code",
   "execution_count": 80,
   "id": "8e4f70d0",
   "metadata": {},
   "outputs": [],
   "source": [
    "x.insert(2,'c') # 2nd index value 3 changed to 'c'"
   ]
  },
  {
   "cell_type": "code",
   "execution_count": 81,
   "id": "90b43883",
   "metadata": {},
   "outputs": [
    {
     "data": {
      "text/plain": [
       "[1,\n",
       " 'b',\n",
       " 'c',\n",
       " 3,\n",
       " 4,\n",
       " 5,\n",
       " 6,\n",
       " 7,\n",
       " 8,\n",
       " 9,\n",
       " 'Amma',\n",
       " 'Appa',\n",
       " 'Papa',\n",
       " 1.4,\n",
       " 'Grand_Mother',\n",
       " 'aa',\n",
       " 'bb',\n",
       " 'cc']"
      ]
     },
     "execution_count": 81,
     "metadata": {},
     "output_type": "execute_result"
    }
   ],
   "source": [
    "x"
   ]
  },
  {
   "cell_type": "code",
   "execution_count": 48,
   "id": "82a8700b",
   "metadata": {},
   "outputs": [],
   "source": [
    "# pop"
   ]
  },
  {
   "cell_type": "code",
   "execution_count": 82,
   "id": "a25b3ac8",
   "metadata": {},
   "outputs": [
    {
     "data": {
      "text/plain": [
       "'cc'"
      ]
     },
     "execution_count": 82,
     "metadata": {},
     "output_type": "execute_result"
    }
   ],
   "source": [
    "x.pop() # it deletes the last value of index"
   ]
  },
  {
   "cell_type": "code",
   "execution_count": 83,
   "id": "f28af2e3",
   "metadata": {},
   "outputs": [
    {
     "data": {
      "text/plain": [
       "[1,\n",
       " 'b',\n",
       " 'c',\n",
       " 3,\n",
       " 4,\n",
       " 5,\n",
       " 6,\n",
       " 7,\n",
       " 8,\n",
       " 9,\n",
       " 'Amma',\n",
       " 'Appa',\n",
       " 'Papa',\n",
       " 1.4,\n",
       " 'Grand_Mother',\n",
       " 'aa',\n",
       " 'bb']"
      ]
     },
     "execution_count": 83,
     "metadata": {},
     "output_type": "execute_result"
    }
   ],
   "source": [
    "x"
   ]
  },
  {
   "cell_type": "code",
   "execution_count": 84,
   "id": "129a1ec0",
   "metadata": {},
   "outputs": [],
   "source": [
    "# remove"
   ]
  },
  {
   "cell_type": "code",
   "execution_count": 89,
   "id": "21fb41b6",
   "metadata": {},
   "outputs": [],
   "source": [
    "x.remove(5) # it deletes the specific value"
   ]
  },
  {
   "cell_type": "code",
   "execution_count": 90,
   "id": "94338caa",
   "metadata": {},
   "outputs": [
    {
     "data": {
      "text/plain": [
       "[1,\n",
       " 'b',\n",
       " 'c',\n",
       " 3,\n",
       " 4,\n",
       " 6,\n",
       " 7,\n",
       " 8,\n",
       " 9,\n",
       " 'Amma',\n",
       " 'Appa',\n",
       " 'Papa',\n",
       " 1.4,\n",
       " 'Grand_Mother',\n",
       " 'aa',\n",
       " 'bb']"
      ]
     },
     "execution_count": 90,
     "metadata": {},
     "output_type": "execute_result"
    }
   ],
   "source": [
    "x"
   ]
  },
  {
   "cell_type": "code",
   "execution_count": 91,
   "id": "cd16010e",
   "metadata": {},
   "outputs": [],
   "source": [
    "# reverse"
   ]
  },
  {
   "cell_type": "code",
   "execution_count": 93,
   "id": "45807f72",
   "metadata": {},
   "outputs": [],
   "source": [
    "x.reverse()"
   ]
  },
  {
   "cell_type": "code",
   "execution_count": 94,
   "id": "4a816bbd",
   "metadata": {},
   "outputs": [
    {
     "data": {
      "text/plain": [
       "['bb',\n",
       " 'aa',\n",
       " 'Grand_Mother',\n",
       " 1.4,\n",
       " 'Papa',\n",
       " 'Appa',\n",
       " 'Amma',\n",
       " 9,\n",
       " 8,\n",
       " 7,\n",
       " 6,\n",
       " 4,\n",
       " 3,\n",
       " 'c',\n",
       " 'b',\n",
       " 1]"
      ]
     },
     "execution_count": 94,
     "metadata": {},
     "output_type": "execute_result"
    }
   ],
   "source": [
    "x"
   ]
  },
  {
   "cell_type": "markdown",
   "id": "5ec8eca0",
   "metadata": {},
   "source": [
    "# Another approach for list"
   ]
  },
  {
   "cell_type": "code",
   "execution_count": 95,
   "id": "c828b9e7",
   "metadata": {},
   "outputs": [],
   "source": [
    "# creating a list"
   ]
  },
  {
   "cell_type": "code",
   "execution_count": 96,
   "id": "ead039f5",
   "metadata": {},
   "outputs": [],
   "source": [
    "a = []"
   ]
  },
  {
   "cell_type": "code",
   "execution_count": 98,
   "id": "a1c62266",
   "metadata": {},
   "outputs": [],
   "source": [
    "for i in range(0,10):\n",
    "    a.append(i)"
   ]
  },
  {
   "cell_type": "code",
   "execution_count": 99,
   "id": "d0522b2b",
   "metadata": {},
   "outputs": [
    {
     "data": {
      "text/plain": [
       "[0, 1, 2, 3, 4, 5, 6, 7, 8, 9]"
      ]
     },
     "execution_count": 99,
     "metadata": {},
     "output_type": "execute_result"
    }
   ],
   "source": [
    "a"
   ]
  },
  {
   "cell_type": "code",
   "execution_count": 100,
   "id": "a0e4bcd9",
   "metadata": {},
   "outputs": [],
   "source": [
    "a = [a for a in range(0,20)]"
   ]
  },
  {
   "cell_type": "code",
   "execution_count": 101,
   "id": "3155b995",
   "metadata": {},
   "outputs": [
    {
     "data": {
      "text/plain": [
       "[0, 1, 2, 3, 4, 5, 6, 7, 8, 9, 10, 11, 12, 13, 14, 15, 16, 17, 18, 19]"
      ]
     },
     "execution_count": 101,
     "metadata": {},
     "output_type": "execute_result"
    }
   ],
   "source": [
    "a"
   ]
  },
  {
   "cell_type": "code",
   "execution_count": 102,
   "id": "c9c7150a",
   "metadata": {},
   "outputs": [],
   "source": [
    "# Traverse or loop over"
   ]
  },
  {
   "cell_type": "code",
   "execution_count": 103,
   "id": "bcfbb51d",
   "metadata": {},
   "outputs": [],
   "source": [
    "x = list('python')"
   ]
  },
  {
   "cell_type": "code",
   "execution_count": 104,
   "id": "7168434d",
   "metadata": {},
   "outputs": [
    {
     "data": {
      "text/plain": [
       "['p', 'y', 't', 'h', 'o', 'n']"
      ]
     },
     "execution_count": 104,
     "metadata": {},
     "output_type": "execute_result"
    }
   ],
   "source": [
    "x"
   ]
  },
  {
   "cell_type": "code",
   "execution_count": 105,
   "id": "f2ea6e4a",
   "metadata": {},
   "outputs": [
    {
     "data": {
      "text/plain": [
       "6"
      ]
     },
     "execution_count": 105,
     "metadata": {},
     "output_type": "execute_result"
    }
   ],
   "source": [
    "len(x)"
   ]
  },
  {
   "cell_type": "code",
   "execution_count": 106,
   "id": "9a9d24e7",
   "metadata": {},
   "outputs": [
    {
     "name": "stdout",
     "output_type": "stream",
     "text": [
      "p\n",
      "y\n",
      "t\n",
      "h\n",
      "o\n",
      "n\n"
     ]
    }
   ],
   "source": [
    "for i in x:\n",
    "    print(i)"
   ]
  },
  {
   "cell_type": "code",
   "execution_count": 107,
   "id": "39bfd0ce",
   "metadata": {},
   "outputs": [
    {
     "data": {
      "text/plain": [
       "'p'"
      ]
     },
     "execution_count": 107,
     "metadata": {},
     "output_type": "execute_result"
    }
   ],
   "source": [
    "x[0]"
   ]
  },
  {
   "cell_type": "code",
   "execution_count": 108,
   "id": "7a95116a",
   "metadata": {},
   "outputs": [
    {
     "name": "stdout",
     "output_type": "stream",
     "text": [
      "index at 0 p\n",
      "index at 1 y\n",
      "index at 2 t\n",
      "index at 3 h\n",
      "index at 4 o\n",
      "index at 5 n\n"
     ]
    }
   ],
   "source": [
    "for i in range(len(x)):\n",
    "    print(\"index at\", i, x[i])"
   ]
  },
  {
   "cell_type": "code",
   "execution_count": 109,
   "id": "65df76aa",
   "metadata": {},
   "outputs": [],
   "source": [
    "# to get in reverse order"
   ]
  },
  {
   "cell_type": "code",
   "execution_count": 110,
   "id": "14bd0637",
   "metadata": {},
   "outputs": [
    {
     "name": "stdout",
     "output_type": "stream",
     "text": [
      "at index -6 p\n",
      "at index -5 y\n",
      "at index -4 t\n",
      "at index -3 h\n",
      "at index -2 o\n",
      "at index -1 n\n"
     ]
    }
   ],
   "source": [
    "for i in range(len(x)):\n",
    "    print(\"at index\", i - len(x), x[i])"
   ]
  },
  {
   "cell_type": "code",
   "execution_count": 111,
   "id": "20c01ac6",
   "metadata": {},
   "outputs": [
    {
     "data": {
      "text/plain": [
       "'p'"
      ]
     },
     "execution_count": 111,
     "metadata": {},
     "output_type": "execute_result"
    }
   ],
   "source": [
    "x[-6]"
   ]
  },
  {
   "cell_type": "code",
   "execution_count": null,
   "id": "153cd041",
   "metadata": {},
   "outputs": [],
   "source": []
  }
 ],
 "metadata": {
  "kernelspec": {
   "display_name": "Python 3 (ipykernel)",
   "language": "python",
   "name": "python3"
  },
  "language_info": {
   "codemirror_mode": {
    "name": "ipython",
    "version": 3
   },
   "file_extension": ".py",
   "mimetype": "text/x-python",
   "name": "python",
   "nbconvert_exporter": "python",
   "pygments_lexer": "ipython3",
   "version": "3.9.7"
  }
 },
 "nbformat": 4,
 "nbformat_minor": 5
}
