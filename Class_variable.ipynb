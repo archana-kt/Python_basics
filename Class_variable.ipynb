{
 "cells": [
  {
   "cell_type": "markdown",
   "id": "f4568a6a",
   "metadata": {},
   "source": [
    "# Class Variable"
   ]
  },
  {
   "cell_type": "code",
   "execution_count": 1,
   "id": "9589f8cc",
   "metadata": {},
   "outputs": [],
   "source": [
    "class student:\n",
    "    def __init__(self,name,age,city):\n",
    "        self.name = name\n",
    "        self.age = age\n",
    "        self.city = city\n",
    "    \n",
    "    def displaystudent(self):\n",
    "        print(\"Name = \", self.name)\n",
    "        print(\"Age = \", self.age)\n",
    "        print(\"City = \", self.city)"
   ]
  },
  {
   "cell_type": "code",
   "execution_count": 2,
   "id": "3c8453e5",
   "metadata": {},
   "outputs": [],
   "source": [
    "s1 = student(\"Arc\",12,\"Salem\")"
   ]
  },
  {
   "cell_type": "code",
   "execution_count": 3,
   "id": "a777d12c",
   "metadata": {},
   "outputs": [
    {
     "data": {
      "text/plain": [
       "'Arc'"
      ]
     },
     "execution_count": 3,
     "metadata": {},
     "output_type": "execute_result"
    }
   ],
   "source": [
    "s1.name"
   ]
  },
  {
   "cell_type": "code",
   "execution_count": 4,
   "id": "cd61bc0f",
   "metadata": {},
   "outputs": [],
   "source": [
    "s2 = student(\"Mani\",11,\"Coimbatore\")"
   ]
  },
  {
   "cell_type": "code",
   "execution_count": 5,
   "id": "d5be1b9e",
   "metadata": {},
   "outputs": [
    {
     "data": {
      "text/plain": [
       "'Mani'"
      ]
     },
     "execution_count": 5,
     "metadata": {},
     "output_type": "execute_result"
    }
   ],
   "source": [
    "s2.name"
   ]
  },
  {
   "cell_type": "code",
   "execution_count": 6,
   "id": "a69c7771",
   "metadata": {},
   "outputs": [
    {
     "data": {
      "text/plain": [
       "140367337321392"
      ]
     },
     "execution_count": 6,
     "metadata": {},
     "output_type": "execute_result"
    }
   ],
   "source": [
    "id(s1.name)"
   ]
  },
  {
   "cell_type": "code",
   "execution_count": 7,
   "id": "25575dc6",
   "metadata": {},
   "outputs": [
    {
     "data": {
      "text/plain": [
       "140367340969456"
      ]
     },
     "execution_count": 7,
     "metadata": {},
     "output_type": "execute_result"
    }
   ],
   "source": [
    "id(s2.name)"
   ]
  },
  {
   "cell_type": "code",
   "execution_count": 8,
   "id": "18f59a7c",
   "metadata": {},
   "outputs": [],
   "source": [
    "class student:\n",
    "    def __init__(self,name,age,city,college):\n",
    "        self.name = name\n",
    "        self.age = age\n",
    "        self.city = city\n",
    "        self.college = college\n",
    "    \n",
    "    def displaystudent(self):\n",
    "        print(\"Name=\",self.name)\n",
    "        print(\"Age=\",self.age)\n",
    "        print(\"City=\",self.city)\n",
    "        print(\"College=\",self.college)"
   ]
  },
  {
   "cell_type": "code",
   "execution_count": 9,
   "id": "c4eb9e35",
   "metadata": {},
   "outputs": [],
   "source": [
    "s1=student(\"Archana\",12,\"Salem\",\"GCE\")"
   ]
  },
  {
   "cell_type": "code",
   "execution_count": 10,
   "id": "7bd40181",
   "metadata": {},
   "outputs": [],
   "source": [
    "s2=student(\"Manikandan\",11,\"Coimbatore\",\"GCE\")"
   ]
  },
  {
   "cell_type": "code",
   "execution_count": 11,
   "id": "49d7e501",
   "metadata": {},
   "outputs": [
    {
     "data": {
      "text/plain": [
       "'GCE'"
      ]
     },
     "execution_count": 11,
     "metadata": {},
     "output_type": "execute_result"
    }
   ],
   "source": [
    "s1.college"
   ]
  },
  {
   "cell_type": "code",
   "execution_count": 12,
   "id": "b1831b94",
   "metadata": {},
   "outputs": [
    {
     "data": {
      "text/plain": [
       "'GCE'"
      ]
     },
     "execution_count": 12,
     "metadata": {},
     "output_type": "execute_result"
    }
   ],
   "source": [
    "s2.college"
   ]
  },
  {
   "cell_type": "code",
   "execution_count": 13,
   "id": "06179305",
   "metadata": {},
   "outputs": [
    {
     "data": {
      "text/plain": [
       "140367341248240"
      ]
     },
     "execution_count": 13,
     "metadata": {},
     "output_type": "execute_result"
    }
   ],
   "source": [
    "id(s1.college)"
   ]
  },
  {
   "cell_type": "code",
   "execution_count": 14,
   "id": "72354797",
   "metadata": {},
   "outputs": [
    {
     "data": {
      "text/plain": [
       "140367341248240"
      ]
     },
     "execution_count": 14,
     "metadata": {},
     "output_type": "execute_result"
    }
   ],
   "source": [
    "id(s2.college)"
   ]
  },
  {
   "cell_type": "code",
   "execution_count": 27,
   "id": "877f3f03",
   "metadata": {},
   "outputs": [
    {
     "name": "stdout",
     "output_type": "stream",
     "text": [
      "Name = Archana\n",
      "Age = 12\n",
      "City = Salem\n",
      "College = GCE\n"
     ]
    }
   ],
   "source": [
    "class Student:\n",
    "    college = \"GCE\"   # class variable\n",
    "    \n",
    "    def __init__(self, name, age, city):\n",
    "        self.name = name\n",
    "        self.age = age\n",
    "        self.city = city\n",
    "    \n",
    "    def display_student(self):\n",
    "        print(\"Name =\", self.name)\n",
    "        print(\"Age =\", self.age)\n",
    "        print(\"City =\", self.city)\n",
    "        print(\"College =\", Student.college)\n",
    "\n",
    "s1 = Student(\"Archana\", 12, \"Salem\")\n",
    "s1.display_student()\n"
   ]
  },
  {
   "cell_type": "code",
   "execution_count": 28,
   "id": "da8e230c",
   "metadata": {},
   "outputs": [],
   "source": [
    "s2 = Student(\"Mani\",13,\"Coimbatore\")"
   ]
  },
  {
   "cell_type": "code",
   "execution_count": 29,
   "id": "5ac15f19",
   "metadata": {},
   "outputs": [
    {
     "name": "stdout",
     "output_type": "stream",
     "text": [
      "Name = Mani\n",
      "Age = 13\n",
      "City = Coimbatore\n",
      "College = GCE\n"
     ]
    }
   ],
   "source": [
    "s2.display_student()"
   ]
  },
  {
   "cell_type": "code",
   "execution_count": 30,
   "id": "33b35dfd",
   "metadata": {},
   "outputs": [],
   "source": [
    "# See here for both the objects we are getting same college and it is good to have a class variable like this to \n",
    "# save the memory space"
   ]
  },
  {
   "cell_type": "code",
   "execution_count": 48,
   "id": "b1003941",
   "metadata": {},
   "outputs": [],
   "source": [
    "class student:\n",
    "    count=0\n",
    "    def __init__(self,name,age,city):\n",
    "            self.name=name\n",
    "            self.age=age\n",
    "            self.city=city\n",
    "            student.count+=1 # here we are using class name for accessing count\n",
    "  \n",
    "    def displaystudent(self):\n",
    "            print(\"Name=\",self.name)\n",
    "            print(\"Age=\",self.age)\n",
    "            print(\"City=\",self.city)\n",
    "            print(\"Number of student=\",student.count) # here we are using class name for accessing count\n"
   ]
  },
  {
   "cell_type": "code",
   "execution_count": 49,
   "id": "f36704c9",
   "metadata": {},
   "outputs": [],
   "source": [
    "s1=student(\"Archana\",12,\"Salem\")"
   ]
  },
  {
   "cell_type": "code",
   "execution_count": 50,
   "id": "fc8b7876",
   "metadata": {},
   "outputs": [],
   "source": [
    "s2=student(\"Manikandan\",11,\"Coimbatore\")"
   ]
  },
  {
   "cell_type": "code",
   "execution_count": 51,
   "id": "55af1589",
   "metadata": {},
   "outputs": [
    {
     "data": {
      "text/plain": [
       "2"
      ]
     },
     "execution_count": 51,
     "metadata": {},
     "output_type": "execute_result"
    }
   ],
   "source": [
    "s1.count"
   ]
  },
  {
   "cell_type": "code",
   "execution_count": 52,
   "id": "247a3389",
   "metadata": {},
   "outputs": [
    {
     "data": {
      "text/plain": [
       "2"
      ]
     },
     "execution_count": 52,
     "metadata": {},
     "output_type": "execute_result"
    }
   ],
   "source": [
    "s2.count"
   ]
  },
  {
   "cell_type": "code",
   "execution_count": 53,
   "id": "ffcb3701",
   "metadata": {},
   "outputs": [
    {
     "data": {
      "text/plain": [
       "2"
      ]
     },
     "execution_count": 53,
     "metadata": {},
     "output_type": "execute_result"
    }
   ],
   "source": [
    "s1.count"
   ]
  },
  {
   "cell_type": "code",
   "execution_count": 54,
   "id": "c1a8ba8b",
   "metadata": {},
   "outputs": [
    {
     "data": {
      "text/plain": [
       "2"
      ]
     },
     "execution_count": 54,
     "metadata": {},
     "output_type": "execute_result"
    }
   ],
   "source": [
    "s2.count"
   ]
  },
  {
   "cell_type": "code",
   "execution_count": 55,
   "id": "55e24604",
   "metadata": {},
   "outputs": [
    {
     "name": "stdout",
     "output_type": "stream",
     "text": [
      "Name= Manikandan\n",
      "Age= 11\n",
      "City= Coimbatore\n",
      "Number of student= 2\n"
     ]
    }
   ],
   "source": [
    "s2.displaystudent()"
   ]
  },
  {
   "cell_type": "code",
   "execution_count": 56,
   "id": "89ba0177",
   "metadata": {},
   "outputs": [
    {
     "name": "stdout",
     "output_type": "stream",
     "text": [
      "Name= Archana\n",
      "Age= 12\n",
      "City= Salem\n",
      "Number of student= 2\n"
     ]
    }
   ],
   "source": [
    "s1.displaystudent()"
   ]
  },
  {
   "cell_type": "code",
   "execution_count": 57,
   "id": "64af3fa5",
   "metadata": {},
   "outputs": [],
   "source": [
    "s3 = student(\"Kalp\",10,\"Madurai\")"
   ]
  },
  {
   "cell_type": "code",
   "execution_count": 58,
   "id": "82344716",
   "metadata": {},
   "outputs": [
    {
     "name": "stdout",
     "output_type": "stream",
     "text": [
      "Name= Kalp\n",
      "Age= 10\n",
      "City= Madurai\n",
      "Number of student= 3\n"
     ]
    }
   ],
   "source": [
    "s3.displaystudent()"
   ]
  },
  {
   "cell_type": "code",
   "execution_count": 59,
   "id": "813bd161",
   "metadata": {},
   "outputs": [],
   "source": [
    "s4 = student(\"Thiru\",7,\"Theni\")"
   ]
  },
  {
   "cell_type": "code",
   "execution_count": 60,
   "id": "377fc9d7",
   "metadata": {},
   "outputs": [
    {
     "name": "stdout",
     "output_type": "stream",
     "text": [
      "Name= Thiru\n",
      "Age= 7\n",
      "City= Theni\n",
      "Number of student= 4\n"
     ]
    }
   ],
   "source": [
    "s4.displaystudent()"
   ]
  },
  {
   "cell_type": "code",
   "execution_count": 61,
   "id": "79066a85",
   "metadata": {},
   "outputs": [
    {
     "data": {
      "text/plain": [
       "140367341087408"
      ]
     },
     "execution_count": 61,
     "metadata": {},
     "output_type": "execute_result"
    }
   ],
   "source": [
    "id(s1.name)"
   ]
  },
  {
   "cell_type": "code",
   "execution_count": 62,
   "id": "f4cc2dfc",
   "metadata": {},
   "outputs": [
    {
     "data": {
      "text/plain": [
       "140368131452080"
      ]
     },
     "execution_count": 62,
     "metadata": {},
     "output_type": "execute_result"
    }
   ],
   "source": [
    "id(s2.name)"
   ]
  },
  {
   "cell_type": "code",
   "execution_count": 63,
   "id": "0939072e",
   "metadata": {},
   "outputs": [
    {
     "data": {
      "text/plain": [
       "140367597090560"
      ]
     },
     "execution_count": 63,
     "metadata": {},
     "output_type": "execute_result"
    }
   ],
   "source": [
    "id(s1)"
   ]
  },
  {
   "cell_type": "code",
   "execution_count": 64,
   "id": "555f05cb",
   "metadata": {},
   "outputs": [],
   "source": [
    "s1.age = 40"
   ]
  },
  {
   "cell_type": "code",
   "execution_count": 65,
   "id": "bb7345ba",
   "metadata": {},
   "outputs": [
    {
     "data": {
      "text/plain": [
       "40"
      ]
     },
     "execution_count": 65,
     "metadata": {},
     "output_type": "execute_result"
    }
   ],
   "source": [
    "s1.age"
   ]
  },
  {
   "cell_type": "code",
   "execution_count": 66,
   "id": "9956aa1c",
   "metadata": {},
   "outputs": [
    {
     "name": "stdout",
     "output_type": "stream",
     "text": [
      "Name= Archana\n",
      "Age= 40\n",
      "City= Salem\n",
      "Number of student= 4\n"
     ]
    }
   ],
   "source": [
    "s1.displaystudent()"
   ]
  },
  {
   "cell_type": "code",
   "execution_count": 67,
   "id": "7cba34e9",
   "metadata": {},
   "outputs": [],
   "source": [
    "# See now the age is changed for s1"
   ]
  },
  {
   "cell_type": "code",
   "execution_count": 68,
   "id": "942c3036",
   "metadata": {},
   "outputs": [
    {
     "data": {
      "text/plain": [
       "140367597090560"
      ]
     },
     "execution_count": 68,
     "metadata": {},
     "output_type": "execute_result"
    }
   ],
   "source": [
    "id(s1)"
   ]
  },
  {
   "cell_type": "code",
   "execution_count": 69,
   "id": "92ddf7b4",
   "metadata": {},
   "outputs": [],
   "source": [
    "# see after changing the values, also the memory is pointing to same location"
   ]
  },
  {
   "cell_type": "code",
   "execution_count": 70,
   "id": "0ac3e78b",
   "metadata": {},
   "outputs": [],
   "source": [
    "del(s2)"
   ]
  },
  {
   "cell_type": "code",
   "execution_count": 72,
   "id": "c7cf4bd2",
   "metadata": {},
   "outputs": [
    {
     "ename": "NameError",
     "evalue": "name 's2' is not defined",
     "output_type": "error",
     "traceback": [
      "\u001b[0;31m---------------------------------------------------------------------------\u001b[0m",
      "\u001b[0;31mNameError\u001b[0m                                 Traceback (most recent call last)",
      "Input \u001b[0;32mIn [72]\u001b[0m, in \u001b[0;36m<cell line: 1>\u001b[0;34m()\u001b[0m\n\u001b[0;32m----> 1\u001b[0m \u001b[43ms2\u001b[49m\u001b[38;5;241m.\u001b[39mdisplaystudent()\n",
      "\u001b[0;31mNameError\u001b[0m: name 's2' is not defined"
     ]
    }
   ],
   "source": [
    "s2.displaystudent() #bcoz we deleted s2 object"
   ]
  },
  {
   "cell_type": "code",
   "execution_count": 75,
   "id": "df1ac8ff",
   "metadata": {},
   "outputs": [],
   "source": [
    "# getattr()\n",
    "# setattr()"
   ]
  },
  {
   "cell_type": "code",
   "execution_count": 76,
   "id": "8990f0d3",
   "metadata": {},
   "outputs": [
    {
     "name": "stdout",
     "output_type": "stream",
     "text": [
      "Arc\n",
      "98\n"
     ]
    }
   ],
   "source": [
    "class Student:\n",
    "    marks = 98\n",
    "    name = 'Arc'\n",
    "\n",
    "s = Student()\n",
    "\n",
    "name = getattr(s, 'name')\n",
    "print(name)\n",
    "\n",
    "marks = getattr(s, 'marks')\n",
    "print(marks)"
   ]
  },
  {
   "cell_type": "code",
   "execution_count": 77,
   "id": "bdcd92bb",
   "metadata": {},
   "outputs": [
    {
     "name": "stdout",
     "output_type": "stream",
     "text": [
      "Arc\n",
      "99\n"
     ]
    }
   ],
   "source": [
    "class Student:\n",
    "  marks = 88\n",
    "  name = 'Sheeran'\n",
    "\n",
    "s = Student()\n",
    "\n",
    "# set value of name to Arc\n",
    "setattr(s, 'name', 'Arc')\n",
    "print(s.name)\n",
    "\n",
    "# set value of marks to 99\n",
    "setattr(s, 'marks', 99)\n",
    "print(s.marks)"
   ]
  },
  {
   "cell_type": "code",
   "execution_count": null,
   "id": "c5d73038",
   "metadata": {},
   "outputs": [],
   "source": []
  },
  {
   "cell_type": "code",
   "execution_count": null,
   "id": "e9c87928",
   "metadata": {},
   "outputs": [],
   "source": []
  }
 ],
 "metadata": {
  "kernelspec": {
   "display_name": "Python 3 (ipykernel)",
   "language": "python",
   "name": "python3"
  },
  "language_info": {
   "codemirror_mode": {
    "name": "ipython",
    "version": 3
   },
   "file_extension": ".py",
   "mimetype": "text/x-python",
   "name": "python",
   "nbconvert_exporter": "python",
   "pygments_lexer": "ipython3",
   "version": "3.9.7"
  }
 },
 "nbformat": 4,
 "nbformat_minor": 5
}
