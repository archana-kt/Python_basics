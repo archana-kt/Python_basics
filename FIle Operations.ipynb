{
 "cells": [
  {
   "cell_type": "markdown",
   "id": "65a352f7",
   "metadata": {},
   "source": [
    "# File Operations"
   ]
  },
  {
   "cell_type": "code",
   "execution_count": 1,
   "id": "23659ce7",
   "metadata": {},
   "outputs": [],
   "source": [
    "# In general, this is called reading the value"
   ]
  },
  {
   "cell_type": "code",
   "execution_count": 3,
   "id": "c978a8ed",
   "metadata": {},
   "outputs": [
    {
     "name": "stdout",
     "output_type": "stream",
     "text": [
      "Enter the number5\n"
     ]
    }
   ],
   "source": [
    "x = int(input(\"Enter the number\"))"
   ]
  },
  {
   "cell_type": "code",
   "execution_count": 4,
   "id": "9ed2cb2e",
   "metadata": {},
   "outputs": [
    {
     "data": {
      "text/plain": [
       "5"
      ]
     },
     "execution_count": 4,
     "metadata": {},
     "output_type": "execute_result"
    }
   ],
   "source": [
    "x"
   ]
  },
  {
   "cell_type": "code",
   "execution_count": 5,
   "id": "eca1abdb",
   "metadata": {},
   "outputs": [],
   "source": [
    "# THis is called writing the value"
   ]
  },
  {
   "cell_type": "code",
   "execution_count": 6,
   "id": "b0c9faae",
   "metadata": {},
   "outputs": [
    {
     "name": "stdout",
     "output_type": "stream",
     "text": [
      "5\n"
     ]
    }
   ],
   "source": [
    "print(x)"
   ]
  },
  {
   "cell_type": "code",
   "execution_count": 7,
   "id": "b5c572f0",
   "metadata": {},
   "outputs": [],
   "source": [
    "# This is called Input/Output operation"
   ]
  },
  {
   "cell_type": "markdown",
   "id": "6a910480",
   "metadata": {},
   "source": [
    "## File Handling"
   ]
  },
  {
   "cell_type": "code",
   "execution_count": 9,
   "id": "7d9c0d13",
   "metadata": {},
   "outputs": [],
   "source": [
    "# To store permanently"
   ]
  },
  {
   "cell_type": "raw",
   "id": "e85fcc89",
   "metadata": {},
   "source": [
    "The file handling plays an important role, when the data needs to be stored permanently into a file. A file is a named location on the disk to store the related information"
   ]
  },
  {
   "cell_type": "raw",
   "id": "4270a39d",
   "metadata": {},
   "source": [
    "We can access the stored information(non-volatile) after the termination of the program"
   ]
  },
  {
   "cell_type": "code",
   "execution_count": 10,
   "id": "e1d94bdb",
   "metadata": {},
   "outputs": [
    {
     "data": {
      "text/plain": [
       "5"
      ]
     },
     "execution_count": 10,
     "metadata": {},
     "output_type": "execute_result"
    }
   ],
   "source": [
    "x"
   ]
  },
  {
   "cell_type": "code",
   "execution_count": 11,
   "id": "4983f657",
   "metadata": {},
   "outputs": [],
   "source": [
    "del(x)"
   ]
  },
  {
   "cell_type": "code",
   "execution_count": 12,
   "id": "76ec419c",
   "metadata": {},
   "outputs": [
    {
     "ename": "NameError",
     "evalue": "name 'x' is not defined",
     "output_type": "error",
     "traceback": [
      "\u001b[0;31m---------------------------------------------------------------------------\u001b[0m",
      "\u001b[0;31mNameError\u001b[0m                                 Traceback (most recent call last)",
      "\u001b[0;32m/var/folders/5f/zvvxs6012zn4htwxbbkh2mvh0000gn/T/ipykernel_810/32546335.py\u001b[0m in \u001b[0;36m<cell line: 1>\u001b[0;34m()\u001b[0m\n\u001b[0;32m----> 1\u001b[0;31m \u001b[0mx\u001b[0m\u001b[0;34m\u001b[0m\u001b[0;34m\u001b[0m\u001b[0m\n\u001b[0m",
      "\u001b[0;31mNameError\u001b[0m: name 'x' is not defined"
     ]
    }
   ],
   "source": [
    "x"
   ]
  },
  {
   "cell_type": "code",
   "execution_count": 13,
   "id": "1c80ac86",
   "metadata": {},
   "outputs": [],
   "source": [
    "# See we cannot retrieve. Instead we can store this in file"
   ]
  },
  {
   "cell_type": "markdown",
   "id": "f8fc763c",
   "metadata": {},
   "source": [
    "## Operations of the file"
   ]
  },
  {
   "cell_type": "raw",
   "id": "41a55100",
   "metadata": {},
   "source": [
    "-> Open\n",
    "-> Read / Write (operations)\n",
    "-> Close"
   ]
  },
  {
   "cell_type": "markdown",
   "id": "818b1de0",
   "metadata": {},
   "source": [
    "## <font color='red'> Open"
   ]
  },
  {
   "cell_type": "code",
   "execution_count": 14,
   "id": "b39babd4",
   "metadata": {},
   "outputs": [],
   "source": [
    "open?"
   ]
  },
  {
   "cell_type": "raw",
   "id": "d5e53304",
   "metadata": {},
   "source": [
    "Signature:\n",
    "open(\n",
    "    file,\n",
    "    mode='r',\n",
    "    buffering=-1,\n",
    "    encoding=None,\n",
    "    errors=None,\n",
    "    newline=None,\n",
    "    closefd=True,\n",
    "    opener=None,\n",
    ")\n",
    "Docstring:\n",
    "Open file and return a stream.  Raise OSError upon failure.\n",
    "\n",
    "file is either a text or byte string giving the name (and the path\n",
    "if the file isn't in the current working directory) of the file to\n",
    "be opened or an integer file descriptor of the file to be\n",
    "wrapped. (If a file descriptor is given, it is closed when the\n",
    "returned I/O object is closed, unless closefd is set to False.)\n",
    "\n",
    "mode is an optional string that specifies the mode in which the file\n",
    "is opened. It defaults to 'r' which means open for reading in text\n",
    "mode.  Other common values are 'w' for writing (truncating the file if\n",
    "it already exists), 'x' for creating and writing to a new file, and\n",
    "'a' for appending (which on some Unix systems, means that all writes\n",
    "append to the end of the file regardless of the current seek position).\n",
    "In text mode, if encoding is not specified the encoding used is platform\n",
    "dependent: locale.getpreferredencoding(False) is called to get the\n",
    "current locale encoding. (For reading and writing raw bytes use binary\n",
    "mode and leave encoding unspecified.) The available modes are:\n",
    "\n",
    "========= ===============================================================\n",
    "Character Meaning\n",
    "--------- ---------------------------------------------------------------\n",
    "'r'       open for reading (default)\n",
    "'w'       open for writing, truncating the file first\n",
    "'x'       create a new file and open it for writing\n",
    "'a'       open for writing, appending to the end of the file if it exists\n",
    "'b'       binary mode\n",
    "'t'       text mode (default)\n",
    "'+'       open a disk file for updating (reading and writing)\n",
    "'U'       universal newline mode (deprecated)\n",
    "========= ===============================================================\n",
    "\n",
    "The default mode is 'rt' (open for reading text). For binary random\n",
    "access, the mode 'w+b' opens and truncates the file to 0 bytes, while\n",
    "'r+b' opens the file without truncation. The 'x' mode implies 'w' and\n",
    "raises an `FileExistsError` if the file already exists.\n",
    "\n",
    "Python distinguishes between files opened in binary and text modes,\n",
    "even when the underlying operating system doesn't. Files opened in\n",
    "binary mode (appending 'b' to the mode argument) return contents as\n",
    "bytes objects without any decoding. In text mode (the default, or when\n",
    "'t' is appended to the mode argument), the contents of the file are\n",
    "returned as strings, the bytes having been first decoded using a\n",
    "platform-dependent encoding or using the specified encoding if given.\n",
    "\n",
    "'U' mode is deprecated and will raise an exception in future versions\n",
    "of Python.  It has no effect in Python 3.  Use newline to control\n",
    "universal newlines mode.\n",
    "\n",
    "buffering is an optional integer used to set the buffering policy.\n",
    "Pass 0 to switch buffering off (only allowed in binary mode), 1 to select\n",
    "line buffering (only usable in text mode), and an integer > 1 to indicate\n",
    "the size of a fixed-size chunk buffer.  When no buffering argument is\n",
    "given, the default buffering policy works as follows:\n",
    "\n",
    "* Binary files are buffered in fixed-size chunks; the size of the buffer\n",
    "  is chosen using a heuristic trying to determine the underlying device's\n",
    "  \"block size\" and falling back on `io.DEFAULT_BUFFER_SIZE`.\n",
    "  On many systems, the buffer will typically be 4096 or 8192 bytes long.\n",
    "\n",
    "* \"Interactive\" text files (files for which isatty() returns True)\n",
    "  use line buffering.  Other text files use the policy described above\n",
    "  for binary files.\n",
    "\n",
    "encoding is the name of the encoding used to decode or encode the\n",
    "file. This should only be used in text mode. The default encoding is\n",
    "platform dependent, but any encoding supported by Python can be\n",
    "passed.  See the codecs module for the list of supported encodings.\n",
    "\n",
    "errors is an optional string that specifies how encoding errors are to\n",
    "be handled---this argument should not be used in binary mode. Pass\n",
    "'strict' to raise a ValueError exception if there is an encoding error\n",
    "(the default of None has the same effect), or pass 'ignore' to ignore\n",
    "errors. (Note that ignoring encoding errors can lead to data loss.)\n",
    "See the documentation for codecs.register or run 'help(codecs.Codec)'\n",
    "for a list of the permitted encoding error strings.\n",
    "\n",
    "newline controls how universal newlines works (it only applies to text\n",
    "mode). It can be None, '', '\\n', '\\r', and '\\r\\n'.  It works as\n",
    "follows:\n",
    "\n",
    "* On input, if newline is None, universal newlines mode is\n",
    "  enabled. Lines in the input can end in '\\n', '\\r', or '\\r\\n', and\n",
    "  these are translated into '\\n' before being returned to the\n",
    "  caller. If it is '', universal newline mode is enabled, but line\n",
    "  endings are returned to the caller untranslated. If it has any of\n",
    "  the other legal values, input lines are only terminated by the given\n",
    "  string, and the line ending is returned to the caller untranslated.\n",
    "\n",
    "* On output, if newline is None, any '\\n' characters written are\n",
    "  translated to the system default line separator, os.linesep. If\n",
    "  newline is '' or '\\n', no translation takes place. If newline is any\n",
    "  of the other legal values, any '\\n' characters written are translated\n",
    "  to the given string.\n",
    "\n",
    "If closefd is False, the underlying file descriptor will be kept open\n",
    "when the file is closed. This does not work when a file name is given\n",
    "and must be True in that case.\n",
    "\n",
    "A custom opener can be used by passing a callable as *opener*. The\n",
    "underlying file descriptor for the file object is then obtained by\n",
    "calling *opener* with (*file*, *flags*). *opener* must return an open\n",
    "file descriptor (passing os.open as *opener* results in functionality\n",
    "similar to passing None).\n",
    "\n",
    "open() returns a file object whose type depends on the mode, and\n",
    "through which the standard file operations such as reading and writing\n",
    "are performed. When open() is used to open a file in a text mode ('w',\n",
    "'r', 'wt', 'rt', etc.), it returns a TextIOWrapper. When used to open\n",
    "a file in a binary mode, the returned class varies: in read binary\n",
    "mode, it returns a BufferedReader; in write binary and append binary\n",
    "modes, it returns a BufferedWriter, and in read/write mode, it returns\n",
    "a BufferedRandom.\n",
    "\n",
    "It is also possible to use a string or bytearray as a file for both\n",
    "reading and writing. For strings StringIO can be used like a file\n",
    "opened in a text mode, and for bytes a BytesIO can be used like a file\n",
    "opened in a binary mode."
   ]
  },
  {
   "cell_type": "code",
   "execution_count": 15,
   "id": "37bf03e6",
   "metadata": {},
   "outputs": [],
   "source": [
    "# file_obj = open(<filename>,<Access mode>)"
   ]
  },
  {
   "cell_type": "code",
   "execution_count": 16,
   "id": "74deabd0",
   "metadata": {},
   "outputs": [],
   "source": [
    "x = open('/Users/archanaqueen/Desktop/sample.txt','w') # if mode didn't give means it take read mode"
   ]
  },
  {
   "cell_type": "code",
   "execution_count": 17,
   "id": "9cfb0b2d",
   "metadata": {},
   "outputs": [
    {
     "data": {
      "text/plain": [
       "'/Users/archanaqueen/Desktop/sample.txt'"
      ]
     },
     "execution_count": 17,
     "metadata": {},
     "output_type": "execute_result"
    }
   ],
   "source": [
    "x.name"
   ]
  },
  {
   "cell_type": "code",
   "execution_count": 18,
   "id": "9ffec232",
   "metadata": {},
   "outputs": [
    {
     "data": {
      "text/plain": [
       "'w'"
      ]
     },
     "execution_count": 18,
     "metadata": {},
     "output_type": "execute_result"
    }
   ],
   "source": [
    "x.mode"
   ]
  },
  {
   "cell_type": "code",
   "execution_count": 19,
   "id": "6165b751",
   "metadata": {},
   "outputs": [
    {
     "data": {
      "text/plain": [
       "False"
      ]
     },
     "execution_count": 19,
     "metadata": {},
     "output_type": "execute_result"
    }
   ],
   "source": [
    "x.closed # it is not yet closed"
   ]
  },
  {
   "cell_type": "code",
   "execution_count": 20,
   "id": "a9577774",
   "metadata": {},
   "outputs": [],
   "source": [
    "# writing the data to the file"
   ]
  },
  {
   "cell_type": "markdown",
   "id": "3f514ce9",
   "metadata": {},
   "source": [
    "## <font color='red'> Write"
   ]
  },
  {
   "cell_type": "code",
   "execution_count": 21,
   "id": "c8444ae4",
   "metadata": {},
   "outputs": [
    {
     "data": {
      "text/plain": [
       "24"
      ]
     },
     "execution_count": 21,
     "metadata": {},
     "output_type": "execute_result"
    }
   ],
   "source": [
    "x.write(\"This is a sample content\") # 24 means, pointer is now in 24th position"
   ]
  },
  {
   "cell_type": "code",
   "execution_count": 22,
   "id": "dd8016c1",
   "metadata": {},
   "outputs": [],
   "source": [
    "# After closing only the content written inside the txt file"
   ]
  },
  {
   "cell_type": "code",
   "execution_count": 23,
   "id": "e347403e",
   "metadata": {},
   "outputs": [],
   "source": [
    "x.close()"
   ]
  },
  {
   "cell_type": "code",
   "execution_count": 24,
   "id": "6b4262cd",
   "metadata": {},
   "outputs": [
    {
     "data": {
      "text/plain": [
       "True"
      ]
     },
     "execution_count": 24,
     "metadata": {},
     "output_type": "execute_result"
    }
   ],
   "source": [
    "x.closed"
   ]
  },
  {
   "cell_type": "code",
   "execution_count": 25,
   "id": "ec6c0b0b",
   "metadata": {},
   "outputs": [
    {
     "data": {
      "text/plain": [
       "<_io.TextIOWrapper name='/Users/archanaqueen/Desktop/sample.txt' mode='w' encoding='UTF-8'>"
      ]
     },
     "execution_count": 25,
     "metadata": {},
     "output_type": "execute_result"
    }
   ],
   "source": [
    "x"
   ]
  },
  {
   "cell_type": "code",
   "execution_count": 26,
   "id": "da99f781",
   "metadata": {},
   "outputs": [],
   "source": [
    "# THis is in write mode, we can't write. To read that,"
   ]
  },
  {
   "cell_type": "markdown",
   "id": "83cf2ca1",
   "metadata": {},
   "source": [
    "## <font color='red'> Read"
   ]
  },
  {
   "cell_type": "code",
   "execution_count": 27,
   "id": "61147fe6",
   "metadata": {},
   "outputs": [],
   "source": [
    "x = open('/Users/archanaqueen/Desktop/sample.txt')"
   ]
  },
  {
   "cell_type": "code",
   "execution_count": 28,
   "id": "4f2a79d8",
   "metadata": {},
   "outputs": [
    {
     "data": {
      "text/plain": [
       "'/Users/archanaqueen/Desktop/sample.txt'"
      ]
     },
     "execution_count": 28,
     "metadata": {},
     "output_type": "execute_result"
    }
   ],
   "source": [
    "x.name"
   ]
  },
  {
   "cell_type": "code",
   "execution_count": 29,
   "id": "7b767eae",
   "metadata": {},
   "outputs": [
    {
     "data": {
      "text/plain": [
       "'r'"
      ]
     },
     "execution_count": 29,
     "metadata": {},
     "output_type": "execute_result"
    }
   ],
   "source": [
    "x.mode"
   ]
  },
  {
   "cell_type": "code",
   "execution_count": 30,
   "id": "5719f463",
   "metadata": {},
   "outputs": [],
   "source": [
    "x = open('/Users/archanaqueen/Desktop/sample.txt','r')"
   ]
  },
  {
   "cell_type": "code",
   "execution_count": 31,
   "id": "d2c98cf0",
   "metadata": {},
   "outputs": [
    {
     "data": {
      "text/plain": [
       "'r'"
      ]
     },
     "execution_count": 31,
     "metadata": {},
     "output_type": "execute_result"
    }
   ],
   "source": [
    "x.mode"
   ]
  },
  {
   "cell_type": "code",
   "execution_count": 32,
   "id": "4250ddaa",
   "metadata": {},
   "outputs": [
    {
     "data": {
      "text/plain": [
       "False"
      ]
     },
     "execution_count": 32,
     "metadata": {},
     "output_type": "execute_result"
    }
   ],
   "source": [
    "x.closed"
   ]
  },
  {
   "cell_type": "code",
   "execution_count": 33,
   "id": "5e76e909",
   "metadata": {},
   "outputs": [
    {
     "data": {
      "text/plain": [
       "'This is a sample content'"
      ]
     },
     "execution_count": 33,
     "metadata": {},
     "output_type": "execute_result"
    }
   ],
   "source": [
    "x.read()"
   ]
  },
  {
   "cell_type": "code",
   "execution_count": 34,
   "id": "b228597e",
   "metadata": {},
   "outputs": [],
   "source": [
    "x.close()"
   ]
  },
  {
   "cell_type": "code",
   "execution_count": 35,
   "id": "46177549",
   "metadata": {},
   "outputs": [
    {
     "data": {
      "text/plain": [
       "True"
      ]
     },
     "execution_count": 35,
     "metadata": {},
     "output_type": "execute_result"
    }
   ],
   "source": [
    "x.closed"
   ]
  },
  {
   "cell_type": "code",
   "execution_count": 36,
   "id": "5cdec6ea",
   "metadata": {},
   "outputs": [],
   "source": [
    "# 'r' mode open the file to read only mode. The file pointer exits at the beginning "
   ]
  },
  {
   "cell_type": "markdown",
   "id": "4d073e00",
   "metadata": {},
   "source": [
    "## <font color='red'> With Open"
   ]
  },
  {
   "cell_type": "code",
   "execution_count": 39,
   "id": "50e9ee24",
   "metadata": {},
   "outputs": [],
   "source": [
    "with open('/Users/archanaqueen/Desktop/sample2.txt','w') as fp:\n",
    "    fp.write('Python is simple programming language')"
   ]
  },
  {
   "cell_type": "code",
   "execution_count": 40,
   "id": "759087c9",
   "metadata": {},
   "outputs": [
    {
     "data": {
      "text/plain": [
       "'/Users/archanaqueen/Desktop/sample2.txt'"
      ]
     },
     "execution_count": 40,
     "metadata": {},
     "output_type": "execute_result"
    }
   ],
   "source": [
    "fp.name"
   ]
  },
  {
   "cell_type": "code",
   "execution_count": 41,
   "id": "4f2623c1",
   "metadata": {},
   "outputs": [
    {
     "data": {
      "text/plain": [
       "'w'"
      ]
     },
     "execution_count": 41,
     "metadata": {},
     "output_type": "execute_result"
    }
   ],
   "source": [
    "fp.mode"
   ]
  },
  {
   "cell_type": "code",
   "execution_count": 42,
   "id": "eef3e441",
   "metadata": {},
   "outputs": [
    {
     "data": {
      "text/plain": [
       "True"
      ]
     },
     "execution_count": 42,
     "metadata": {},
     "output_type": "execute_result"
    }
   ],
   "source": [
    "fp.closed"
   ]
  },
  {
   "cell_type": "code",
   "execution_count": 43,
   "id": "b3eb4dad",
   "metadata": {},
   "outputs": [],
   "source": [
    "# See by using with open, the file get closed automatically. With open is considered as block"
   ]
  },
  {
   "cell_type": "code",
   "execution_count": 45,
   "id": "070447a7",
   "metadata": {},
   "outputs": [],
   "source": [
    "with open('/Users/archanaqueen/Desktop/sample2.txt','r') as x:\n",
    "    x.read()"
   ]
  },
  {
   "cell_type": "code",
   "execution_count": 46,
   "id": "6f3b9b6b",
   "metadata": {},
   "outputs": [],
   "source": [
    "# THis will never print"
   ]
  },
  {
   "cell_type": "code",
   "execution_count": 47,
   "id": "008892c7",
   "metadata": {},
   "outputs": [
    {
     "data": {
      "text/plain": [
       "'/Users/archanaqueen/Desktop/sample2.txt'"
      ]
     },
     "execution_count": 47,
     "metadata": {},
     "output_type": "execute_result"
    }
   ],
   "source": [
    "x.name"
   ]
  },
  {
   "cell_type": "code",
   "execution_count": 48,
   "id": "f83f1360",
   "metadata": {},
   "outputs": [
    {
     "data": {
      "text/plain": [
       "'r'"
      ]
     },
     "execution_count": 48,
     "metadata": {},
     "output_type": "execute_result"
    }
   ],
   "source": [
    "x.mode"
   ]
  },
  {
   "cell_type": "code",
   "execution_count": 49,
   "id": "ae3f4644",
   "metadata": {},
   "outputs": [
    {
     "data": {
      "text/plain": [
       "True"
      ]
     },
     "execution_count": 49,
     "metadata": {},
     "output_type": "execute_result"
    }
   ],
   "source": [
    "x.closed"
   ]
  },
  {
   "cell_type": "code",
   "execution_count": 50,
   "id": "a48e8c6e",
   "metadata": {},
   "outputs": [],
   "source": [
    "# To print the content, we need to give print"
   ]
  },
  {
   "cell_type": "code",
   "execution_count": 51,
   "id": "6691770c",
   "metadata": {},
   "outputs": [
    {
     "name": "stdout",
     "output_type": "stream",
     "text": [
      "Python is simple programming language\n"
     ]
    }
   ],
   "source": [
    "with open('/Users/archanaqueen/Desktop/sample2.txt','r') as x:\n",
    "    print(x.read())"
   ]
  },
  {
   "cell_type": "markdown",
   "id": "4870ceb7",
   "metadata": {},
   "source": [
    "## <font color='red'> mode"
   ]
  },
  {
   "cell_type": "raw",
   "id": "f7d40ab3",
   "metadata": {},
   "source": [
    "# 'w' it opens the file to write only. It overwrites the file it previously exists or create a new file is no file exists with the same name. The file pointer exists at the beginning of the file."
   ]
  },
  {
   "cell_type": "code",
   "execution_count": 52,
   "id": "3ad6471c",
   "metadata": {},
   "outputs": [],
   "source": [
    "with open('/Users/archanaqueen/Desktop/sample2.txt','w') as fp:\n",
    "    fp.write('I am a Data Scientist')"
   ]
  },
  {
   "cell_type": "code",
   "execution_count": 53,
   "id": "868faf89",
   "metadata": {},
   "outputs": [
    {
     "data": {
      "text/plain": [
       "'/Users/archanaqueen/Desktop/sample2.txt'"
      ]
     },
     "execution_count": 53,
     "metadata": {},
     "output_type": "execute_result"
    }
   ],
   "source": [
    "fp.name"
   ]
  },
  {
   "cell_type": "code",
   "execution_count": 54,
   "id": "edd08d8b",
   "metadata": {},
   "outputs": [
    {
     "data": {
      "text/plain": [
       "'w'"
      ]
     },
     "execution_count": 54,
     "metadata": {},
     "output_type": "execute_result"
    }
   ],
   "source": [
    "fp.mode"
   ]
  },
  {
   "cell_type": "code",
   "execution_count": 55,
   "id": "08cc7612",
   "metadata": {},
   "outputs": [
    {
     "data": {
      "text/plain": [
       "True"
      ]
     },
     "execution_count": 55,
     "metadata": {},
     "output_type": "execute_result"
    }
   ],
   "source": [
    "fp.closed"
   ]
  },
  {
   "cell_type": "code",
   "execution_count": 56,
   "id": "9e93ada3",
   "metadata": {},
   "outputs": [],
   "source": [
    "# Now see the file, it overwrites the previous content"
   ]
  },
  {
   "cell_type": "markdown",
   "id": "ac497ea1",
   "metadata": {},
   "source": [
    "## To overcome this, we go for append mode"
   ]
  },
  {
   "cell_type": "raw",
   "id": "bb399a16",
   "metadata": {},
   "source": [
    "a is a append mode. It opens the file in append mode, file pointer exists at the end of previously written file. It create a new file if no file exists with the same name"
   ]
  },
  {
   "cell_type": "code",
   "execution_count": 57,
   "id": "da8d2859",
   "metadata": {},
   "outputs": [],
   "source": [
    "with open('/Users/archanaqueen/Desktop/sample2.txt','a') as fp:\n",
    "    fp.write('I will get a job as a Data Scientist')"
   ]
  },
  {
   "cell_type": "code",
   "execution_count": 58,
   "id": "8e41153b",
   "metadata": {},
   "outputs": [
    {
     "data": {
      "text/plain": [
       "'/Users/archanaqueen/Desktop/sample2.txt'"
      ]
     },
     "execution_count": 58,
     "metadata": {},
     "output_type": "execute_result"
    }
   ],
   "source": [
    "fp.name"
   ]
  },
  {
   "cell_type": "code",
   "execution_count": 59,
   "id": "d4953951",
   "metadata": {},
   "outputs": [
    {
     "data": {
      "text/plain": [
       "'a'"
      ]
     },
     "execution_count": 59,
     "metadata": {},
     "output_type": "execute_result"
    }
   ],
   "source": [
    "fp.mode"
   ]
  },
  {
   "cell_type": "code",
   "execution_count": 60,
   "id": "2519c981",
   "metadata": {},
   "outputs": [
    {
     "data": {
      "text/plain": [
       "True"
      ]
     },
     "execution_count": 60,
     "metadata": {},
     "output_type": "execute_result"
    }
   ],
   "source": [
    "fp.closed"
   ]
  },
  {
   "cell_type": "markdown",
   "id": "6c436126",
   "metadata": {},
   "source": [
    "## <font color='red'> r+ w+"
   ]
  },
  {
   "cell_type": "code",
   "execution_count": 61,
   "id": "f8239eb2",
   "metadata": {},
   "outputs": [
    {
     "name": "stdout",
     "output_type": "stream",
     "text": [
      "I am a Data ScientistI will get a job as a Data Scientist\n"
     ]
    }
   ],
   "source": [
    "with open('/Users/archanaqueen/Desktop/sample2.txt','r') as fp:\n",
    "    print(fp.read())"
   ]
  },
  {
   "cell_type": "code",
   "execution_count": 62,
   "id": "6cebda0a",
   "metadata": {},
   "outputs": [],
   "source": [
    "# r+"
   ]
  },
  {
   "cell_type": "code",
   "execution_count": 63,
   "id": "9f7532fc",
   "metadata": {},
   "outputs": [
    {
     "name": "stdout",
     "output_type": "stream",
     "text": [
      "I am a Data ScientistI will get a job as a Data Scientist\n"
     ]
    }
   ],
   "source": [
    "with open('/Users/archanaqueen/Desktop/sample2.txt','r+') as fp:\n",
    "    print(fp.read())"
   ]
  },
  {
   "cell_type": "code",
   "execution_count": 64,
   "id": "cf69dde5",
   "metadata": {},
   "outputs": [],
   "source": [
    "# Now by giving w+, it will delete the previous content and write the new content"
   ]
  },
  {
   "cell_type": "code",
   "execution_count": 65,
   "id": "f18915f7",
   "metadata": {},
   "outputs": [],
   "source": [
    "with open('/Users/archanaqueen/Desktop/sample2.txt','w+') as fp:\n",
    "    fp.write('Python is versatile')"
   ]
  },
  {
   "cell_type": "code",
   "execution_count": 66,
   "id": "46fb94c7",
   "metadata": {},
   "outputs": [
    {
     "name": "stdout",
     "output_type": "stream",
     "text": [
      "Python is versatile\n"
     ]
    }
   ],
   "source": [
    "with open('/Users/archanaqueen/Desktop/sample2.txt','r+') as fp:\n",
    "    print(fp.read())"
   ]
  },
  {
   "cell_type": "raw",
   "id": "875b84cb",
   "metadata": {},
   "source": [
    "# r+ mode open the file if it exists, while w+ mode also open the file but it deletes all the contents present in the file. The file pointer in both the case, present at the beginning of the file."
   ]
  },
  {
   "cell_type": "code",
   "execution_count": 67,
   "id": "0e20566e",
   "metadata": {},
   "outputs": [
    {
     "ename": "FileNotFoundError",
     "evalue": "[Errno 2] No such file or directory: '/Users/archanaqueen/Desktop/sample3.txt'",
     "output_type": "error",
     "traceback": [
      "\u001b[0;31m---------------------------------------------------------------------------\u001b[0m",
      "\u001b[0;31mFileNotFoundError\u001b[0m                         Traceback (most recent call last)",
      "\u001b[0;32m/var/folders/5f/zvvxs6012zn4htwxbbkh2mvh0000gn/T/ipykernel_810/546392683.py\u001b[0m in \u001b[0;36m<cell line: 1>\u001b[0;34m()\u001b[0m\n\u001b[0;32m----> 1\u001b[0;31m \u001b[0;32mwith\u001b[0m \u001b[0mopen\u001b[0m\u001b[0;34m(\u001b[0m\u001b[0;34m'/Users/archanaqueen/Desktop/sample3.txt'\u001b[0m\u001b[0;34m,\u001b[0m\u001b[0;34m'r+'\u001b[0m\u001b[0;34m)\u001b[0m \u001b[0;32mas\u001b[0m \u001b[0mfp\u001b[0m\u001b[0;34m:\u001b[0m\u001b[0;34m\u001b[0m\u001b[0;34m\u001b[0m\u001b[0m\n\u001b[0m\u001b[1;32m      2\u001b[0m     \u001b[0mprint\u001b[0m\u001b[0;34m(\u001b[0m\u001b[0mfp\u001b[0m\u001b[0;34m.\u001b[0m\u001b[0mread\u001b[0m\u001b[0;34m(\u001b[0m\u001b[0;34m)\u001b[0m\u001b[0;34m)\u001b[0m\u001b[0;34m\u001b[0m\u001b[0;34m\u001b[0m\u001b[0m\n",
      "\u001b[0;31mFileNotFoundError\u001b[0m: [Errno 2] No such file or directory: '/Users/archanaqueen/Desktop/sample3.txt'"
     ]
    }
   ],
   "source": [
    "with open('/Users/archanaqueen/Desktop/sample3.txt','r+') as fp:\n",
    "    print(fp.read())"
   ]
  },
  {
   "cell_type": "code",
   "execution_count": 70,
   "id": "61940962",
   "metadata": {},
   "outputs": [],
   "source": [
    "with open('/Users/archanaqueen/Desktop/sample3.txt','w+') as fp:\n",
    "    fp.write('Hi this is w+ mode. So no error')"
   ]
  },
  {
   "cell_type": "code",
   "execution_count": 71,
   "id": "5de46764",
   "metadata": {},
   "outputs": [],
   "source": [
    "# Here, we are not having the sample3 file. But w+ will create the file and write this content."
   ]
  },
  {
   "cell_type": "code",
   "execution_count": 72,
   "id": "51c08e5a",
   "metadata": {},
   "outputs": [
    {
     "name": "stdout",
     "output_type": "stream",
     "text": [
      "Hi this is w+ mode. So no error\n"
     ]
    }
   ],
   "source": [
    "with open('/Users/archanaqueen/Desktop/sample3.txt','r+') as fp:\n",
    "    print(fp.read())"
   ]
  }
 ],
 "metadata": {
  "kernelspec": {
   "display_name": "Python 3 (ipykernel)",
   "language": "python",
   "name": "python3"
  },
  "language_info": {
   "codemirror_mode": {
    "name": "ipython",
    "version": 3
   },
   "file_extension": ".py",
   "mimetype": "text/x-python",
   "name": "python",
   "nbconvert_exporter": "python",
   "pygments_lexer": "ipython3",
   "version": "3.9.7"
  }
 },
 "nbformat": 4,
 "nbformat_minor": 5
}
