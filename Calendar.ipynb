{
 "cells": [
  {
   "cell_type": "markdown",
   "id": "b297565e",
   "metadata": {},
   "source": [
    "# Calender"
   ]
  },
  {
   "cell_type": "code",
   "execution_count": 3,
   "id": "11e46cf3",
   "metadata": {},
   "outputs": [],
   "source": [
    "import calendar"
   ]
  },
  {
   "cell_type": "code",
   "execution_count": 7,
   "id": "2be302aa",
   "metadata": {},
   "outputs": [],
   "source": [
    "cal = calendar.Calendar(firstweekday = 0)"
   ]
  },
  {
   "cell_type": "code",
   "execution_count": 9,
   "id": "2cbd814e",
   "metadata": {},
   "outputs": [
    {
     "data": {
      "text/plain": [
       "0"
      ]
     },
     "execution_count": 9,
     "metadata": {},
     "output_type": "execute_result"
    }
   ],
   "source": [
    "cal.getfirstweekday()"
   ]
  },
  {
   "cell_type": "code",
   "execution_count": 11,
   "id": "8ac2c2b7",
   "metadata": {},
   "outputs": [],
   "source": [
    "cal.itermonthdates?"
   ]
  },
  {
   "cell_type": "raw",
   "id": "06fc34ea",
   "metadata": {},
   "source": [
    "Signature: cal.itermonthdates(year, month)\n",
    "Docstring:\n",
    "Return an iterator for one month. The iterator will yield datetime.date\n",
    "values and will always iterate through complete weeks, so it will yield\n",
    "dates outside the specified month.\n",
    "File:      ~/opt/anaconda3/lib/python3.9/calendar.py\n",
    "Type:      method"
   ]
  },
  {
   "cell_type": "code",
   "execution_count": 12,
   "id": "fb518457",
   "metadata": {},
   "outputs": [
    {
     "data": {
      "text/plain": [
       "<generator object Calendar.itermonthdates at 0x7fc5a2a11270>"
      ]
     },
     "execution_count": 12,
     "metadata": {},
     "output_type": "execute_result"
    }
   ],
   "source": [
    "cal.itermonthdates(2023,8)"
   ]
  },
  {
   "cell_type": "code",
   "execution_count": 14,
   "id": "8fa25bad",
   "metadata": {},
   "outputs": [
    {
     "name": "stdout",
     "output_type": "stream",
     "text": [
      "2023-07-31\n",
      "2023-08-01\n",
      "2023-08-02\n",
      "2023-08-03\n",
      "2023-08-04\n",
      "2023-08-05\n",
      "2023-08-06\n",
      "2023-08-07\n",
      "2023-08-08\n",
      "2023-08-09\n",
      "2023-08-10\n",
      "2023-08-11\n",
      "2023-08-12\n",
      "2023-08-13\n",
      "2023-08-14\n",
      "2023-08-15\n",
      "2023-08-16\n",
      "2023-08-17\n",
      "2023-08-18\n",
      "2023-08-19\n",
      "2023-08-20\n",
      "2023-08-21\n",
      "2023-08-22\n",
      "2023-08-23\n",
      "2023-08-24\n",
      "2023-08-25\n",
      "2023-08-26\n",
      "2023-08-27\n",
      "2023-08-28\n",
      "2023-08-29\n",
      "2023-08-30\n",
      "2023-08-31\n",
      "2023-09-01\n",
      "2023-09-02\n",
      "2023-09-03\n"
     ]
    }
   ],
   "source": [
    "for i in cal.itermonthdates(2023,8):\n",
    "    print(i)"
   ]
  },
  {
   "cell_type": "code",
   "execution_count": 16,
   "id": "3b11cc37",
   "metadata": {},
   "outputs": [
    {
     "data": {
      "text/plain": [
       "<generator object Calendar.itermonthdays at 0x7fc5a258fdd0>"
      ]
     },
     "execution_count": 16,
     "metadata": {},
     "output_type": "execute_result"
    }
   ],
   "source": [
    "cal.itermonthdays(2023,8)"
   ]
  },
  {
   "cell_type": "code",
   "execution_count": 17,
   "id": "5679f292",
   "metadata": {},
   "outputs": [
    {
     "name": "stdout",
     "output_type": "stream",
     "text": [
      "0\n",
      "1\n",
      "2\n",
      "3\n",
      "4\n",
      "5\n",
      "6\n",
      "7\n",
      "8\n",
      "9\n",
      "10\n",
      "11\n",
      "12\n",
      "13\n",
      "14\n",
      "15\n",
      "16\n",
      "17\n",
      "18\n",
      "19\n",
      "20\n",
      "21\n",
      "22\n",
      "23\n",
      "24\n",
      "25\n",
      "26\n",
      "27\n",
      "28\n",
      "29\n",
      "30\n",
      "31\n",
      "0\n",
      "0\n",
      "0\n"
     ]
    }
   ],
   "source": [
    "for i in cal.itermonthdays(2023,8):\n",
    "    print(i)"
   ]
  },
  {
   "cell_type": "code",
   "execution_count": 19,
   "id": "9fcd322d",
   "metadata": {},
   "outputs": [
    {
     "name": "stdout",
     "output_type": "stream",
     "text": [
      "(0, 0)\n",
      "(1, 1)\n",
      "(2, 2)\n",
      "(3, 3)\n",
      "(4, 4)\n",
      "(5, 5)\n",
      "(6, 6)\n",
      "(7, 0)\n",
      "(8, 1)\n",
      "(9, 2)\n",
      "(10, 3)\n",
      "(11, 4)\n",
      "(12, 5)\n",
      "(13, 6)\n",
      "(14, 0)\n",
      "(15, 1)\n",
      "(16, 2)\n",
      "(17, 3)\n",
      "(18, 4)\n",
      "(19, 5)\n",
      "(20, 6)\n",
      "(21, 0)\n",
      "(22, 1)\n",
      "(23, 2)\n",
      "(24, 3)\n",
      "(25, 4)\n",
      "(26, 5)\n",
      "(27, 6)\n",
      "(28, 0)\n",
      "(29, 1)\n",
      "(30, 2)\n",
      "(31, 3)\n",
      "(0, 4)\n",
      "(0, 5)\n",
      "(0, 6)\n"
     ]
    }
   ],
   "source": [
    "for i in cal.itermonthdays2(2023,8):\n",
    "    print(i)"
   ]
  },
  {
   "cell_type": "code",
   "execution_count": 21,
   "id": "affe31e3",
   "metadata": {},
   "outputs": [
    {
     "data": {
      "text/plain": [
       "[[datetime.date(2023, 7, 31),\n",
       "  datetime.date(2023, 8, 1),\n",
       "  datetime.date(2023, 8, 2),\n",
       "  datetime.date(2023, 8, 3),\n",
       "  datetime.date(2023, 8, 4),\n",
       "  datetime.date(2023, 8, 5),\n",
       "  datetime.date(2023, 8, 6)],\n",
       " [datetime.date(2023, 8, 7),\n",
       "  datetime.date(2023, 8, 8),\n",
       "  datetime.date(2023, 8, 9),\n",
       "  datetime.date(2023, 8, 10),\n",
       "  datetime.date(2023, 8, 11),\n",
       "  datetime.date(2023, 8, 12),\n",
       "  datetime.date(2023, 8, 13)],\n",
       " [datetime.date(2023, 8, 14),\n",
       "  datetime.date(2023, 8, 15),\n",
       "  datetime.date(2023, 8, 16),\n",
       "  datetime.date(2023, 8, 17),\n",
       "  datetime.date(2023, 8, 18),\n",
       "  datetime.date(2023, 8, 19),\n",
       "  datetime.date(2023, 8, 20)],\n",
       " [datetime.date(2023, 8, 21),\n",
       "  datetime.date(2023, 8, 22),\n",
       "  datetime.date(2023, 8, 23),\n",
       "  datetime.date(2023, 8, 24),\n",
       "  datetime.date(2023, 8, 25),\n",
       "  datetime.date(2023, 8, 26),\n",
       "  datetime.date(2023, 8, 27)],\n",
       " [datetime.date(2023, 8, 28),\n",
       "  datetime.date(2023, 8, 29),\n",
       "  datetime.date(2023, 8, 30),\n",
       "  datetime.date(2023, 8, 31),\n",
       "  datetime.date(2023, 9, 1),\n",
       "  datetime.date(2023, 9, 2),\n",
       "  datetime.date(2023, 9, 3)]]"
      ]
     },
     "execution_count": 21,
     "metadata": {},
     "output_type": "execute_result"
    }
   ],
   "source": [
    "cal.monthdatescalendar(2023,8)"
   ]
  },
  {
   "cell_type": "code",
   "execution_count": 23,
   "id": "ac69515d",
   "metadata": {},
   "outputs": [
    {
     "data": {
      "text/plain": [
       "<generator object Calendar.iterweekdays at 0x7fc5a2ae9120>"
      ]
     },
     "execution_count": 23,
     "metadata": {},
     "output_type": "execute_result"
    }
   ],
   "source": [
    "cal.iterweekdays()"
   ]
  },
  {
   "cell_type": "code",
   "execution_count": 24,
   "id": "e787752a",
   "metadata": {},
   "outputs": [
    {
     "name": "stdout",
     "output_type": "stream",
     "text": [
      "0\n",
      "1\n",
      "2\n",
      "3\n",
      "4\n",
      "5\n",
      "6\n"
     ]
    }
   ],
   "source": [
    "for i in cal.iterweekdays():\n",
    "    print(i)"
   ]
  },
  {
   "cell_type": "code",
   "execution_count": 28,
   "id": "1663c4c2",
   "metadata": {},
   "outputs": [
    {
     "data": {
      "text/plain": [
       "[[(0, 0), (1, 1), (2, 2), (3, 3), (4, 4), (5, 5), (6, 6)],\n",
       " [(7, 0), (8, 1), (9, 2), (10, 3), (11, 4), (12, 5), (13, 6)],\n",
       " [(14, 0), (15, 1), (16, 2), (17, 3), (18, 4), (19, 5), (20, 6)],\n",
       " [(21, 0), (22, 1), (23, 2), (24, 3), (25, 4), (26, 5), (27, 6)],\n",
       " [(28, 0), (29, 1), (30, 2), (31, 3), (0, 4), (0, 5), (0, 6)]]"
      ]
     },
     "execution_count": 28,
     "metadata": {},
     "output_type": "execute_result"
    }
   ],
   "source": [
    "cal.monthdays2calendar(2023,8)"
   ]
  }
 ],
 "metadata": {
  "kernelspec": {
   "display_name": "Python 3 (ipykernel)",
   "language": "python",
   "name": "python3"
  },
  "language_info": {
   "codemirror_mode": {
    "name": "ipython",
    "version": 3
   },
   "file_extension": ".py",
   "mimetype": "text/x-python",
   "name": "python",
   "nbconvert_exporter": "python",
   "pygments_lexer": "ipython3",
   "version": "3.9.7"
  }
 },
 "nbformat": 4,
 "nbformat_minor": 5
}
