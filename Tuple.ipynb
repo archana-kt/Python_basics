{
 "cells": [
  {
   "cell_type": "markdown",
   "id": "98240bea",
   "metadata": {},
   "source": [
    "# Tuple"
   ]
  },
  {
   "cell_type": "code",
   "execution_count": 1,
   "id": "7a694f4d",
   "metadata": {},
   "outputs": [],
   "source": [
    "x = tuple()"
   ]
  },
  {
   "cell_type": "code",
   "execution_count": 2,
   "id": "45eaca39",
   "metadata": {},
   "outputs": [
    {
     "data": {
      "text/plain": [
       "()"
      ]
     },
     "execution_count": 2,
     "metadata": {},
     "output_type": "execute_result"
    }
   ],
   "source": [
    "x"
   ]
  },
  {
   "cell_type": "code",
   "execution_count": 3,
   "id": "fbb4bd62",
   "metadata": {},
   "outputs": [
    {
     "data": {
      "text/plain": [
       "tuple"
      ]
     },
     "execution_count": 3,
     "metadata": {},
     "output_type": "execute_result"
    }
   ],
   "source": [
    "type(x)"
   ]
  },
  {
   "cell_type": "markdown",
   "id": "9f8f944d",
   "metadata": {},
   "source": [
    "# Characteristics of tuple"
   ]
  },
  {
   "cell_type": "raw",
   "id": "205d1d7b",
   "metadata": {},
   "source": [
    "Immutable\n",
    "Iterable\n",
    "Ordered\n",
    "Heterogenous"
   ]
  },
  {
   "cell_type": "code",
   "execution_count": 4,
   "id": "3965b5e3",
   "metadata": {},
   "outputs": [],
   "source": [
    "x = (1,2,3,4,5)"
   ]
  },
  {
   "cell_type": "code",
   "execution_count": 5,
   "id": "81972cc8",
   "metadata": {},
   "outputs": [
    {
     "data": {
      "text/plain": [
       "(1, 2, 3, 4, 5)"
      ]
     },
     "execution_count": 5,
     "metadata": {},
     "output_type": "execute_result"
    }
   ],
   "source": [
    "x"
   ]
  },
  {
   "cell_type": "code",
   "execution_count": 6,
   "id": "5c0e0071",
   "metadata": {},
   "outputs": [],
   "source": [
    "a = tuple(x)"
   ]
  },
  {
   "cell_type": "code",
   "execution_count": 7,
   "id": "2e837496",
   "metadata": {},
   "outputs": [
    {
     "data": {
      "text/plain": [
       "(1, 2, 3, 4, 5)"
      ]
     },
     "execution_count": 7,
     "metadata": {},
     "output_type": "execute_result"
    }
   ],
   "source": [
    "a"
   ]
  },
  {
   "cell_type": "code",
   "execution_count": 8,
   "id": "10ac0669",
   "metadata": {},
   "outputs": [
    {
     "data": {
      "text/plain": [
       "tuple"
      ]
     },
     "execution_count": 8,
     "metadata": {},
     "output_type": "execute_result"
    }
   ],
   "source": [
    "type(a)"
   ]
  },
  {
   "cell_type": "code",
   "execution_count": 9,
   "id": "9831c966",
   "metadata": {},
   "outputs": [],
   "source": [
    "# Iterable"
   ]
  },
  {
   "cell_type": "code",
   "execution_count": 10,
   "id": "178ab4ab",
   "metadata": {},
   "outputs": [],
   "source": [
    "name = \"Arc\""
   ]
  },
  {
   "cell_type": "code",
   "execution_count": 11,
   "id": "c60ac55a",
   "metadata": {},
   "outputs": [
    {
     "data": {
      "text/plain": [
       "'A'"
      ]
     },
     "execution_count": 11,
     "metadata": {},
     "output_type": "execute_result"
    }
   ],
   "source": [
    "name[0]"
   ]
  },
  {
   "cell_type": "code",
   "execution_count": 12,
   "id": "147f1cb2",
   "metadata": {},
   "outputs": [
    {
     "data": {
      "text/plain": [
       "'r'"
      ]
     },
     "execution_count": 12,
     "metadata": {},
     "output_type": "execute_result"
    }
   ],
   "source": [
    "name[1]"
   ]
  },
  {
   "cell_type": "code",
   "execution_count": 13,
   "id": "7d759c03",
   "metadata": {},
   "outputs": [
    {
     "data": {
      "text/plain": [
       "'c'"
      ]
     },
     "execution_count": 13,
     "metadata": {},
     "output_type": "execute_result"
    }
   ],
   "source": [
    "name[2]"
   ]
  },
  {
   "cell_type": "code",
   "execution_count": 14,
   "id": "cfa752a2",
   "metadata": {},
   "outputs": [
    {
     "name": "stdout",
     "output_type": "stream",
     "text": [
      "1\n",
      "2\n",
      "3\n",
      "4\n",
      "5\n"
     ]
    }
   ],
   "source": [
    "for i in x:\n",
    "    print(i)"
   ]
  },
  {
   "cell_type": "code",
   "execution_count": 16,
   "id": "70bf209c",
   "metadata": {},
   "outputs": [
    {
     "name": "stdout",
     "output_type": "stream",
     "text": [
      "A\n",
      "r\n",
      "c\n"
     ]
    }
   ],
   "source": [
    "for i in name:\n",
    "    print(i)"
   ]
  },
  {
   "cell_type": "code",
   "execution_count": 17,
   "id": "3f2423ba",
   "metadata": {},
   "outputs": [],
   "source": [
    "# Immutable"
   ]
  },
  {
   "cell_type": "code",
   "execution_count": 18,
   "id": "716756a2",
   "metadata": {},
   "outputs": [
    {
     "ename": "TypeError",
     "evalue": "'str' object does not support item assignment",
     "output_type": "error",
     "traceback": [
      "\u001b[0;31m---------------------------------------------------------------------------\u001b[0m",
      "\u001b[0;31mTypeError\u001b[0m                                 Traceback (most recent call last)",
      "Input \u001b[0;32mIn [18]\u001b[0m, in \u001b[0;36m<cell line: 1>\u001b[0;34m()\u001b[0m\n\u001b[0;32m----> 1\u001b[0m name[\u001b[38;5;241m1\u001b[39m] \u001b[38;5;241m=\u001b[39m \u001b[38;5;124m'\u001b[39m\u001b[38;5;124mJ\u001b[39m\u001b[38;5;124m'\u001b[39m\n",
      "\u001b[0;31mTypeError\u001b[0m: 'str' object does not support item assignment"
     ]
    }
   ],
   "source": [
    "name[1] = 'J'"
   ]
  },
  {
   "cell_type": "code",
   "execution_count": 20,
   "id": "35ad3674",
   "metadata": {},
   "outputs": [],
   "source": [
    "# see it shows error. bcoz it is immutable and cannot be changed"
   ]
  },
  {
   "cell_type": "code",
   "execution_count": 21,
   "id": "033ee364",
   "metadata": {},
   "outputs": [],
   "source": [
    "# Heterogenous"
   ]
  },
  {
   "cell_type": "code",
   "execution_count": 22,
   "id": "5d3f2b80",
   "metadata": {},
   "outputs": [],
   "source": [
    "x = (1,2,3,4,5,'Apple','Orange',5.6,7.5)"
   ]
  },
  {
   "cell_type": "code",
   "execution_count": 23,
   "id": "5b50a104",
   "metadata": {},
   "outputs": [
    {
     "data": {
      "text/plain": [
       "(1, 2, 3, 4, 5, 'Apple', 'Orange', 5.6, 7.5)"
      ]
     },
     "execution_count": 23,
     "metadata": {},
     "output_type": "execute_result"
    }
   ],
   "source": [
    "x"
   ]
  },
  {
   "cell_type": "code",
   "execution_count": 24,
   "id": "5c789309",
   "metadata": {},
   "outputs": [],
   "source": [
    "# bcoz we can add more data like this and so it is heterogenous"
   ]
  },
  {
   "cell_type": "code",
   "execution_count": 25,
   "id": "e8c7f3a0",
   "metadata": {},
   "outputs": [],
   "source": [
    "x = ()"
   ]
  },
  {
   "cell_type": "code",
   "execution_count": 26,
   "id": "c4e315e7",
   "metadata": {},
   "outputs": [
    {
     "data": {
      "text/plain": [
       "()"
      ]
     },
     "execution_count": 26,
     "metadata": {},
     "output_type": "execute_result"
    }
   ],
   "source": [
    "x"
   ]
  },
  {
   "cell_type": "code",
   "execution_count": 27,
   "id": "ff67027b",
   "metadata": {},
   "outputs": [],
   "source": [
    "x = (1)"
   ]
  },
  {
   "cell_type": "code",
   "execution_count": 28,
   "id": "c3ecbcc4",
   "metadata": {},
   "outputs": [
    {
     "data": {
      "text/plain": [
       "int"
      ]
     },
     "execution_count": 28,
     "metadata": {},
     "output_type": "execute_result"
    }
   ],
   "source": [
    "type(x)"
   ]
  },
  {
   "cell_type": "code",
   "execution_count": 29,
   "id": "fcdfccfe",
   "metadata": {},
   "outputs": [],
   "source": [
    "# this is not considered as tuple bcoz it is a single argument. Instead we can use (1,) with comma."
   ]
  },
  {
   "cell_type": "code",
   "execution_count": 30,
   "id": "455e5757",
   "metadata": {},
   "outputs": [],
   "source": [
    "x = (1,)"
   ]
  },
  {
   "cell_type": "code",
   "execution_count": 31,
   "id": "6199c9dc",
   "metadata": {},
   "outputs": [
    {
     "data": {
      "text/plain": [
       "tuple"
      ]
     },
     "execution_count": 31,
     "metadata": {},
     "output_type": "execute_result"
    }
   ],
   "source": [
    "type(x)"
   ]
  },
  {
   "cell_type": "markdown",
   "id": "bc0715db",
   "metadata": {},
   "source": [
    "# Methods in tuple"
   ]
  },
  {
   "cell_type": "code",
   "execution_count": 39,
   "id": "7d751f86",
   "metadata": {},
   "outputs": [],
   "source": [
    "# only two methods are there count and index"
   ]
  },
  {
   "cell_type": "code",
   "execution_count": 40,
   "id": "25cb214d",
   "metadata": {},
   "outputs": [],
   "source": [
    "x = (1,2,3,4,2,2)"
   ]
  },
  {
   "cell_type": "code",
   "execution_count": 38,
   "id": "7eb4b018",
   "metadata": {},
   "outputs": [],
   "source": [
    "x.count?"
   ]
  },
  {
   "cell_type": "raw",
   "id": "9a15f9fb",
   "metadata": {},
   "source": [
    "Signature: x.count(value, /)\n",
    "Docstring: Return number of occurrences of value.\n",
    "Type:      builtin_function_or_method"
   ]
  },
  {
   "cell_type": "code",
   "execution_count": 41,
   "id": "6b83a0e4",
   "metadata": {},
   "outputs": [
    {
     "data": {
      "text/plain": [
       "3"
      ]
     },
     "execution_count": 41,
     "metadata": {},
     "output_type": "execute_result"
    }
   ],
   "source": [
    "x.count(2)"
   ]
  },
  {
   "cell_type": "code",
   "execution_count": 42,
   "id": "af74722e",
   "metadata": {},
   "outputs": [],
   "source": [
    "x.index?"
   ]
  },
  {
   "cell_type": "raw",
   "id": "56036fac",
   "metadata": {},
   "source": [
    "Signature: x.index(value, start=0, stop=9223372036854775807, /)\n",
    "Docstring:\n",
    "Return first index of value.\n",
    "\n",
    "Raises ValueError if the value is not present.\n",
    "Type:      builtin_function_or_method"
   ]
  },
  {
   "cell_type": "code",
   "execution_count": 43,
   "id": "d9a63035",
   "metadata": {},
   "outputs": [
    {
     "data": {
      "text/plain": [
       "2"
      ]
     },
     "execution_count": 43,
     "metadata": {},
     "output_type": "execute_result"
    }
   ],
   "source": [
    "x.index(3)"
   ]
  },
  {
   "cell_type": "code",
   "execution_count": 45,
   "id": "448208ae",
   "metadata": {},
   "outputs": [
    {
     "data": {
      "text/plain": [
       "1"
      ]
     },
     "execution_count": 45,
     "metadata": {},
     "output_type": "execute_result"
    }
   ],
   "source": [
    "x.index(2) # it gives index for 2 based on first come location "
   ]
  }
 ],
 "metadata": {
  "kernelspec": {
   "display_name": "Python 3 (ipykernel)",
   "language": "python",
   "name": "python3"
  },
  "language_info": {
   "codemirror_mode": {
    "name": "ipython",
    "version": 3
   },
   "file_extension": ".py",
   "mimetype": "text/x-python",
   "name": "python",
   "nbconvert_exporter": "python",
   "pygments_lexer": "ipython3",
   "version": "3.9.7"
  }
 },
 "nbformat": 4,
 "nbformat_minor": 5
}
