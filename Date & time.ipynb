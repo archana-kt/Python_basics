{
 "cells": [
  {
   "cell_type": "markdown",
   "id": "0b95fb36",
   "metadata": {},
   "source": [
    "# Date & Time"
   ]
  },
  {
   "cell_type": "code",
   "execution_count": 7,
   "id": "87e407dc",
   "metadata": {},
   "outputs": [],
   "source": [
    "import datetime"
   ]
  },
  {
   "cell_type": "code",
   "execution_count": 8,
   "id": "efa1ad60",
   "metadata": {},
   "outputs": [
    {
     "data": {
      "text/plain": [
       "datetime.date"
      ]
     },
     "execution_count": 8,
     "metadata": {},
     "output_type": "execute_result"
    }
   ],
   "source": [
    "datetime.date"
   ]
  },
  {
   "cell_type": "code",
   "execution_count": 9,
   "id": "b6d8475c",
   "metadata": {},
   "outputs": [
    {
     "data": {
      "text/plain": [
       "9999"
      ]
     },
     "execution_count": 9,
     "metadata": {},
     "output_type": "execute_result"
    }
   ],
   "source": [
    "datetime.MAXYEAR"
   ]
  },
  {
   "cell_type": "code",
   "execution_count": 10,
   "id": "136fe7f1",
   "metadata": {},
   "outputs": [
    {
     "data": {
      "text/plain": [
       "1"
      ]
     },
     "execution_count": 10,
     "metadata": {},
     "output_type": "execute_result"
    }
   ],
   "source": [
    "datetime.MINYEAR"
   ]
  },
  {
   "cell_type": "code",
   "execution_count": 11,
   "id": "929e9a8d",
   "metadata": {},
   "outputs": [
    {
     "name": "stdout",
     "output_type": "stream",
     "text": [
      "<class 'type'>\n"
     ]
    }
   ],
   "source": [
    "print(type(datetime.datetime))"
   ]
  },
  {
   "cell_type": "code",
   "execution_count": 12,
   "id": "5599c001",
   "metadata": {},
   "outputs": [],
   "source": [
    "from datetime import datetime"
   ]
  },
  {
   "cell_type": "code",
   "execution_count": 14,
   "id": "d5efb4d8",
   "metadata": {},
   "outputs": [
    {
     "data": {
      "text/plain": [
       "datetime.datetime(2023, 8, 20, 18, 47, 58, 416821)"
      ]
     },
     "execution_count": 14,
     "metadata": {},
     "output_type": "execute_result"
    }
   ],
   "source": [
    "datetime.now()"
   ]
  },
  {
   "cell_type": "code",
   "execution_count": 15,
   "id": "9ec92ab9",
   "metadata": {},
   "outputs": [],
   "source": [
    "today = datetime.now()"
   ]
  },
  {
   "cell_type": "code",
   "execution_count": 17,
   "id": "cedc267a",
   "metadata": {},
   "outputs": [
    {
     "data": {
      "text/plain": [
       "8"
      ]
     },
     "execution_count": 17,
     "metadata": {},
     "output_type": "execute_result"
    }
   ],
   "source": [
    "today.month"
   ]
  },
  {
   "cell_type": "code",
   "execution_count": 19,
   "id": "f577d8e3",
   "metadata": {},
   "outputs": [
    {
     "data": {
      "text/plain": [
       "2023"
      ]
     },
     "execution_count": 19,
     "metadata": {},
     "output_type": "execute_result"
    }
   ],
   "source": [
    "today.year"
   ]
  },
  {
   "cell_type": "code",
   "execution_count": 20,
   "id": "b925b959",
   "metadata": {},
   "outputs": [
    {
     "data": {
      "text/plain": [
       "20"
      ]
     },
     "execution_count": 20,
     "metadata": {},
     "output_type": "execute_result"
    }
   ],
   "source": [
    "today.day"
   ]
  },
  {
   "cell_type": "code",
   "execution_count": 21,
   "id": "f936974b",
   "metadata": {},
   "outputs": [
    {
     "data": {
      "text/plain": [
       "18"
      ]
     },
     "execution_count": 21,
     "metadata": {},
     "output_type": "execute_result"
    }
   ],
   "source": [
    "today.hour"
   ]
  },
  {
   "cell_type": "code",
   "execution_count": 22,
   "id": "8ad9e867",
   "metadata": {},
   "outputs": [
    {
     "data": {
      "text/plain": [
       "48"
      ]
     },
     "execution_count": 22,
     "metadata": {},
     "output_type": "execute_result"
    }
   ],
   "source": [
    "today.minute"
   ]
  },
  {
   "cell_type": "code",
   "execution_count": 23,
   "id": "d4052edd",
   "metadata": {},
   "outputs": [
    {
     "data": {
      "text/plain": [
       "55"
      ]
     },
     "execution_count": 23,
     "metadata": {},
     "output_type": "execute_result"
    }
   ],
   "source": [
    "today.second"
   ]
  },
  {
   "cell_type": "code",
   "execution_count": 24,
   "id": "29ce6200",
   "metadata": {},
   "outputs": [
    {
     "data": {
      "text/plain": [
       "232711"
      ]
     },
     "execution_count": 24,
     "metadata": {},
     "output_type": "execute_result"
    }
   ],
   "source": [
    "today.microsecond"
   ]
  },
  {
   "cell_type": "raw",
   "id": "669aae44",
   "metadata": {},
   "source": [
    "https://www.timeanddate.com/time/map/"
   ]
  },
  {
   "cell_type": "raw",
   "id": "c204f0ec",
   "metadata": {},
   "source": [
    "Daylight Saving Time, also called summer time, system for uniformly advancing clocks, so as to extend daylight hours during conventional waking time in the summer months. In countries in the Northern Hemisphere, clocks are usually set ahead one hour in late March or in April and are set back one hour in late September or in October.\n",
    "\n",
    "The practice was first suggested in a whimsical essay by Benjamin Franklin in 1784. In 1907 an Englishman, William Willett, campaigned for setting the clock ahead by 80 minutes in four moves of 20 minutes each during April and the reverse in September. In 1909 the British House of Commons rejected a bill to advance the clock by one hour in the spring and return to Greenwich Mean Time in the autumn.\n"
   ]
  },
  {
   "cell_type": "code",
   "execution_count": 27,
   "id": "08517f23",
   "metadata": {},
   "outputs": [],
   "source": [
    "date = datetime.now()"
   ]
  },
  {
   "cell_type": "code",
   "execution_count": 28,
   "id": "c8682028",
   "metadata": {},
   "outputs": [
    {
     "data": {
      "text/plain": [
       "datetime.datetime(2023, 8, 20, 18, 59, 23, 604066)"
      ]
     },
     "execution_count": 28,
     "metadata": {},
     "output_type": "execute_result"
    }
   ],
   "source": [
    "date"
   ]
  },
  {
   "cell_type": "code",
   "execution_count": 29,
   "id": "023f4d48",
   "metadata": {},
   "outputs": [
    {
     "data": {
      "text/plain": [
       "<function datetime.strftime>"
      ]
     },
     "execution_count": 29,
     "metadata": {},
     "output_type": "execute_result"
    }
   ],
   "source": [
    "date.strftime"
   ]
  },
  {
   "cell_type": "code",
   "execution_count": 30,
   "id": "99e1cfdd",
   "metadata": {},
   "outputs": [
    {
     "data": {
      "text/plain": [
       "<method 'strftime' of 'datetime.date' objects>"
      ]
     },
     "execution_count": 30,
     "metadata": {},
     "output_type": "execute_result"
    }
   ],
   "source": [
    "datetime.strftime"
   ]
  },
  {
   "cell_type": "code",
   "execution_count": 31,
   "id": "4d2de8bf",
   "metadata": {},
   "outputs": [
    {
     "data": {
      "text/plain": [
       "<function datetime.strftime>"
      ]
     },
     "execution_count": 31,
     "metadata": {},
     "output_type": "execute_result"
    }
   ],
   "source": [
    "datetime.now().strftime"
   ]
  },
  {
   "cell_type": "code",
   "execution_count": 32,
   "id": "ee5b3765",
   "metadata": {},
   "outputs": [],
   "source": [
    "# strftime is used to convert the object into string"
   ]
  },
  {
   "cell_type": "code",
   "execution_count": 33,
   "id": "b1d1a1ac",
   "metadata": {},
   "outputs": [
    {
     "data": {
      "text/plain": [
       "'23'"
      ]
     },
     "execution_count": 33,
     "metadata": {},
     "output_type": "execute_result"
    }
   ],
   "source": [
    "datetime.now().strftime(\"%y\")"
   ]
  },
  {
   "cell_type": "code",
   "execution_count": 34,
   "id": "8fc414f3",
   "metadata": {},
   "outputs": [
    {
     "data": {
      "text/plain": [
       "'2023'"
      ]
     },
     "execution_count": 34,
     "metadata": {},
     "output_type": "execute_result"
    }
   ],
   "source": [
    "datetime.now().strftime(\"%Y\")"
   ]
  },
  {
   "cell_type": "code",
   "execution_count": 35,
   "id": "4ffb52db",
   "metadata": {},
   "outputs": [
    {
     "data": {
      "text/plain": [
       "'20 2023'"
      ]
     },
     "execution_count": 35,
     "metadata": {},
     "output_type": "execute_result"
    }
   ],
   "source": [
    "datetime.now().strftime(\"%d %Y\")"
   ]
  },
  {
   "cell_type": "code",
   "execution_count": 36,
   "id": "5ba0728f",
   "metadata": {},
   "outputs": [
    {
     "data": {
      "text/plain": [
       "'20 08 2023'"
      ]
     },
     "execution_count": 36,
     "metadata": {},
     "output_type": "execute_result"
    }
   ],
   "source": [
    "datetime.now().strftime(\"%d %m %Y\")"
   ]
  },
  {
   "cell_type": "code",
   "execution_count": 37,
   "id": "e81765f5",
   "metadata": {},
   "outputs": [
    {
     "data": {
      "text/plain": [
       "'20/08/23'"
      ]
     },
     "execution_count": 37,
     "metadata": {},
     "output_type": "execute_result"
    }
   ],
   "source": [
    "datetime.now().strftime(\"%d/%m/%y\")"
   ]
  },
  {
   "cell_type": "code",
   "execution_count": 38,
   "id": "0a73b9ec",
   "metadata": {},
   "outputs": [
    {
     "data": {
      "text/plain": [
       "'20-08-2023'"
      ]
     },
     "execution_count": 38,
     "metadata": {},
     "output_type": "execute_result"
    }
   ],
   "source": [
    "datetime.now().strftime(\"%d-%m-%Y\")"
   ]
  },
  {
   "cell_type": "raw",
   "id": "af4beb42",
   "metadata": {},
   "source": [
    "%a\tAbbreviated weekday name.\tSun, Mon, ...\n",
    "%A\tFull weekday name.\tSunday, Monday, ...\n",
    "%w\tWeekday as a decimal number.\t0, 1, ..., 6\n",
    "%d\tDay of the month as a zero-padded decimal.\t01, 02, ..., 31\n",
    "%-d\tDay of the month as a decimal number.\t1, 2, ..., 30\n",
    "%b\tAbbreviated month name.\tJan, Feb, ..., Dec\n",
    "%B\tFull month name.\tJanuary, February, ...\n",
    "%m\tMonth as a zero-padded decimal number.\t01, 02, ..., 12\n",
    "%-m\tMonth as a decimal number.\t1, 2, ..., 12\n",
    "%y\tYear without century as a zero-padded decimal number.\t00, 01, ..., 99\n",
    "%-y\tYear without century as a decimal number.\t0, 1, ..., 99\n",
    "%Y\tYear with century as a decimal number.\t2013, 2019 etc.\n",
    "%H\tHour (24-hour clock) as a zero-padded decimal number.\t00, 01, ..., 23\n",
    "%-H\tHour (24-hour clock) as a decimal number.\t0, 1, ..., 23\n",
    "%I\tHour (12-hour clock) as a zero-padded decimal number.\t01, 02, ..., 12\n",
    "%-I\tHour (12-hour clock) as a decimal number.\t1, 2, ... 12\n",
    "%p\tLocale’s AM or PM.\tAM, PM\n",
    "%M\tMinute as a zero-padded decimal number.\t00, 01, ..., 59\n",
    "%-M\tMinute as a decimal number.\t0, 1, ..., 59\n",
    "%S\tSecond as a zero-padded decimal number.\t00, 01, ..., 59\n",
    "%-S\tSecond as a decimal number.\t0, 1, ..., 59\n",
    "%f\tMicrosecond as a decimal number, zero-padded on the left.\t000000 - 999999\n",
    "%z\tUTC offset in the form +HHMM or -HHMM.\t \n",
    "%Z\tTime zone name.\t \n",
    "%j\tDay of the year as a zero-padded decimal number.\t001, 002, ..., 366\n",
    "%-j\tDay of the year as a decimal number.\t1, 2, ..., 366\n",
    "%U\tWeek number of the year (Sunday as the first day of the week). All days in a new year preceding the first Sunday are considered to be in week 0.\t00, 01, ..., 53\n",
    "%W\tWeek number of the year (Monday as the first day of the week). All days in a new year preceding the first Monday are considered to be in week 0.\t00, 01, ..., 53\n",
    "%c\tLocale’s appropriate date and time representation.\tMon Sep 30 07:06:05 2013\n",
    "%x\tLocale’s appropriate date representation.\t09/30/13\n",
    "%X\tLocale’s appropriate time representation.\t07:06:05\n",
    "%%\tA literal '%' character.\t%"
   ]
  },
  {
   "cell_type": "code",
   "execution_count": 39,
   "id": "8d617e76",
   "metadata": {},
   "outputs": [
    {
     "data": {
      "text/plain": [
       "'Sun'"
      ]
     },
     "execution_count": 39,
     "metadata": {},
     "output_type": "execute_result"
    }
   ],
   "source": [
    "datetime.now().strftime(\"%a\") # Abbreviated weekday name"
   ]
  },
  {
   "cell_type": "code",
   "execution_count": 40,
   "id": "a0bee66a",
   "metadata": {},
   "outputs": [
    {
     "data": {
      "text/plain": [
       "'Sunday'"
      ]
     },
     "execution_count": 40,
     "metadata": {},
     "output_type": "execute_result"
    }
   ],
   "source": [
    "datetime.now().strftime(\"%A\") # Full weekday name."
   ]
  },
  {
   "cell_type": "code",
   "execution_count": 41,
   "id": "9c174aff",
   "metadata": {},
   "outputs": [
    {
     "data": {
      "text/plain": [
       "'0'"
      ]
     },
     "execution_count": 41,
     "metadata": {},
     "output_type": "execute_result"
    }
   ],
   "source": [
    "datetime.now().strftime(\"%w\") # Weekday as a decimal number. 0, 1, ..., 6 (Sunday - 0, Monday - 1, etc.,)"
   ]
  },
  {
   "cell_type": "code",
   "execution_count": 42,
   "id": "a2794980",
   "metadata": {},
   "outputs": [
    {
     "data": {
      "text/plain": [
       "'20'"
      ]
     },
     "execution_count": 42,
     "metadata": {},
     "output_type": "execute_result"
    }
   ],
   "source": [
    "datetime.now().strftime(\"%d\") # Day of the month as a zero-padded decimal 01, 02, ..., 31"
   ]
  },
  {
   "cell_type": "code",
   "execution_count": 43,
   "id": "b9b79e5f",
   "metadata": {},
   "outputs": [
    {
     "data": {
      "text/plain": [
       "'20'"
      ]
     },
     "execution_count": 43,
     "metadata": {},
     "output_type": "execute_result"
    }
   ],
   "source": [
    "datetime.now().strftime(\"%-d\") # Day of the month as a decimal number 1, 2, ..., 30"
   ]
  },
  {
   "cell_type": "code",
   "execution_count": 44,
   "id": "12a64c43",
   "metadata": {},
   "outputs": [
    {
     "data": {
      "text/plain": [
       "'Aug'"
      ]
     },
     "execution_count": 44,
     "metadata": {},
     "output_type": "execute_result"
    }
   ],
   "source": [
    "datetime.now().strftime(\"%b\") # Abbreviated month name."
   ]
  },
  {
   "cell_type": "code",
   "execution_count": 45,
   "id": "fe1703dd",
   "metadata": {},
   "outputs": [
    {
     "data": {
      "text/plain": [
       "'August'"
      ]
     },
     "execution_count": 45,
     "metadata": {},
     "output_type": "execute_result"
    }
   ],
   "source": [
    "datetime.now().strftime(\"%B\") # Full month name."
   ]
  },
  {
   "cell_type": "code",
   "execution_count": 46,
   "id": "880ef0e0",
   "metadata": {},
   "outputs": [
    {
     "data": {
      "text/plain": [
       "'08'"
      ]
     },
     "execution_count": 46,
     "metadata": {},
     "output_type": "execute_result"
    }
   ],
   "source": [
    "datetime.now().strftime(\"%m\") # Month as a zero-padded decimal number 01, 02, ..., 12"
   ]
  },
  {
   "cell_type": "code",
   "execution_count": 47,
   "id": "1ccd0726",
   "metadata": {},
   "outputs": [
    {
     "data": {
      "text/plain": [
       "'8'"
      ]
     },
     "execution_count": 47,
     "metadata": {},
     "output_type": "execute_result"
    }
   ],
   "source": [
    "datetime.now().strftime(\"%-m\") # Month as a decimal number. \t1, 2, ..., 12"
   ]
  },
  {
   "cell_type": "code",
   "execution_count": 48,
   "id": "d491685d",
   "metadata": {},
   "outputs": [
    {
     "data": {
      "text/plain": [
       "'23'"
      ]
     },
     "execution_count": 48,
     "metadata": {},
     "output_type": "execute_result"
    }
   ],
   "source": [
    "datetime.now().strftime(\"%y\") # Year without century as a zero-padded decimal number. 00, 01, ..., 99"
   ]
  },
  {
   "cell_type": "code",
   "execution_count": 49,
   "id": "df5bd031",
   "metadata": {},
   "outputs": [
    {
     "data": {
      "text/plain": [
       "'2023'"
      ]
     },
     "execution_count": 49,
     "metadata": {},
     "output_type": "execute_result"
    }
   ],
   "source": [
    "datetime.now().strftime(\"%Y\") # Year with century as a decimal number."
   ]
  },
  {
   "cell_type": "code",
   "execution_count": 50,
   "id": "4068f69f",
   "metadata": {},
   "outputs": [
    {
     "data": {
      "text/plain": [
       "'23'"
      ]
     },
     "execution_count": 50,
     "metadata": {},
     "output_type": "execute_result"
    }
   ],
   "source": [
    "datetime.now().strftime(\"%-y\") # Year without century as a decimal number.\t0, 1, ..., 99"
   ]
  },
  {
   "cell_type": "code",
   "execution_count": 52,
   "id": "40dd346d",
   "metadata": {},
   "outputs": [
    {
     "data": {
      "text/plain": [
       "'19'"
      ]
     },
     "execution_count": 52,
     "metadata": {},
     "output_type": "execute_result"
    }
   ],
   "source": [
    "datetime.now().strftime(\"%H\") # Hour (24-hour clock) as a zero-padded decimal number.\t00, 01, ..., 23"
   ]
  },
  {
   "cell_type": "code",
   "execution_count": 54,
   "id": "49833fc8",
   "metadata": {},
   "outputs": [
    {
     "data": {
      "text/plain": [
       "'19'"
      ]
     },
     "execution_count": 54,
     "metadata": {},
     "output_type": "execute_result"
    }
   ],
   "source": [
    "datetime.now().strftime(\"%-H\") # Hour (24-hour clock) as a decimal number.\t0, 1, ..., 23"
   ]
  },
  {
   "cell_type": "code",
   "execution_count": 55,
   "id": "9369ce16",
   "metadata": {},
   "outputs": [
    {
     "data": {
      "text/plain": [
       "'07'"
      ]
     },
     "execution_count": 55,
     "metadata": {},
     "output_type": "execute_result"
    }
   ],
   "source": [
    "datetime.now().strftime(\"%I\") # Hour (12-hour clock) as a zero-padded decimal number.\t01, 02, ..., 12"
   ]
  },
  {
   "cell_type": "code",
   "execution_count": 56,
   "id": "a9debbd4",
   "metadata": {},
   "outputs": [
    {
     "data": {
      "text/plain": [
       "'7'"
      ]
     },
     "execution_count": 56,
     "metadata": {},
     "output_type": "execute_result"
    }
   ],
   "source": [
    "datetime.now().strftime(\"%-I\") # Hour (12-hour clock) as a decimal number.\t1, 2, ... 12"
   ]
  },
  {
   "cell_type": "code",
   "execution_count": 58,
   "id": "a3b4c6d5",
   "metadata": {},
   "outputs": [
    {
     "data": {
      "text/plain": [
       "'PM'"
      ]
     },
     "execution_count": 58,
     "metadata": {},
     "output_type": "execute_result"
    }
   ],
   "source": [
    "datetime.now().strftime(\"%p\") # Locale’s AM or PM.\tAM, PM "
   ]
  },
  {
   "cell_type": "code",
   "execution_count": 59,
   "id": "f35283e1",
   "metadata": {},
   "outputs": [
    {
     "data": {
      "text/plain": [
       "'33'"
      ]
     },
     "execution_count": 59,
     "metadata": {},
     "output_type": "execute_result"
    }
   ],
   "source": [
    "datetime.now().strftime(\"%M\") # Minute as a zero-padded decimal number.\t00, 01, ..., 59"
   ]
  },
  {
   "cell_type": "code",
   "execution_count": 60,
   "id": "f5cb8148",
   "metadata": {},
   "outputs": [
    {
     "data": {
      "text/plain": [
       "'33'"
      ]
     },
     "execution_count": 60,
     "metadata": {},
     "output_type": "execute_result"
    }
   ],
   "source": [
    "datetime.now().strftime(\"%-M\") # Minute as a decimal number.\t0, 1, ..., 59"
   ]
  },
  {
   "cell_type": "code",
   "execution_count": 61,
   "id": "b21744ec",
   "metadata": {},
   "outputs": [
    {
     "data": {
      "text/plain": [
       "'16'"
      ]
     },
     "execution_count": 61,
     "metadata": {},
     "output_type": "execute_result"
    }
   ],
   "source": [
    "datetime.now().strftime(\"%S\") # Second as a zero-padded decimal number.\t00, 01, ..., 59"
   ]
  },
  {
   "cell_type": "code",
   "execution_count": 62,
   "id": "bda61c3c",
   "metadata": {},
   "outputs": [
    {
     "data": {
      "text/plain": [
       "'37'"
      ]
     },
     "execution_count": 62,
     "metadata": {},
     "output_type": "execute_result"
    }
   ],
   "source": [
    "datetime.now().strftime(\"%-S\") # Second as a decimal number.\t0, 1, ..., 59"
   ]
  },
  {
   "cell_type": "code",
   "execution_count": 63,
   "id": "e861a07f",
   "metadata": {},
   "outputs": [
    {
     "data": {
      "text/plain": [
       "'064458'"
      ]
     },
     "execution_count": 63,
     "metadata": {},
     "output_type": "execute_result"
    }
   ],
   "source": [
    "datetime.now().strftime(\"%f\") # Microsecond as a decimal number, zero-padded on the left.\t000000 - 999999"
   ]
  },
  {
   "cell_type": "code",
   "execution_count": 64,
   "id": "4ae5c23d",
   "metadata": {},
   "outputs": [
    {
     "data": {
      "text/plain": [
       "''"
      ]
     },
     "execution_count": 64,
     "metadata": {},
     "output_type": "execute_result"
    }
   ],
   "source": [
    "datetime.now().strftime(\"%z\") # UTC offset in the form +HHMM or -HHMM.\t "
   ]
  },
  {
   "cell_type": "code",
   "execution_count": 65,
   "id": "4f8eb12e",
   "metadata": {},
   "outputs": [
    {
     "data": {
      "text/plain": [
       "''"
      ]
     },
     "execution_count": 65,
     "metadata": {},
     "output_type": "execute_result"
    }
   ],
   "source": [
    "datetime.now().strftime(\"%Z\") # Time zone name."
   ]
  },
  {
   "cell_type": "code",
   "execution_count": 66,
   "id": "c0de206a",
   "metadata": {},
   "outputs": [
    {
     "data": {
      "text/plain": [
       "'232'"
      ]
     },
     "execution_count": 66,
     "metadata": {},
     "output_type": "execute_result"
    }
   ],
   "source": [
    "datetime.now().strftime(\"%j\") # Day of the year as a zero-padded decimal number.\t001, 002, ..., 366"
   ]
  },
  {
   "cell_type": "code",
   "execution_count": 67,
   "id": "88fdeb09",
   "metadata": {},
   "outputs": [
    {
     "data": {
      "text/plain": [
       "'232'"
      ]
     },
     "execution_count": 67,
     "metadata": {},
     "output_type": "execute_result"
    }
   ],
   "source": [
    "datetime.now().strftime(\"%-j\") # Day of the year as a decimal number.\t1, 2, ..., 366"
   ]
  },
  {
   "cell_type": "code",
   "execution_count": 68,
   "id": "75b92d26",
   "metadata": {},
   "outputs": [
    {
     "data": {
      "text/plain": [
       "'34'"
      ]
     },
     "execution_count": 68,
     "metadata": {},
     "output_type": "execute_result"
    }
   ],
   "source": [
    "datetime.now().strftime(\"%U\") # Week number of the year (Sunday as the first day of the week). All days in a new year preceding the first Sunday are considered to be in week 0.\t00, 01, ..., 53"
   ]
  },
  {
   "cell_type": "code",
   "execution_count": 69,
   "id": "40c9eb32",
   "metadata": {},
   "outputs": [
    {
     "data": {
      "text/plain": [
       "'33'"
      ]
     },
     "execution_count": 69,
     "metadata": {},
     "output_type": "execute_result"
    }
   ],
   "source": [
    "datetime.now().strftime(\"%W\") # Week number of the year (Monday as the first day of the week). All days in a new year preceding the first Monday are considered to be in week 0.\t00, 01, ..., 53"
   ]
  },
  {
   "cell_type": "code",
   "execution_count": 70,
   "id": "710357bb",
   "metadata": {},
   "outputs": [
    {
     "data": {
      "text/plain": [
       "'Sun Aug 20 20:38:32 2023'"
      ]
     },
     "execution_count": 70,
     "metadata": {},
     "output_type": "execute_result"
    }
   ],
   "source": [
    "datetime.now().strftime(\"%c\")# Locale’s appropriate date and time representation.\tMon Sep 30 07:06:05 2013"
   ]
  },
  {
   "cell_type": "code",
   "execution_count": 71,
   "id": "a4539eb2",
   "metadata": {},
   "outputs": [
    {
     "data": {
      "text/plain": [
       "'08/20/23'"
      ]
     },
     "execution_count": 71,
     "metadata": {},
     "output_type": "execute_result"
    }
   ],
   "source": [
    "datetime.now().strftime(\"%x\") # Locale’s appropriate date representation.\t09/30/13"
   ]
  },
  {
   "cell_type": "code",
   "execution_count": 72,
   "id": "b00d9a9e",
   "metadata": {},
   "outputs": [
    {
     "data": {
      "text/plain": [
       "'20:39:14'"
      ]
     },
     "execution_count": 72,
     "metadata": {},
     "output_type": "execute_result"
    }
   ],
   "source": [
    "datetime.now().strftime(\"%X\") # Locale’s appropriate time representation.\t07:06:05"
   ]
  },
  {
   "cell_type": "code",
   "execution_count": 73,
   "id": "4cc9ba06",
   "metadata": {},
   "outputs": [
    {
     "data": {
      "text/plain": [
       "'%'"
      ]
     },
     "execution_count": 73,
     "metadata": {},
     "output_type": "execute_result"
    }
   ],
   "source": [
    "datetime.now().strftime(\"%%\") # A literal '%' character.\t%"
   ]
  }
 ],
 "metadata": {
  "kernelspec": {
   "display_name": "Python 3 (ipykernel)",
   "language": "python",
   "name": "python3"
  },
  "language_info": {
   "codemirror_mode": {
    "name": "ipython",
    "version": 3
   },
   "file_extension": ".py",
   "mimetype": "text/x-python",
   "name": "python",
   "nbconvert_exporter": "python",
   "pygments_lexer": "ipython3",
   "version": "3.9.7"
  }
 },
 "nbformat": 4,
 "nbformat_minor": 5
}
