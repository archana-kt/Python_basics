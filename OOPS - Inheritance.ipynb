{
 "cells": [
  {
   "cell_type": "markdown",
   "id": "661dfea5",
   "metadata": {},
   "source": [
    "# Inheritance"
   ]
  },
  {
   "cell_type": "markdown",
   "id": "f0de7ce6",
   "metadata": {},
   "source": [
    "# Multiple Inheritance"
   ]
  },
  {
   "cell_type": "code",
   "execution_count": 2,
   "id": "651fd774",
   "metadata": {},
   "outputs": [],
   "source": [
    "class A:\n",
    "    def getdataA(self):\n",
    "        print(\"method getdataA from A\")"
   ]
  },
  {
   "cell_type": "code",
   "execution_count": 3,
   "id": "a2e2c848",
   "metadata": {},
   "outputs": [],
   "source": [
    "class B:\n",
    "    def getdataB(self):\n",
    "        print(\"method getdataB from B\")"
   ]
  },
  {
   "cell_type": "code",
   "execution_count": 4,
   "id": "32874c35",
   "metadata": {},
   "outputs": [],
   "source": [
    "class C(B,A):\n",
    "    def getdataC(self):\n",
    "        print(\"method getdataC from C\")"
   ]
  },
  {
   "cell_type": "code",
   "execution_count": 6,
   "id": "ac8f3a11",
   "metadata": {},
   "outputs": [],
   "source": [
    "obj = C()"
   ]
  },
  {
   "cell_type": "code",
   "execution_count": 7,
   "id": "9fc78d1d",
   "metadata": {},
   "outputs": [
    {
     "name": "stdout",
     "output_type": "stream",
     "text": [
      "method getdataA from A\n"
     ]
    }
   ],
   "source": [
    "obj.getdataA()"
   ]
  },
  {
   "cell_type": "code",
   "execution_count": 8,
   "id": "a2873513",
   "metadata": {},
   "outputs": [
    {
     "name": "stdout",
     "output_type": "stream",
     "text": [
      "method getdataB from B\n"
     ]
    }
   ],
   "source": [
    "obj.getdataB()"
   ]
  },
  {
   "cell_type": "code",
   "execution_count": 9,
   "id": "ed706065",
   "metadata": {},
   "outputs": [
    {
     "name": "stdout",
     "output_type": "stream",
     "text": [
      "method getdataC from C\n"
     ]
    }
   ],
   "source": [
    "obj.getdataC()"
   ]
  },
  {
   "cell_type": "markdown",
   "id": "ba6adbec",
   "metadata": {},
   "source": [
    "# Multilevel Inheritance"
   ]
  },
  {
   "cell_type": "code",
   "execution_count": 10,
   "id": "904186c3",
   "metadata": {},
   "outputs": [],
   "source": [
    "class A:\n",
    "    def getdataA(self):\n",
    "        print(\"method getdataA from A\")\n",
    "        \n",
    "class B(A):\n",
    "    pass\n",
    "\n",
    "class C(B):\n",
    "    pass"
   ]
  },
  {
   "cell_type": "code",
   "execution_count": 11,
   "id": "872018dc",
   "metadata": {},
   "outputs": [],
   "source": [
    "obj = C()"
   ]
  },
  {
   "cell_type": "code",
   "execution_count": 12,
   "id": "c2ad7e50",
   "metadata": {},
   "outputs": [
    {
     "name": "stdout",
     "output_type": "stream",
     "text": [
      "method getdataA from A\n"
     ]
    }
   ],
   "source": [
    "obj.getdataA()"
   ]
  },
  {
   "cell_type": "code",
   "execution_count": 13,
   "id": "74c6ed24",
   "metadata": {},
   "outputs": [],
   "source": [
    "C.mro?"
   ]
  },
  {
   "cell_type": "raw",
   "id": "b979cae6",
   "metadata": {},
   "source": [
    "Signature: C.mro()\n",
    "Docstring: Return a type's method resolution order."
   ]
  },
  {
   "cell_type": "code",
   "execution_count": 14,
   "id": "94a25297",
   "metadata": {},
   "outputs": [],
   "source": [
    "# Method resolution operator is used to check the order of it's class inheritance"
   ]
  },
  {
   "cell_type": "code",
   "execution_count": 15,
   "id": "1ca97772",
   "metadata": {},
   "outputs": [
    {
     "data": {
      "text/plain": [
       "[__main__.C, __main__.B, __main__.A, object]"
      ]
     },
     "execution_count": 15,
     "metadata": {},
     "output_type": "execute_result"
    }
   ],
   "source": [
    "C.mro() # see 1st C, next class B, then class A"
   ]
  },
  {
   "cell_type": "code",
   "execution_count": 19,
   "id": "da842cdd",
   "metadata": {},
   "outputs": [],
   "source": [
    "class A():\n",
    "    def getdataA(self):\n",
    "        print(\"method getdataA from A\")\n",
    "        \n",
    "class B(A):\n",
    "    def getdataB(self):\n",
    "        print(\"method getdataB from B\")\n",
    "        \n",
    "class C(B):\n",
    "    def getdataC(self):\n",
    "        pass"
   ]
  },
  {
   "cell_type": "code",
   "execution_count": 17,
   "id": "1b3cc043",
   "metadata": {},
   "outputs": [],
   "source": [
    "obj = C()"
   ]
  },
  {
   "cell_type": "code",
   "execution_count": 20,
   "id": "072f0105",
   "metadata": {},
   "outputs": [
    {
     "name": "stdout",
     "output_type": "stream",
     "text": [
      "method getdataB from B\n"
     ]
    }
   ],
   "source": [
    "obj.getdataB()"
   ]
  },
  {
   "cell_type": "code",
   "execution_count": 21,
   "id": "587749d0",
   "metadata": {},
   "outputs": [
    {
     "name": "stdout",
     "output_type": "stream",
     "text": [
      "method getdataC from C\n"
     ]
    }
   ],
   "source": [
    "obj.getdataC()"
   ]
  },
  {
   "cell_type": "code",
   "execution_count": null,
   "id": "958db64a",
   "metadata": {},
   "outputs": [],
   "source": []
  },
  {
   "cell_type": "code",
   "execution_count": null,
   "id": "b05f5ef0",
   "metadata": {},
   "outputs": [],
   "source": []
  },
  {
   "cell_type": "code",
   "execution_count": null,
   "id": "a7cb34d1",
   "metadata": {},
   "outputs": [],
   "source": []
  },
  {
   "cell_type": "code",
   "execution_count": null,
   "id": "15301849",
   "metadata": {},
   "outputs": [],
   "source": []
  },
  {
   "cell_type": "code",
   "execution_count": null,
   "id": "4e13be98",
   "metadata": {},
   "outputs": [],
   "source": []
  }
 ],
 "metadata": {
  "kernelspec": {
   "display_name": "Python 3 (ipykernel)",
   "language": "python",
   "name": "python3"
  },
  "language_info": {
   "codemirror_mode": {
    "name": "ipython",
    "version": 3
   },
   "file_extension": ".py",
   "mimetype": "text/x-python",
   "name": "python",
   "nbconvert_exporter": "python",
   "pygments_lexer": "ipython3",
   "version": "3.9.7"
  }
 },
 "nbformat": 4,
 "nbformat_minor": 5
}
