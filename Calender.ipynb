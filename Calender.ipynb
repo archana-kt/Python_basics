{
 "cells": [
  {
   "cell_type": "markdown",
   "id": "2e2588b9",
   "metadata": {},
   "source": [
    "# Calendar"
   ]
  },
  {
   "cell_type": "code",
   "execution_count": 5,
   "id": "6bf44e0b",
   "metadata": {},
   "outputs": [],
   "source": [
    "import calendar"
   ]
  },
  {
   "cell_type": "code",
   "execution_count": 6,
   "id": "827623ca",
   "metadata": {},
   "outputs": [],
   "source": [
    "calendar.TextCalendar?"
   ]
  },
  {
   "cell_type": "raw",
   "id": "91c50964",
   "metadata": {},
   "source": [
    "Init signature: calendar.TextCalendar(firstweekday=0)\n",
    "Docstring:     \n",
    "Subclass of Calendar that outputs a calendar as a simple plain text\n",
    "similar to the UNIX program cal."
   ]
  },
  {
   "cell_type": "code",
   "execution_count": 7,
   "id": "b9755f5c",
   "metadata": {},
   "outputs": [
    {
     "data": {
      "text/plain": [
       "<calendar.TextCalendar at 0x7ff668918700>"
      ]
     },
     "execution_count": 7,
     "metadata": {},
     "output_type": "execute_result"
    }
   ],
   "source": [
    "calendar.TextCalendar(0) # need to create object"
   ]
  },
  {
   "cell_type": "code",
   "execution_count": 8,
   "id": "5944c413",
   "metadata": {},
   "outputs": [],
   "source": [
    "cal = calendar.TextCalendar(0)"
   ]
  },
  {
   "cell_type": "code",
   "execution_count": 11,
   "id": "2d5b0118",
   "metadata": {},
   "outputs": [
    {
     "data": {
      "text/plain": [
       "0"
      ]
     },
     "execution_count": 11,
     "metadata": {},
     "output_type": "execute_result"
    }
   ],
   "source": [
    "cal.firstweekday"
   ]
  },
  {
   "cell_type": "code",
   "execution_count": 13,
   "id": "53c914d0",
   "metadata": {},
   "outputs": [],
   "source": [
    "cal.formatmonthname?"
   ]
  },
  {
   "cell_type": "raw",
   "id": "87307d50",
   "metadata": {},
   "source": [
    "Signature: cal.formatmonthname(theyear, themonth, width, withyear=True)\n",
    "Docstring: Return a formatted month name."
   ]
  },
  {
   "cell_type": "code",
   "execution_count": 16,
   "id": "072b4d66",
   "metadata": {},
   "outputs": [
    {
     "data": {
      "text/plain": [
       "'August 2023'"
      ]
     },
     "execution_count": 16,
     "metadata": {},
     "output_type": "execute_result"
    }
   ],
   "source": [
    "cal.formatmonthname(2023,8,1)"
   ]
  },
  {
   "cell_type": "code",
   "execution_count": 17,
   "id": "238fe405",
   "metadata": {},
   "outputs": [],
   "source": [
    "cal.formatday?"
   ]
  },
  {
   "cell_type": "raw",
   "id": "28a0f45f",
   "metadata": {},
   "source": [
    "Signature: cal.formatday(day, weekday, width)\n",
    "Docstring: Returns a formatted day."
   ]
  },
  {
   "cell_type": "code",
   "execution_count": 21,
   "id": "eb8c6ebf",
   "metadata": {},
   "outputs": [
    {
     "data": {
      "text/plain": [
       "'30'"
      ]
     },
     "execution_count": 21,
     "metadata": {},
     "output_type": "execute_result"
    }
   ],
   "source": [
    "cal.formatday(30,4,1)"
   ]
  },
  {
   "cell_type": "code",
   "execution_count": 22,
   "id": "83465bfe",
   "metadata": {},
   "outputs": [],
   "source": [
    "cal.formatmonth?"
   ]
  },
  {
   "cell_type": "raw",
   "id": "6414d621",
   "metadata": {},
   "source": [
    "Signature: cal.formatmonth(theyear, themonth, w=0, l=0)\n",
    "Docstring: Return a month's calendar string (multi-line)."
   ]
  },
  {
   "cell_type": "code",
   "execution_count": 23,
   "id": "21aebdfe",
   "metadata": {},
   "outputs": [
    {
     "data": {
      "text/plain": [
       "'    August 2023\\nMo Tu We Th Fr Sa Su\\n    1  2  3  4  5  6\\n 7  8  9 10 11 12 13\\n14 15 16 17 18 19 20\\n21 22 23 24 25 26 27\\n28 29 30 31\\n'"
      ]
     },
     "execution_count": 23,
     "metadata": {},
     "output_type": "execute_result"
    }
   ],
   "source": [
    "cal.formatmonth(2023,8) # To get in a formatted way. We need to print"
   ]
  },
  {
   "cell_type": "code",
   "execution_count": 24,
   "id": "3b2869f9",
   "metadata": {},
   "outputs": [
    {
     "name": "stdout",
     "output_type": "stream",
     "text": [
      "    August 2023\n",
      "Mo Tu We Th Fr Sa Su\n",
      "    1  2  3  4  5  6\n",
      " 7  8  9 10 11 12 13\n",
      "14 15 16 17 18 19 20\n",
      "21 22 23 24 25 26 27\n",
      "28 29 30 31\n",
      "\n"
     ]
    }
   ],
   "source": [
    "print(cal.formatmonth(2023,8))"
   ]
  },
  {
   "cell_type": "code",
   "execution_count": 25,
   "id": "903d9399",
   "metadata": {},
   "outputs": [
    {
     "name": "stdout",
     "output_type": "stream",
     "text": [
      "    August 9999\n",
      "Mo Tu We Th Fr Sa Su\n",
      "                   1\n",
      " 2  3  4  5  6  7  8\n",
      " 9 10 11 12 13 14 15\n",
      "16 17 18 19 20 21 22\n",
      "23 24 25 26 27 28 29\n",
      "30 31\n",
      "\n"
     ]
    }
   ],
   "source": [
    "print(cal.formatmonth(9999,8))"
   ]
  },
  {
   "cell_type": "code",
   "execution_count": 26,
   "id": "f30733c2",
   "metadata": {},
   "outputs": [],
   "source": [
    "import datetime"
   ]
  },
  {
   "cell_type": "code",
   "execution_count": 27,
   "id": "8a16a0cd",
   "metadata": {},
   "outputs": [
    {
     "data": {
      "text/plain": [
       "datetime.datetime(9999, 12, 31, 23, 59, 59, 999999)"
      ]
     },
     "execution_count": 27,
     "metadata": {},
     "output_type": "execute_result"
    }
   ],
   "source": [
    "datetime.datetime.max"
   ]
  },
  {
   "cell_type": "code",
   "execution_count": 28,
   "id": "4c02b59d",
   "metadata": {},
   "outputs": [],
   "source": [
    "cal.formatweek?"
   ]
  },
  {
   "cell_type": "raw",
   "id": "986118bc",
   "metadata": {},
   "source": [
    "Signature: cal.formatweek(theweek, width)\n",
    "Docstring: Returns a single week in a string (no newline)."
   ]
  },
  {
   "cell_type": "code",
   "execution_count": 29,
   "id": "fadf5f5b",
   "metadata": {},
   "outputs": [
    {
     "data": {
      "text/plain": [
       "'                                   5\\n\\n      January                   February                   March\\nMo Tu We Th Fr Sa Su      Mo Tu We Th Fr Sa Su      Mo Tu We Th Fr Sa Su\\n                1  2          1  2  3  4  5  6          1  2  3  4  5  6\\n 3  4  5  6  7  8  9       7  8  9 10 11 12 13       7  8  9 10 11 12 13\\n10 11 12 13 14 15 16      14 15 16 17 18 19 20      14 15 16 17 18 19 20\\n17 18 19 20 21 22 23      21 22 23 24 25 26 27      21 22 23 24 25 26 27\\n24 25 26 27 28 29 30      28                        28 29 30 31\\n31\\n\\n       April                      May                       June\\nMo Tu We Th Fr Sa Su      Mo Tu We Th Fr Sa Su      Mo Tu We Th Fr Sa Su\\n             1  2  3                         1             1  2  3  4  5\\n 4  5  6  7  8  9 10       2  3  4  5  6  7  8       6  7  8  9 10 11 12\\n11 12 13 14 15 16 17       9 10 11 12 13 14 15      13 14 15 16 17 18 19\\n18 19 20 21 22 23 24      16 17 18 19 20 21 22      20 21 22 23 24 25 26\\n25 26 27 28 29 30         23 24 25 26 27 28 29      27 28 29 30\\n                          30 31\\n\\n        July                     August                  September\\nMo Tu We Th Fr Sa Su      Mo Tu We Th Fr Sa Su      Mo Tu We Th Fr Sa Su\\n             1  2  3       1  2  3  4  5  6  7                1  2  3  4\\n 4  5  6  7  8  9 10       8  9 10 11 12 13 14       5  6  7  8  9 10 11\\n11 12 13 14 15 16 17      15 16 17 18 19 20 21      12 13 14 15 16 17 18\\n18 19 20 21 22 23 24      22 23 24 25 26 27 28      19 20 21 22 23 24 25\\n25 26 27 28 29 30 31      29 30 31                  26 27 28 29 30\\n\\n      October                   November                  December\\nMo Tu We Th Fr Sa Su      Mo Tu We Th Fr Sa Su      Mo Tu We Th Fr Sa Su\\n                1  2          1  2  3  4  5  6                1  2  3  4\\n 3  4  5  6  7  8  9       7  8  9 10 11 12 13       5  6  7  8  9 10 11\\n10 11 12 13 14 15 16      14 15 16 17 18 19 20      12 13 14 15 16 17 18\\n17 18 19 20 21 22 23      21 22 23 24 25 26 27      19 20 21 22 23 24 25\\n24 25 26 27 28 29 30      28 29 30                  26 27 28 29 30 31\\n31\\n'"
      ]
     },
     "execution_count": 29,
     "metadata": {},
     "output_type": "execute_result"
    }
   ],
   "source": [
    "cal.formatyear(5)"
   ]
  },
  {
   "cell_type": "code",
   "execution_count": 30,
   "id": "2925e6cb",
   "metadata": {},
   "outputs": [
    {
     "name": "stdout",
     "output_type": "stream",
     "text": [
      "                                   5\n",
      "\n",
      "      January                   February                   March\n",
      "Mo Tu We Th Fr Sa Su      Mo Tu We Th Fr Sa Su      Mo Tu We Th Fr Sa Su\n",
      "                1  2          1  2  3  4  5  6          1  2  3  4  5  6\n",
      " 3  4  5  6  7  8  9       7  8  9 10 11 12 13       7  8  9 10 11 12 13\n",
      "10 11 12 13 14 15 16      14 15 16 17 18 19 20      14 15 16 17 18 19 20\n",
      "17 18 19 20 21 22 23      21 22 23 24 25 26 27      21 22 23 24 25 26 27\n",
      "24 25 26 27 28 29 30      28                        28 29 30 31\n",
      "31\n",
      "\n",
      "       April                      May                       June\n",
      "Mo Tu We Th Fr Sa Su      Mo Tu We Th Fr Sa Su      Mo Tu We Th Fr Sa Su\n",
      "             1  2  3                         1             1  2  3  4  5\n",
      " 4  5  6  7  8  9 10       2  3  4  5  6  7  8       6  7  8  9 10 11 12\n",
      "11 12 13 14 15 16 17       9 10 11 12 13 14 15      13 14 15 16 17 18 19\n",
      "18 19 20 21 22 23 24      16 17 18 19 20 21 22      20 21 22 23 24 25 26\n",
      "25 26 27 28 29 30         23 24 25 26 27 28 29      27 28 29 30\n",
      "                          30 31\n",
      "\n",
      "        July                     August                  September\n",
      "Mo Tu We Th Fr Sa Su      Mo Tu We Th Fr Sa Su      Mo Tu We Th Fr Sa Su\n",
      "             1  2  3       1  2  3  4  5  6  7                1  2  3  4\n",
      " 4  5  6  7  8  9 10       8  9 10 11 12 13 14       5  6  7  8  9 10 11\n",
      "11 12 13 14 15 16 17      15 16 17 18 19 20 21      12 13 14 15 16 17 18\n",
      "18 19 20 21 22 23 24      22 23 24 25 26 27 28      19 20 21 22 23 24 25\n",
      "25 26 27 28 29 30 31      29 30 31                  26 27 28 29 30\n",
      "\n",
      "      October                   November                  December\n",
      "Mo Tu We Th Fr Sa Su      Mo Tu We Th Fr Sa Su      Mo Tu We Th Fr Sa Su\n",
      "                1  2          1  2  3  4  5  6                1  2  3  4\n",
      " 3  4  5  6  7  8  9       7  8  9 10 11 12 13       5  6  7  8  9 10 11\n",
      "10 11 12 13 14 15 16      14 15 16 17 18 19 20      12 13 14 15 16 17 18\n",
      "17 18 19 20 21 22 23      21 22 23 24 25 26 27      19 20 21 22 23 24 25\n",
      "24 25 26 27 28 29 30      28 29 30                  26 27 28 29 30 31\n",
      "31\n",
      "\n"
     ]
    }
   ],
   "source": [
    "print(cal.formatyear(5))"
   ]
  },
  {
   "cell_type": "code",
   "execution_count": 34,
   "id": "5713c95f",
   "metadata": {},
   "outputs": [],
   "source": [
    "cal.itermonthdates?"
   ]
  },
  {
   "cell_type": "raw",
   "id": "96e83fe8",
   "metadata": {},
   "source": [
    "Signature: cal.itermonthdates(year, month)\n",
    "Docstring:\n",
    "Return an iterator for one month. The iterator will yield datetime.date\n",
    "values and will always iterate through complete weeks, so it will yield\n",
    "dates outside the specified month."
   ]
  },
  {
   "cell_type": "code",
   "execution_count": 35,
   "id": "98281d05",
   "metadata": {},
   "outputs": [
    {
     "name": "stdout",
     "output_type": "stream",
     "text": [
      "<generator object Calendar.itermonthdates at 0x7ff669269a50>\n"
     ]
    }
   ],
   "source": [
    "print(cal.itermonthdates(2023,8))"
   ]
  },
  {
   "cell_type": "code",
   "execution_count": 36,
   "id": "62b0023d",
   "metadata": {},
   "outputs": [
    {
     "name": "stdout",
     "output_type": "stream",
     "text": [
      "2023-07-31\n",
      "2023-08-01\n",
      "2023-08-02\n",
      "2023-08-03\n",
      "2023-08-04\n",
      "2023-08-05\n",
      "2023-08-06\n",
      "2023-08-07\n",
      "2023-08-08\n",
      "2023-08-09\n",
      "2023-08-10\n",
      "2023-08-11\n",
      "2023-08-12\n",
      "2023-08-13\n",
      "2023-08-14\n",
      "2023-08-15\n",
      "2023-08-16\n",
      "2023-08-17\n",
      "2023-08-18\n",
      "2023-08-19\n",
      "2023-08-20\n",
      "2023-08-21\n",
      "2023-08-22\n",
      "2023-08-23\n",
      "2023-08-24\n",
      "2023-08-25\n",
      "2023-08-26\n",
      "2023-08-27\n",
      "2023-08-28\n",
      "2023-08-29\n",
      "2023-08-30\n",
      "2023-08-31\n",
      "2023-09-01\n",
      "2023-09-02\n",
      "2023-09-03\n"
     ]
    }
   ],
   "source": [
    "for i in cal.itermonthdates(2023,8):\n",
    "    print(i)"
   ]
  },
  {
   "cell_type": "code",
   "execution_count": 38,
   "id": "894895b2",
   "metadata": {},
   "outputs": [],
   "source": [
    "cal.itermonthdays?"
   ]
  },
  {
   "cell_type": "raw",
   "id": "3511ccb7",
   "metadata": {},
   "source": [
    "Signature: cal.itermonthdays(year, month)\n",
    "Docstring:\n",
    "Like itermonthdates(), but will yield day numbers. For days outside\n",
    "the specified month the day number is 0."
   ]
  },
  {
   "cell_type": "code",
   "execution_count": 37,
   "id": "ae4fb8fe",
   "metadata": {},
   "outputs": [
    {
     "name": "stdout",
     "output_type": "stream",
     "text": [
      "0\n",
      "1\n",
      "2\n",
      "3\n",
      "4\n",
      "5\n",
      "6\n",
      "7\n",
      "8\n",
      "9\n",
      "10\n",
      "11\n",
      "12\n",
      "13\n",
      "14\n",
      "15\n",
      "16\n",
      "17\n",
      "18\n",
      "19\n",
      "20\n",
      "21\n",
      "22\n",
      "23\n",
      "24\n",
      "25\n",
      "26\n",
      "27\n",
      "28\n",
      "29\n",
      "30\n",
      "31\n",
      "0\n",
      "0\n",
      "0\n"
     ]
    }
   ],
   "source": [
    "for i in cal.itermonthdays(2023,8):\n",
    "    print(i)"
   ]
  },
  {
   "cell_type": "code",
   "execution_count": 39,
   "id": "a3f755d0",
   "metadata": {},
   "outputs": [],
   "source": [
    "cal.itermonthdays2?"
   ]
  },
  {
   "cell_type": "raw",
   "id": "db835aea",
   "metadata": {},
   "source": [
    "Signature: cal.itermonthdays2(year, month)\n",
    "Docstring:\n",
    "Like itermonthdates(), but will yield (day number, weekday number)\n",
    "tuples. For days outside the specified month the day number is 0."
   ]
  },
  {
   "cell_type": "code",
   "execution_count": 40,
   "id": "91b7d820",
   "metadata": {},
   "outputs": [
    {
     "data": {
      "text/plain": [
       "<generator object Calendar.itermonthdays2 at 0x7ff659981660>"
      ]
     },
     "execution_count": 40,
     "metadata": {},
     "output_type": "execute_result"
    }
   ],
   "source": [
    " cal.itermonthdays2(2023,8)"
   ]
  },
  {
   "cell_type": "code",
   "execution_count": 41,
   "id": "2e3d44ed",
   "metadata": {},
   "outputs": [
    {
     "name": "stdout",
     "output_type": "stream",
     "text": [
      "(0, 0)\n",
      "(1, 1)\n",
      "(2, 2)\n",
      "(3, 3)\n",
      "(4, 4)\n",
      "(5, 5)\n",
      "(6, 6)\n",
      "(7, 0)\n",
      "(8, 1)\n",
      "(9, 2)\n",
      "(10, 3)\n",
      "(11, 4)\n",
      "(12, 5)\n",
      "(13, 6)\n",
      "(14, 0)\n",
      "(15, 1)\n",
      "(16, 2)\n",
      "(17, 3)\n",
      "(18, 4)\n",
      "(19, 5)\n",
      "(20, 6)\n",
      "(21, 0)\n",
      "(22, 1)\n",
      "(23, 2)\n",
      "(24, 3)\n",
      "(25, 4)\n",
      "(26, 5)\n",
      "(27, 6)\n",
      "(28, 0)\n",
      "(29, 1)\n",
      "(30, 2)\n",
      "(31, 3)\n",
      "(0, 4)\n",
      "(0, 5)\n",
      "(0, 6)\n"
     ]
    }
   ],
   "source": [
    "for i in cal.itermonthdays2(2023,8):\n",
    "    print(i)"
   ]
  },
  {
   "cell_type": "code",
   "execution_count": 42,
   "id": "e506be3a",
   "metadata": {},
   "outputs": [],
   "source": [
    "cal.itermonthdays3?"
   ]
  },
  {
   "cell_type": "raw",
   "id": "c8277004",
   "metadata": {},
   "source": [
    "Signature: cal.itermonthdays3(year, month)\n",
    "Docstring:\n",
    "Like itermonthdates(), but will yield (year, month, day) tuples.  Can be\n",
    "used for dates outside of datetime.date range."
   ]
  },
  {
   "cell_type": "code",
   "execution_count": 43,
   "id": "3e0d2cc0",
   "metadata": {},
   "outputs": [],
   "source": [
    "cal.itermonthdays4?"
   ]
  },
  {
   "cell_type": "raw",
   "id": "d52ef938",
   "metadata": {},
   "source": [
    "Signature: cal.itermonthdays4(year, month)\n",
    "Docstring:\n",
    "Like itermonthdates(), but will yield (year, month, day, day_of_week) tuples.\n",
    "Can be used for dates outside of datetime.date range."
   ]
  },
  {
   "cell_type": "code",
   "execution_count": 44,
   "id": "5391be4e",
   "metadata": {},
   "outputs": [],
   "source": [
    "cal.formatyear?"
   ]
  },
  {
   "cell_type": "raw",
   "id": "f9871d15",
   "metadata": {},
   "source": [
    "Signature: cal.formatyear(theyear, w=2, l=1, c=6, m=3)\n",
    "Docstring: Returns a year's calendar as a multi-line string."
   ]
  }
 ],
 "metadata": {
  "kernelspec": {
   "display_name": "Python 3 (ipykernel)",
   "language": "python",
   "name": "python3"
  },
  "language_info": {
   "codemirror_mode": {
    "name": "ipython",
    "version": 3
   },
   "file_extension": ".py",
   "mimetype": "text/x-python",
   "name": "python",
   "nbconvert_exporter": "python",
   "pygments_lexer": "ipython3",
   "version": "3.9.7"
  }
 },
 "nbformat": 4,
 "nbformat_minor": 5
}
