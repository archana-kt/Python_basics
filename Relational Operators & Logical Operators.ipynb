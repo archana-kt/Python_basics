{
 "cells": [
  {
   "cell_type": "markdown",
   "id": "b9d7c209",
   "metadata": {},
   "source": [
    "# Relational or Comparison operations"
   ]
  },
  {
   "cell_type": "raw",
   "id": "2fad74f1",
   "metadata": {},
   "source": [
    " # < <= > >= == !=\n",
    "\n",
    "# LHS OP RHS\n",
    "\n",
    "# The output of the relational operation is either True or False\n",
    "\n",
    "< if the LHS is less than RHS the output is True\n",
    "<= if the LHS is less than or equals the RHS the output is True\n",
    "> if the LHS is greater than RHS the output is True\n",
    ">= if the LHS is greater than or equals RHS the output is True\n",
    "== if the LHS and RHS equals then the output is True\n",
    "!= if the LHS not equals the RHS the output is True\n"
   ]
  },
  {
   "cell_type": "markdown",
   "id": "e321cb17",
   "metadata": {},
   "source": [
    "# Logical operations"
   ]
  },
  {
   "cell_type": "raw",
   "id": "55e6e148",
   "metadata": {},
   "source": [
    "\n",
    "\n",
    " # and or not\n",
    "\n",
    "These operators takes zeros and ones as input and provide 0s and 1s as outputthese operators takes zeros and ones as input and provide 0s and 1s as output\n",
    "These operators takes zeros and ones as input and provide 0s and 1s as output"
   ]
  },
  {
   "cell_type": "code",
   "execution_count": 1,
   "id": "66050c35",
   "metadata": {},
   "outputs": [
    {
     "data": {
      "text/plain": [
       "0"
      ]
     },
     "execution_count": 1,
     "metadata": {},
     "output_type": "execute_result"
    }
   ],
   "source": [
    "0 and 1"
   ]
  },
  {
   "cell_type": "code",
   "execution_count": 2,
   "id": "7ba9b862",
   "metadata": {},
   "outputs": [
    {
     "data": {
      "text/plain": [
       "1"
      ]
     },
     "execution_count": 2,
     "metadata": {},
     "output_type": "execute_result"
    }
   ],
   "source": [
    "1 and 1"
   ]
  },
  {
   "cell_type": "code",
   "execution_count": 3,
   "id": "4f1dc4b0",
   "metadata": {},
   "outputs": [
    {
     "data": {
      "text/plain": [
       "False"
      ]
     },
     "execution_count": 3,
     "metadata": {},
     "output_type": "execute_result"
    }
   ],
   "source": [
    "bool(0)"
   ]
  },
  {
   "cell_type": "code",
   "execution_count": 4,
   "id": "e67114d3",
   "metadata": {},
   "outputs": [
    {
     "data": {
      "text/plain": [
       "True"
      ]
     },
     "execution_count": 4,
     "metadata": {},
     "output_type": "execute_result"
    }
   ],
   "source": [
    "bool(1)"
   ]
  },
  {
   "cell_type": "code",
   "execution_count": 5,
   "id": "9548f604",
   "metadata": {},
   "outputs": [
    {
     "data": {
      "text/plain": [
       "False"
      ]
     },
     "execution_count": 5,
     "metadata": {},
     "output_type": "execute_result"
    }
   ],
   "source": [
    "False and False"
   ]
  },
  {
   "cell_type": "code",
   "execution_count": 6,
   "id": "87dfa35e",
   "metadata": {},
   "outputs": [
    {
     "data": {
      "text/plain": [
       "True"
      ]
     },
     "execution_count": 6,
     "metadata": {},
     "output_type": "execute_result"
    }
   ],
   "source": [
    "True or False"
   ]
  },
  {
   "cell_type": "code",
   "execution_count": 7,
   "id": "7aa52f31",
   "metadata": {},
   "outputs": [
    {
     "data": {
      "text/plain": [
       "True"
      ]
     },
     "execution_count": 7,
     "metadata": {},
     "output_type": "execute_result"
    }
   ],
   "source": [
    "True and True"
   ]
  },
  {
   "cell_type": "code",
   "execution_count": 8,
   "id": "f9e8f3d0",
   "metadata": {},
   "outputs": [
    {
     "data": {
      "text/plain": [
       "True"
      ]
     },
     "execution_count": 8,
     "metadata": {},
     "output_type": "execute_result"
    }
   ],
   "source": [
    "True or True"
   ]
  },
  {
   "cell_type": "code",
   "execution_count": 9,
   "id": "309be311",
   "metadata": {},
   "outputs": [
    {
     "data": {
      "text/plain": [
       "False"
      ]
     },
     "execution_count": 9,
     "metadata": {},
     "output_type": "execute_result"
    }
   ],
   "source": [
    "True & False"
   ]
  },
  {
   "cell_type": "code",
   "execution_count": 10,
   "id": "b3d59c41",
   "metadata": {},
   "outputs": [
    {
     "data": {
      "text/plain": [
       "True"
      ]
     },
     "execution_count": 10,
     "metadata": {},
     "output_type": "execute_result"
    }
   ],
   "source": [
    "True | False"
   ]
  },
  {
   "cell_type": "code",
   "execution_count": 11,
   "id": "6cb3344d",
   "metadata": {},
   "outputs": [],
   "source": [
    "#  logical operators are always used to combine the relational operations"
   ]
  },
  {
   "cell_type": "code",
   "execution_count": 12,
   "id": "8ec4aae3",
   "metadata": {},
   "outputs": [],
   "source": [
    "x = 10"
   ]
  },
  {
   "cell_type": "code",
   "execution_count": 13,
   "id": "8a5a8214",
   "metadata": {},
   "outputs": [],
   "source": [
    "y = 12"
   ]
  },
  {
   "cell_type": "code",
   "execution_count": 15,
   "id": "22b762b6",
   "metadata": {},
   "outputs": [
    {
     "data": {
      "text/plain": [
       "True"
      ]
     },
     "execution_count": 15,
     "metadata": {},
     "output_type": "execute_result"
    }
   ],
   "source": [
    "x < y"
   ]
  },
  {
   "cell_type": "code",
   "execution_count": 16,
   "id": "f3808fce",
   "metadata": {},
   "outputs": [],
   "source": [
    "z = 2"
   ]
  },
  {
   "cell_type": "code",
   "execution_count": 17,
   "id": "1ba52fdc",
   "metadata": {},
   "outputs": [
    {
     "data": {
      "text/plain": [
       "True"
      ]
     },
     "execution_count": 17,
     "metadata": {},
     "output_type": "execute_result"
    }
   ],
   "source": [
    "x<y and x>z"
   ]
  },
  {
   "cell_type": "code",
   "execution_count": 18,
   "id": "77f973b8",
   "metadata": {},
   "outputs": [
    {
     "data": {
      "text/plain": [
       "True"
      ]
     },
     "execution_count": 18,
     "metadata": {},
     "output_type": "execute_result"
    }
   ],
   "source": [
    "x<y and x>z or x==y and x>y"
   ]
  },
  {
   "cell_type": "code",
   "execution_count": 19,
   "id": "47934444",
   "metadata": {},
   "outputs": [
    {
     "data": {
      "text/plain": [
       "True"
      ]
     },
     "execution_count": 19,
     "metadata": {},
     "output_type": "execute_result"
    }
   ],
   "source": [
    "(x<y and x>z) or (x==y and x>y) and ((x<=y) and (y>z))"
   ]
  },
  {
   "cell_type": "code",
   "execution_count": 20,
   "id": "511b2894",
   "metadata": {},
   "outputs": [
    {
     "data": {
      "text/plain": [
       "True"
      ]
     },
     "execution_count": 20,
     "metadata": {},
     "output_type": "execute_result"
    }
   ],
   "source": [
    "(x<y and x>z) or (x==y and x>y) and (x<=y and y>z)"
   ]
  },
  {
   "cell_type": "code",
   "execution_count": 22,
   "id": "9b14b4ef",
   "metadata": {},
   "outputs": [
    {
     "name": "stdout",
     "output_type": "stream",
     "text": [
      "Is rainy: yes\n"
     ]
    }
   ],
   "source": [
    " is_rain=input(\"Is rainy: \")"
   ]
  },
  {
   "cell_type": "code",
   "execution_count": 23,
   "id": "0f75539b",
   "metadata": {},
   "outputs": [
    {
     "data": {
      "text/plain": [
       "'yes'"
      ]
     },
     "execution_count": 23,
     "metadata": {},
     "output_type": "execute_result"
    }
   ],
   "source": [
    "is_rain"
   ]
  },
  {
   "cell_type": "code",
   "execution_count": 24,
   "id": "1b66836b",
   "metadata": {},
   "outputs": [
    {
     "name": "stdout",
     "output_type": "stream",
     "text": [
      "Enter the game: tennis\n"
     ]
    }
   ],
   "source": [
    "playable=input(\"Enter the game: \")"
   ]
  },
  {
   "cell_type": "code",
   "execution_count": 25,
   "id": "914035a7",
   "metadata": {},
   "outputs": [
    {
     "data": {
      "text/plain": [
       "'tennis'"
      ]
     },
     "execution_count": 25,
     "metadata": {},
     "output_type": "execute_result"
    }
   ],
   "source": [
    "playable"
   ]
  },
  {
   "cell_type": "code",
   "execution_count": 26,
   "id": "6bc70317",
   "metadata": {},
   "outputs": [
    {
     "name": "stdout",
     "output_type": "stream",
     "text": [
      "tennis cannot play\n"
     ]
    }
   ],
   "source": [
    "if(is_rain):\n",
    "    print(playable, \"cannot play\")"
   ]
  },
  {
   "cell_type": "code",
   "execution_count": 27,
   "id": "3705552b",
   "metadata": {},
   "outputs": [
    {
     "name": "stdout",
     "output_type": "stream",
     "text": [
      "tennis cannot play\n"
     ]
    }
   ],
   "source": [
    "if(is_rain):\n",
    "    print(playable, \"cannot play\")\n",
    "else:\n",
    "    print(playable, \"can play\")"
   ]
  },
  {
   "cell_type": "code",
   "execution_count": 32,
   "id": "02e1e325",
   "metadata": {},
   "outputs": [
    {
     "name": "stdout",
     "output_type": "stream",
     "text": [
      "Enter the stadium (indoor/outdoor): indoor\n"
     ]
    }
   ],
   "source": [
    "field = input(\"Enter the stadium (indoor/outdoor): \")"
   ]
  },
  {
   "cell_type": "code",
   "execution_count": 33,
   "id": "9ffa94ae",
   "metadata": {},
   "outputs": [
    {
     "name": "stdout",
     "output_type": "stream",
     "text": [
      "Is_rain? : yes\n"
     ]
    }
   ],
   "source": [
    " is_rain = input(\"Is_rain? : \")"
   ]
  },
  {
   "cell_type": "code",
   "execution_count": 34,
   "id": "998bae06",
   "metadata": {},
   "outputs": [
    {
     "name": "stdout",
     "output_type": "stream",
     "text": [
      "tennis cannot play\n"
     ]
    }
   ],
   "source": [
    "if(is_rain == 'yes') and (field == 'indoor'):\n",
    "    print(playable, \"cannot play\")"
   ]
  },
  {
   "cell_type": "code",
   "execution_count": 35,
   "id": "db41f152",
   "metadata": {},
   "outputs": [
    {
     "name": "stdout",
     "output_type": "stream",
     "text": [
      "Is_rain? : no\n"
     ]
    }
   ],
   "source": [
    " is_rain = input(\"Is_rain? : \")"
   ]
  },
  {
   "cell_type": "code",
   "execution_count": 36,
   "id": "5860b04b",
   "metadata": {},
   "outputs": [
    {
     "name": "stdout",
     "output_type": "stream",
     "text": [
      "Enter the stadium (indoor/outdoor): outdoor\n"
     ]
    }
   ],
   "source": [
    "field = input(\"Enter the stadium (indoor/outdoor): \")"
   ]
  },
  {
   "cell_type": "code",
   "execution_count": 37,
   "id": "5af07c79",
   "metadata": {},
   "outputs": [],
   "source": [
    "if(is_rain == 'yes') and (field == 'indoor'):\n",
    "    print(playable, \"cannot play\")"
   ]
  },
  {
   "cell_type": "code",
   "execution_count": 38,
   "id": "16eb1790",
   "metadata": {},
   "outputs": [],
   "source": [
    "# bcoz it not true and so there is no output"
   ]
  },
  {
   "cell_type": "code",
   "execution_count": 39,
   "id": "20ed89a6",
   "metadata": {},
   "outputs": [
    {
     "name": "stdout",
     "output_type": "stream",
     "text": [
      "tennis can play\n"
     ]
    }
   ],
   "source": [
    "if(is_rain == 'yes') and (field == 'indoor'):\n",
    "    print(playable, \"cannot play\")\n",
    "elif(is_rain == 'no') and (field == 'outdoor'):\n",
    "    print(playable, \"can play\")"
   ]
  },
  {
   "cell_type": "code",
   "execution_count": 40,
   "id": "b108ded6",
   "metadata": {},
   "outputs": [
    {
     "name": "stdout",
     "output_type": "stream",
     "text": [
      "Is_rain? : not much\n"
     ]
    }
   ],
   "source": [
    "is_rain = input(\"Is_rain? : \")"
   ]
  },
  {
   "cell_type": "code",
   "execution_count": 41,
   "id": "35269695",
   "metadata": {},
   "outputs": [
    {
     "name": "stdout",
     "output_type": "stream",
     "text": [
      "Enter the stadium (indoor/outdoor): outdoor\n"
     ]
    }
   ],
   "source": [
    "field = input(\"Enter the stadium (indoor/outdoor): \")"
   ]
  },
  {
   "cell_type": "code",
   "execution_count": 42,
   "id": "f7ba6cf9",
   "metadata": {},
   "outputs": [
    {
     "name": "stdout",
     "output_type": "stream",
     "text": [
      "tennis can play anywhere\n"
     ]
    }
   ],
   "source": [
    "if(is_rain == 'yes') and (field == 'indoor'):\n",
    "    print(playable, \"cannot play\")\n",
    "elif(is_rain == 'no') and (field == 'outdoor'):\n",
    "    print(playable, \"can play\")\n",
    "else:\n",
    "    print(playable, \"can play anywhere\")"
   ]
  },
  {
   "cell_type": "code",
   "execution_count": 43,
   "id": "f39b5fb3",
   "metadata": {},
   "outputs": [],
   "source": [
    "if(is_rain == 'yes') and (field == 'indoor'):\n",
    "    print(playable, \"cannot play\")\n",
    "elif(is_rain == 'no') and (field == 'outdoor'):\n",
    "    print(playable, \"can play\")\n",
    "elif(is_rain == 'not much') and (field == 'indoor'):\n",
    "    print(playable, \"can play anywhere\")"
   ]
  },
  {
   "cell_type": "code",
   "execution_count": 44,
   "id": "400e8201",
   "metadata": {},
   "outputs": [],
   "source": [
    "# bcoz it is false."
   ]
  },
  {
   "cell_type": "code",
   "execution_count": 45,
   "id": "6065f2d3",
   "metadata": {},
   "outputs": [
    {
     "name": "stdout",
     "output_type": "stream",
     "text": [
      "tennis can play anywhere\n"
     ]
    }
   ],
   "source": [
    "if(is_rain == 'yes') and (field == 'indoor'):\n",
    "    print(playable, \"cannot play\")\n",
    "elif(is_rain == 'no') and (field == 'outdoor'):\n",
    "    print(playable, \"can play\")\n",
    "elif(is_rain == 'not much') and (field == 'outdoor'):\n",
    "    print(playable, \"can play anywhere\")"
   ]
  },
  {
   "cell_type": "code",
   "execution_count": 46,
   "id": "6b78a4d9",
   "metadata": {},
   "outputs": [],
   "source": [
    "x = 10\n",
    "y = 20"
   ]
  },
  {
   "cell_type": "code",
   "execution_count": 47,
   "id": "186c68ad",
   "metadata": {},
   "outputs": [
    {
     "name": "stdout",
     "output_type": "stream",
     "text": [
      "No\n"
     ]
    }
   ],
   "source": [
    "if(x > y):\n",
    "    print('Yes')\n",
    "else:\n",
    "    print('No')"
   ]
  },
  {
   "cell_type": "code",
   "execution_count": 85,
   "id": "f8d888eb",
   "metadata": {},
   "outputs": [
    {
     "name": "stdout",
     "output_type": "stream",
     "text": [
      "This will print\n"
     ]
    }
   ],
   "source": [
    "if False:\n",
    "    print(\"This will not print\")\n",
    "elif True:\n",
    "    print(\"This will print\")"
   ]
  },
  {
   "cell_type": "code",
   "execution_count": 86,
   "id": "d7db8767",
   "metadata": {},
   "outputs": [
    {
     "name": "stdout",
     "output_type": "stream",
     "text": [
      "This will print\n"
     ]
    }
   ],
   "source": [
    "if False:\n",
    "    print(\"This will not print\")\n",
    "    print(\"*******\")\n",
    "    print(\"^^^^^^^^^^^^^^^^^^^\")\n",
    "elif True:\n",
    "    print(\"This will print\")"
   ]
  },
  {
   "cell_type": "code",
   "execution_count": 87,
   "id": "443af0c7",
   "metadata": {},
   "outputs": [
    {
     "name": "stdout",
     "output_type": "stream",
     "text": [
      "This will not print\n",
      "*******\n",
      "^^^^^^^^^^^^^^^^^^^\n"
     ]
    }
   ],
   "source": [
    "if True:\n",
    "    print(\"This will not print\")\n",
    "    print(\"*******\")\n",
    "    print(\"^^^^^^^^^^^^^^^^^^^\")\n",
    "elif True:\n",
    "    print(\"This will print\")"
   ]
  },
  {
   "cell_type": "code",
   "execution_count": 88,
   "id": "6c873c29",
   "metadata": {},
   "outputs": [
    {
     "name": "stdout",
     "output_type": "stream",
     "text": [
      "This will not print\n",
      "*******\n",
      "^^^^^^^^^^^^^^^^^^^\n"
     ]
    }
   ],
   "source": [
    "if True:\n",
    "    print(\"This will not print\")\n",
    "    print(\"*******\")\n",
    "    print(\"^^^^^^^^^^^^^^^^^^^\")\n",
    "elif False:\n",
    "    print(\"This will print\")\n",
    "elif True:\n",
    "    print(\"This time this will print\")\n",
    "else:\n",
    "    print(\"Even this will print if any case does not work\")"
   ]
  },
  {
   "cell_type": "code",
   "execution_count": 89,
   "id": "479f793f",
   "metadata": {},
   "outputs": [
    {
     "name": "stdout",
     "output_type": "stream",
     "text": [
      "This time this will print\n"
     ]
    }
   ],
   "source": [
    "if False:\n",
    "    print(\"This will not print\")\n",
    "    print(\"*******\")\n",
    "    print(\"^^^^^^^^^^^^^^^^^^^\")\n",
    "elif False:\n",
    "    print(\"This will print\")\n",
    "elif True:\n",
    "    print(\"This time this will print\")\n",
    "else:\n",
    "    print(\"Even this will print if any case does not work\")"
   ]
  },
  {
   "cell_type": "code",
   "execution_count": 90,
   "id": "869a3ba4",
   "metadata": {},
   "outputs": [
    {
     "name": "stdout",
     "output_type": "stream",
     "text": [
      "Even this will print if any case does not work\n"
     ]
    }
   ],
   "source": [
    "if False:\n",
    "    print(\"This will not print\")\n",
    "    print(\"*******\")\n",
    "    print(\"^^^^^^^^^^^^^^^^^^^\")\n",
    "elif False:\n",
    "    print(\"This will print\")\n",
    "elif False:\n",
    "    print(\"This time this will print\")\n",
    "else:\n",
    "    print(\"Even this will print if any case does not work\")"
   ]
  },
  {
   "cell_type": "code",
   "execution_count": 91,
   "id": "298098e0",
   "metadata": {},
   "outputs": [
    {
     "name": "stdout",
     "output_type": "stream",
     "text": [
      "Enter the number12\n"
     ]
    }
   ],
   "source": [
    "num=int(input(\"Enter the number\"))"
   ]
  },
  {
   "cell_type": "code",
   "execution_count": 92,
   "id": "79838acf",
   "metadata": {},
   "outputs": [
    {
     "name": "stdout",
     "output_type": "stream",
     "text": [
      "Even number\n"
     ]
    }
   ],
   "source": [
    "if(num%2==0):\n",
    "    print(\"Even number\")\n",
    "else:\n",
    "    print(\"odd number\")"
   ]
  },
  {
   "cell_type": "code",
   "execution_count": 93,
   "id": "a1845ee1",
   "metadata": {},
   "outputs": [
    {
     "name": "stdout",
     "output_type": "stream",
     "text": [
      "Even number and its 12\n"
     ]
    }
   ],
   "source": [
    "if(num%2==0 and num==12):\n",
    "    print(\"Even number and its 12\")\n",
    "else:\n",
    "    print(\"odd number\")"
   ]
  },
  {
   "cell_type": "markdown",
   "id": "e2aab51e",
   "metadata": {},
   "source": [
    "# above is if inside if's body"
   ]
  },
  {
   "cell_type": "code",
   "execution_count": 53,
   "id": "e88cee6c",
   "metadata": {},
   "outputs": [
    {
     "name": "stdout",
     "output_type": "stream",
     "text": [
      "x is not equal to y\n"
     ]
    }
   ],
   "source": [
    "if(x < y):\n",
    "        if(x == y):\n",
    "            print(\"x is equal to y\")\n",
    "        else: \n",
    "            print(\"x is not equal to y\")\n",
    "elif(x <= y ):\n",
    "    print(\"x is less than equal to y\")\n",
    "else:\n",
    "    print(\"x is greater than y\")"
   ]
  },
  {
   "cell_type": "code",
   "execution_count": 54,
   "id": "6290ac24",
   "metadata": {},
   "outputs": [
    {
     "name": "stdout",
     "output_type": "stream",
     "text": [
      "x is not equal to y\n"
     ]
    }
   ],
   "source": [
    "if(x < y):\n",
    "    if(x >= y):\n",
    "         print(\"x is equal to y\")\n",
    "    else:\n",
    "          print(\"x is not equal to y\")\n",
    "elif(x <= y ):\n",
    "      print(\"x is less than equal to y\")\n",
    "else:\n",
    "     print(\"x is greater than y\")\n",
    "     "
   ]
  },
  {
   "cell_type": "code",
   "execution_count": 78,
   "id": "828b774b",
   "metadata": {},
   "outputs": [
    {
     "name": "stdout",
     "output_type": "stream",
     "text": [
      "x is less than or equal to y\n"
     ]
    }
   ],
   "source": [
    "if x > y:\n",
    "    if x == y:\n",
    "        print(\"x is equal to y\")\n",
    "    else:\n",
    "        print(\"x is not equal to y\")\n",
    "elif x <= y:\n",
    "    print(\"x is less than or equal to y\")\n",
    "else:\n",
    "    print(\"x is greater than y\")\n"
   ]
  },
  {
   "cell_type": "code",
   "execution_count": 79,
   "id": "0f196d18",
   "metadata": {},
   "outputs": [
    {
     "name": "stdout",
     "output_type": "stream",
     "text": [
      "x is less than y\n"
     ]
    }
   ],
   "source": [
    "if x > y:\n",
    "    if x == y:\n",
    "        print(\"x is equal to y\")\n",
    "    else:\n",
    "        print(\"x is not equal to y\")\n",
    "elif x < y:\n",
    "    print(\"x is less than y\")\n",
    "else:\n",
    "    print(\"x is less than or equal to y\")"
   ]
  },
  {
   "cell_type": "markdown",
   "id": "990ead69",
   "metadata": {},
   "source": [
    "# now if inside elif's body"
   ]
  },
  {
   "cell_type": "code",
   "execution_count": 80,
   "id": "44983d48",
   "metadata": {},
   "outputs": [
    {
     "name": "stdout",
     "output_type": "stream",
     "text": [
      "x is less than y\n"
     ]
    }
   ],
   "source": [
    "if x > y:\n",
    "    print(\"x is greater than y\")\n",
    "elif x < y:\n",
    "    print(\"x is less than y\")\n",
    "else:\n",
    "    print(\"x is equal to y\")"
   ]
  },
  {
   "cell_type": "code",
   "execution_count": 81,
   "id": "9c80d34b",
   "metadata": {},
   "outputs": [
    {
     "name": "stdout",
     "output_type": "stream",
     "text": [
      "x is less than y\n"
     ]
    }
   ],
   "source": [
    "if x > y:\n",
    "    print(\"x is greater than y\")\n",
    "elif x == y:\n",
    "    print(\"x is equal to y\")\n",
    "else:\n",
    "    print(\"x is less than y\")"
   ]
  },
  {
   "cell_type": "markdown",
   "id": "96271cf0",
   "metadata": {},
   "source": [
    "#  if inside else's body"
   ]
  },
  {
   "cell_type": "code",
   "execution_count": 83,
   "id": "4d6a0fe8",
   "metadata": {},
   "outputs": [
    {
     "name": "stdout",
     "output_type": "stream",
     "text": [
      "x is less than y\n"
     ]
    }
   ],
   "source": [
    "if x > y:\n",
    "    print(\"x is greater than y\")\n",
    "elif x == y:\n",
    "    print(\"x is equal to y\")\n",
    "else:\n",
    "    if x >= y:\n",
    "        print(\"x is greater than or equal to y\")\n",
    "    else:\n",
    "        print(\"x is less than y\")"
   ]
  },
  {
   "cell_type": "markdown",
   "id": "b4a88013",
   "metadata": {},
   "source": [
    "# if inside if's as well as else's or elif's body, i.e multiple if's inside"
   ]
  },
  {
   "cell_type": "code",
   "execution_count": 84,
   "id": "b84a193a",
   "metadata": {},
   "outputs": [
    {
     "name": "stdout",
     "output_type": "stream",
     "text": [
      "x is not equal to y\n"
     ]
    }
   ],
   "source": [
    "if x > y:\n",
    "    if x >= y:\n",
    "        print(\"x is greater than y\")\n",
    "    else:\n",
    "        print(\"x is not greater than y\")\n",
    "elif x < y:\n",
    "    if x == y:\n",
    "        print(\"x is equal to y\")\n",
    "    else:\n",
    "        print(\"x is not equal to y\")\n",
    "else:\n",
    "    if x < y:\n",
    "        print(\"x is less than y\")\n",
    "    else:\n",
    "        print(\"x is not less than y\")"
   ]
  }
 ],
 "metadata": {
  "kernelspec": {
   "display_name": "Python 3 (ipykernel)",
   "language": "python",
   "name": "python3"
  },
  "language_info": {
   "codemirror_mode": {
    "name": "ipython",
    "version": 3
   },
   "file_extension": ".py",
   "mimetype": "text/x-python",
   "name": "python",
   "nbconvert_exporter": "python",
   "pygments_lexer": "ipython3",
   "version": "3.9.7"
  }
 },
 "nbformat": 4,
 "nbformat_minor": 5
}
