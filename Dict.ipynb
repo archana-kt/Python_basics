{
 "cells": [
  {
   "cell_type": "markdown",
   "id": "51127910",
   "metadata": {},
   "source": [
    "# Dict"
   ]
  },
  {
   "cell_type": "markdown",
   "id": "aed0c7ca",
   "metadata": {},
   "source": [
    "# Characteristics of dict"
   ]
  },
  {
   "cell_type": "raw",
   "id": "47d580a7",
   "metadata": {},
   "source": [
    "Mutable\n",
    "Iterable\n",
    "Ordered\n",
    "Heterogenous"
   ]
  },
  {
   "cell_type": "code",
   "execution_count": 2,
   "id": "e99738d7",
   "metadata": {},
   "outputs": [],
   "source": [
    "data = {'Name' : 'Arc', 'Age': 28}"
   ]
  },
  {
   "cell_type": "code",
   "execution_count": 3,
   "id": "abc90fef",
   "metadata": {},
   "outputs": [
    {
     "data": {
      "text/plain": [
       "{'Name': 'Arc', 'Age': 28}"
      ]
     },
     "execution_count": 3,
     "metadata": {},
     "output_type": "execute_result"
    }
   ],
   "source": [
    "data"
   ]
  },
  {
   "cell_type": "code",
   "execution_count": 4,
   "id": "41bff449",
   "metadata": {},
   "outputs": [
    {
     "data": {
      "text/plain": [
       "dict"
      ]
     },
     "execution_count": 4,
     "metadata": {},
     "output_type": "execute_result"
    }
   ],
   "source": [
    "type(data)"
   ]
  },
  {
   "cell_type": "code",
   "execution_count": 10,
   "id": "33fa95f1",
   "metadata": {},
   "outputs": [],
   "source": [
    "# Methods in dict"
   ]
  },
  {
   "cell_type": "raw",
   "id": "860d45d9",
   "metadata": {},
   "source": [
    "keys()\n",
    "values()\n",
    "items()\n",
    "get()\n",
    "pop()\n",
    "popitem()\n",
    "clear()\n",
    "copy()\n",
    "fromkeys()\n",
    "update()"
   ]
  },
  {
   "cell_type": "code",
   "execution_count": 5,
   "id": "63e16468",
   "metadata": {},
   "outputs": [
    {
     "data": {
      "text/plain": [
       "dict_keys(['Name', 'Age'])"
      ]
     },
     "execution_count": 5,
     "metadata": {},
     "output_type": "execute_result"
    }
   ],
   "source": [
    "data.keys()"
   ]
  },
  {
   "cell_type": "code",
   "execution_count": 6,
   "id": "5db1efc6",
   "metadata": {},
   "outputs": [
    {
     "data": {
      "text/plain": [
       "dict_values(['Arc', 28])"
      ]
     },
     "execution_count": 6,
     "metadata": {},
     "output_type": "execute_result"
    }
   ],
   "source": [
    "data.values()"
   ]
  },
  {
   "cell_type": "code",
   "execution_count": 7,
   "id": "a6fce8b9",
   "metadata": {},
   "outputs": [
    {
     "data": {
      "text/plain": [
       "dict_items([('Name', 'Arc'), ('Age', 28)])"
      ]
     },
     "execution_count": 7,
     "metadata": {},
     "output_type": "execute_result"
    }
   ],
   "source": [
    "data.items()"
   ]
  },
  {
   "cell_type": "code",
   "execution_count": 8,
   "id": "578b9733",
   "metadata": {},
   "outputs": [
    {
     "data": {
      "text/plain": [
       "'Arc'"
      ]
     },
     "execution_count": 8,
     "metadata": {},
     "output_type": "execute_result"
    }
   ],
   "source": [
    "data.get('Name')"
   ]
  },
  {
   "cell_type": "code",
   "execution_count": 9,
   "id": "685c4753",
   "metadata": {},
   "outputs": [
    {
     "data": {
      "text/plain": [
       "28"
      ]
     },
     "execution_count": 9,
     "metadata": {},
     "output_type": "execute_result"
    }
   ],
   "source": [
    "data.get('Age')"
   ]
  },
  {
   "cell_type": "code",
   "execution_count": 12,
   "id": "b73e431b",
   "metadata": {},
   "outputs": [],
   "source": [
    "data.pop?"
   ]
  },
  {
   "cell_type": "raw",
   "id": "cc1e7c73",
   "metadata": {},
   "source": [
    "Docstring:\n",
    "D.pop(k[,d]) -> v, remove specified key and return the corresponding value."
   ]
  },
  {
   "cell_type": "code",
   "execution_count": 13,
   "id": "18e34edf",
   "metadata": {},
   "outputs": [
    {
     "data": {
      "text/plain": [
       "'Arc'"
      ]
     },
     "execution_count": 13,
     "metadata": {},
     "output_type": "execute_result"
    }
   ],
   "source": [
    "data.pop('Name')"
   ]
  },
  {
   "cell_type": "code",
   "execution_count": 14,
   "id": "673f59da",
   "metadata": {},
   "outputs": [
    {
     "data": {
      "text/plain": [
       "{'Age': 28}"
      ]
     },
     "execution_count": 14,
     "metadata": {},
     "output_type": "execute_result"
    }
   ],
   "source": [
    "data"
   ]
  },
  {
   "cell_type": "code",
   "execution_count": 16,
   "id": "7ab41fc7",
   "metadata": {},
   "outputs": [
    {
     "data": {
      "text/plain": [
       "('Age', 28)"
      ]
     },
     "execution_count": 16,
     "metadata": {},
     "output_type": "execute_result"
    }
   ],
   "source": [
    "data.popitem()"
   ]
  },
  {
   "cell_type": "code",
   "execution_count": 17,
   "id": "5f77225b",
   "metadata": {},
   "outputs": [
    {
     "data": {
      "text/plain": [
       "{}"
      ]
     },
     "execution_count": 17,
     "metadata": {},
     "output_type": "execute_result"
    }
   ],
   "source": [
    "data"
   ]
  },
  {
   "cell_type": "code",
   "execution_count": 18,
   "id": "e85bed77",
   "metadata": {},
   "outputs": [],
   "source": [
    "data.update({\"State\":\"TN\",\"Country\":\"India\"})"
   ]
  },
  {
   "cell_type": "code",
   "execution_count": 19,
   "id": "08fa158a",
   "metadata": {},
   "outputs": [
    {
     "data": {
      "text/plain": [
       "{'State': 'TN', 'Country': 'India'}"
      ]
     },
     "execution_count": 19,
     "metadata": {},
     "output_type": "execute_result"
    }
   ],
   "source": [
    "data"
   ]
  },
  {
   "cell_type": "code",
   "execution_count": 21,
   "id": "99d0660b",
   "metadata": {},
   "outputs": [],
   "source": [
    "x = data.copy()"
   ]
  },
  {
   "cell_type": "code",
   "execution_count": 22,
   "id": "f2887652",
   "metadata": {},
   "outputs": [
    {
     "data": {
      "text/plain": [
       "{'State': 'TN', 'Country': 'India'}"
      ]
     },
     "execution_count": 22,
     "metadata": {},
     "output_type": "execute_result"
    }
   ],
   "source": [
    "x"
   ]
  },
  {
   "cell_type": "code",
   "execution_count": 23,
   "id": "9da56a2c",
   "metadata": {},
   "outputs": [],
   "source": [
    "x.fromkeys?"
   ]
  },
  {
   "cell_type": "raw",
   "id": "e9af2d2f",
   "metadata": {},
   "source": [
    "Signature: x.fromkeys(iterable, value=None, /)\n",
    "Docstring: Create a new dictionary with keys from iterable and values set to value."
   ]
  },
  {
   "cell_type": "code",
   "execution_count": 26,
   "id": "af6f93a5",
   "metadata": {},
   "outputs": [],
   "source": [
    "a = {'key1', 'key2', 'key3'}\n",
    "b = 0\n",
    "\n",
    "c = dict.fromkeys(a,b)"
   ]
  },
  {
   "cell_type": "code",
   "execution_count": 27,
   "id": "c9016eea",
   "metadata": {},
   "outputs": [
    {
     "data": {
      "text/plain": [
       "{'key1': 0, 'key3': 0, 'key2': 0}"
      ]
     },
     "execution_count": 27,
     "metadata": {},
     "output_type": "execute_result"
    }
   ],
   "source": [
    "c"
   ]
  },
  {
   "cell_type": "code",
   "execution_count": 28,
   "id": "7ae580c2",
   "metadata": {},
   "outputs": [],
   "source": [
    "c.clear()"
   ]
  },
  {
   "cell_type": "code",
   "execution_count": 29,
   "id": "40b70a10",
   "metadata": {},
   "outputs": [
    {
     "data": {
      "text/plain": [
       "{}"
      ]
     },
     "execution_count": 29,
     "metadata": {},
     "output_type": "execute_result"
    }
   ],
   "source": [
    "c"
   ]
  },
  {
   "cell_type": "code",
   "execution_count": 30,
   "id": "86d65caa",
   "metadata": {},
   "outputs": [],
   "source": [
    "# Mutable"
   ]
  },
  {
   "cell_type": "code",
   "execution_count": 31,
   "id": "f7e891ff",
   "metadata": {},
   "outputs": [],
   "source": [
    "d = {'Name' : 'Arc', 'Age': 28}"
   ]
  },
  {
   "cell_type": "code",
   "execution_count": 32,
   "id": "438e8b27",
   "metadata": {},
   "outputs": [
    {
     "data": {
      "text/plain": [
       "{'Name': 'Arc', 'Age': 28}"
      ]
     },
     "execution_count": 32,
     "metadata": {},
     "output_type": "execute_result"
    }
   ],
   "source": [
    "d"
   ]
  },
  {
   "cell_type": "code",
   "execution_count": 33,
   "id": "28148013",
   "metadata": {},
   "outputs": [],
   "source": [
    "d['Name'] = 'Mani'"
   ]
  },
  {
   "cell_type": "code",
   "execution_count": 34,
   "id": "631e86ca",
   "metadata": {},
   "outputs": [
    {
     "data": {
      "text/plain": [
       "{'Name': 'Mani', 'Age': 28}"
      ]
     },
     "execution_count": 34,
     "metadata": {},
     "output_type": "execute_result"
    }
   ],
   "source": [
    "d"
   ]
  },
  {
   "cell_type": "code",
   "execution_count": 35,
   "id": "15191549",
   "metadata": {},
   "outputs": [],
   "source": [
    "# Iterable"
   ]
  },
  {
   "cell_type": "code",
   "execution_count": 38,
   "id": "87aea2cf",
   "metadata": {},
   "outputs": [
    {
     "name": "stdout",
     "output_type": "stream",
     "text": [
      "Name\n",
      "Age\n"
     ]
    }
   ],
   "source": [
    "for i in d:\n",
    "    print(i)"
   ]
  },
  {
   "cell_type": "code",
   "execution_count": 39,
   "id": "e351c61f",
   "metadata": {},
   "outputs": [
    {
     "name": "stdout",
     "output_type": "stream",
     "text": [
      "Mani\n",
      "28\n"
     ]
    }
   ],
   "source": [
    "for i in d.values():\n",
    "    print(i)"
   ]
  },
  {
   "cell_type": "code",
   "execution_count": 40,
   "id": "458e66a3",
   "metadata": {},
   "outputs": [
    {
     "name": "stdout",
     "output_type": "stream",
     "text": [
      "('Name', 'Mani')\n",
      "('Age', 28)\n"
     ]
    }
   ],
   "source": [
    "for i in d.items():\n",
    "    print(i)"
   ]
  },
  {
   "cell_type": "code",
   "execution_count": 41,
   "id": "529783d4",
   "metadata": {},
   "outputs": [
    {
     "data": {
      "text/plain": [
       "'Mani'"
      ]
     },
     "execution_count": 41,
     "metadata": {},
     "output_type": "execute_result"
    }
   ],
   "source": [
    "d['Name']"
   ]
  },
  {
   "cell_type": "code",
   "execution_count": 42,
   "id": "f8fd4141",
   "metadata": {},
   "outputs": [
    {
     "data": {
      "text/plain": [
       "28"
      ]
     },
     "execution_count": 42,
     "metadata": {},
     "output_type": "execute_result"
    }
   ],
   "source": [
    "d['Age']"
   ]
  },
  {
   "cell_type": "markdown",
   "id": "cc5c015d",
   "metadata": {},
   "source": [
    "# Another approach for inserting data"
   ]
  },
  {
   "cell_type": "code",
   "execution_count": 43,
   "id": "f1e9bbfa",
   "metadata": {},
   "outputs": [],
   "source": [
    "d['Blood'] = 'o+'"
   ]
  },
  {
   "cell_type": "code",
   "execution_count": 44,
   "id": "d5552563",
   "metadata": {},
   "outputs": [
    {
     "data": {
      "text/plain": [
       "{'Name': 'Mani', 'Age': 28, 'Blood': 'o+'}"
      ]
     },
     "execution_count": 44,
     "metadata": {},
     "output_type": "execute_result"
    }
   ],
   "source": [
    "d"
   ]
  },
  {
   "cell_type": "code",
   "execution_count": 45,
   "id": "c2a8504a",
   "metadata": {},
   "outputs": [
    {
     "name": "stdout",
     "output_type": "stream",
     "text": [
      "Enter ur id: 1234\n"
     ]
    }
   ],
   "source": [
    "value = int(input(\"Enter ur id: \"))"
   ]
  },
  {
   "cell_type": "code",
   "execution_count": 46,
   "id": "6e1b59a5",
   "metadata": {},
   "outputs": [
    {
     "data": {
      "text/plain": [
       "1234"
      ]
     },
     "execution_count": 46,
     "metadata": {},
     "output_type": "execute_result"
    }
   ],
   "source": [
    "value"
   ]
  },
  {
   "cell_type": "code",
   "execution_count": 47,
   "id": "de385ebf",
   "metadata": {},
   "outputs": [
    {
     "name": "stdout",
     "output_type": "stream",
     "text": [
      "33\n"
     ]
    }
   ],
   "source": [
    "a = input()"
   ]
  },
  {
   "cell_type": "code",
   "execution_count": 48,
   "id": "eb6395b1",
   "metadata": {},
   "outputs": [
    {
     "data": {
      "text/plain": [
       "'33'"
      ]
     },
     "execution_count": 48,
     "metadata": {},
     "output_type": "execute_result"
    }
   ],
   "source": [
    "a"
   ]
  },
  {
   "cell_type": "code",
   "execution_count": 49,
   "id": "2a9ebccd",
   "metadata": {},
   "outputs": [
    {
     "name": "stdout",
     "output_type": "stream",
     "text": [
      "'id': 11\n"
     ]
    }
   ],
   "source": [
    "d = input()"
   ]
  },
  {
   "cell_type": "code",
   "execution_count": 50,
   "id": "7ecf44f8",
   "metadata": {},
   "outputs": [
    {
     "data": {
      "text/plain": [
       "\"'id': 11\""
      ]
     },
     "execution_count": 50,
     "metadata": {},
     "output_type": "execute_result"
    }
   ],
   "source": [
    "d"
   ]
  },
  {
   "cell_type": "code",
   "execution_count": 78,
   "id": "03237d6a",
   "metadata": {},
   "outputs": [],
   "source": [
    "stud = dict({\"Name\":'archana',\"age\":28})"
   ]
  },
  {
   "cell_type": "code",
   "execution_count": 79,
   "id": "10d79deb",
   "metadata": {},
   "outputs": [
    {
     "data": {
      "text/plain": [
       "{'Name': 'archana', 'age': 28}"
      ]
     },
     "execution_count": 79,
     "metadata": {},
     "output_type": "execute_result"
    }
   ],
   "source": [
    "stud"
   ]
  },
  {
   "cell_type": "code",
   "execution_count": 80,
   "id": "28fcd1d6",
   "metadata": {},
   "outputs": [],
   "source": [
    "stud = dict(zip((\"Name\",\"Age\"),(\"Kalp\",21)))"
   ]
  },
  {
   "cell_type": "code",
   "execution_count": 82,
   "id": "50e83483",
   "metadata": {},
   "outputs": [
    {
     "data": {
      "text/plain": [
       "{'Name': 'Kalp', 'Age': 21}"
      ]
     },
     "execution_count": 82,
     "metadata": {},
     "output_type": "execute_result"
    }
   ],
   "source": [
    "stud # so here zip combine both dict"
   ]
  },
  {
   "cell_type": "code",
   "execution_count": 83,
   "id": "0b14e5dd",
   "metadata": {},
   "outputs": [],
   "source": [
    "# using list also we can insert"
   ]
  },
  {
   "cell_type": "code",
   "execution_count": 84,
   "id": "406f31fe",
   "metadata": {},
   "outputs": [],
   "source": [
    "stud = dict([['name','arc'],['blood','o+']])"
   ]
  },
  {
   "cell_type": "code",
   "execution_count": 85,
   "id": "ea2f3c81",
   "metadata": {},
   "outputs": [
    {
     "data": {
      "text/plain": [
       "{'name': 'arc', 'blood': 'o+'}"
      ]
     },
     "execution_count": 85,
     "metadata": {},
     "output_type": "execute_result"
    }
   ],
   "source": [
    "stud"
   ]
  },
  {
   "cell_type": "code",
   "execution_count": null,
   "id": "decf0d4a",
   "metadata": {},
   "outputs": [],
   "source": []
  },
  {
   "cell_type": "code",
   "execution_count": null,
   "id": "ccb19cd9",
   "metadata": {},
   "outputs": [],
   "source": []
  },
  {
   "cell_type": "code",
   "execution_count": null,
   "id": "65edda24",
   "metadata": {},
   "outputs": [],
   "source": []
  },
  {
   "cell_type": "code",
   "execution_count": 67,
   "id": "7f2c7f2f",
   "metadata": {},
   "outputs": [],
   "source": [
    "data = {}"
   ]
  },
  {
   "cell_type": "code",
   "execution_count": 68,
   "id": "7a81b5f4",
   "metadata": {},
   "outputs": [
    {
     "name": "stdout",
     "output_type": "stream",
     "text": [
      "Enter the name: arc\n",
      "Enter the age: 25\n",
      "Enter the name: mani\n",
      "Enter the age: 23\n",
      "Enter the name: kalp\n",
      "Enter the age: 51\n"
     ]
    }
   ],
   "source": [
    "for i in range(3):\n",
    "    name = input(\"Enter the name: \")\n",
    "    age = input(\"Enter the age: \")\n",
    "    data[name] = age"
   ]
  },
  {
   "cell_type": "code",
   "execution_count": 69,
   "id": "dd045651",
   "metadata": {},
   "outputs": [
    {
     "data": {
      "text/plain": [
       "{'arc': '25', 'mani': '23', 'kalp': '51'}"
      ]
     },
     "execution_count": 69,
     "metadata": {},
     "output_type": "execute_result"
    }
   ],
   "source": [
    "data"
   ]
  },
  {
   "cell_type": "code",
   "execution_count": 62,
   "id": "422d723f",
   "metadata": {},
   "outputs": [],
   "source": [
    "# Accessing the data"
   ]
  },
  {
   "cell_type": "code",
   "execution_count": 70,
   "id": "b7eb9023",
   "metadata": {},
   "outputs": [
    {
     "data": {
      "text/plain": [
       "'25'"
      ]
     },
     "execution_count": 70,
     "metadata": {},
     "output_type": "execute_result"
    }
   ],
   "source": [
    "data['arc']"
   ]
  },
  {
   "cell_type": "code",
   "execution_count": 71,
   "id": "b121c272",
   "metadata": {},
   "outputs": [
    {
     "data": {
      "text/plain": [
       "140696699509184"
      ]
     },
     "execution_count": 71,
     "metadata": {},
     "output_type": "execute_result"
    }
   ],
   "source": [
    "id(data)"
   ]
  },
  {
   "cell_type": "code",
   "execution_count": 74,
   "id": "8c13af5d",
   "metadata": {},
   "outputs": [],
   "source": [
    "data['arc'] = 29"
   ]
  },
  {
   "cell_type": "code",
   "execution_count": 75,
   "id": "88f320f5",
   "metadata": {},
   "outputs": [
    {
     "data": {
      "text/plain": [
       "{'arc': 29, 'mani': '23', 'kalp': '51'}"
      ]
     },
     "execution_count": 75,
     "metadata": {},
     "output_type": "execute_result"
    }
   ],
   "source": [
    "data"
   ]
  },
  {
   "cell_type": "code",
   "execution_count": 76,
   "id": "6047d5ab",
   "metadata": {},
   "outputs": [
    {
     "data": {
      "text/plain": [
       "140696699509184"
      ]
     },
     "execution_count": 76,
     "metadata": {},
     "output_type": "execute_result"
    }
   ],
   "source": [
    "id(data)"
   ]
  },
  {
   "cell_type": "code",
   "execution_count": 77,
   "id": "802d650e",
   "metadata": {},
   "outputs": [],
   "source": [
    "# same location is pointing"
   ]
  },
  {
   "cell_type": "code",
   "execution_count": null,
   "id": "72c0804b",
   "metadata": {},
   "outputs": [],
   "source": []
  }
 ],
 "metadata": {
  "kernelspec": {
   "display_name": "Python 3 (ipykernel)",
   "language": "python",
   "name": "python3"
  },
  "language_info": {
   "codemirror_mode": {
    "name": "ipython",
    "version": 3
   },
   "file_extension": ".py",
   "mimetype": "text/x-python",
   "name": "python",
   "nbconvert_exporter": "python",
   "pygments_lexer": "ipython3",
   "version": "3.9.7"
  }
 },
 "nbformat": 4,
 "nbformat_minor": 5
}
