{
 "cells": [
  {
   "cell_type": "markdown",
   "id": "4b532cfb",
   "metadata": {},
   "source": [
    "# Monkey Patching"
   ]
  },
  {
   "cell_type": "code",
   "execution_count": 11,
   "id": "2d07ef04",
   "metadata": {},
   "outputs": [],
   "source": [
    "class Student:\n",
    "    def getdata(self, name, age, city):\n",
    "        self.name = name\n",
    "        self.age = age\n",
    "        self.city = city"
   ]
  },
  {
   "cell_type": "code",
   "execution_count": 12,
   "id": "c9219c9e",
   "metadata": {},
   "outputs": [],
   "source": [
    "s = Student()"
   ]
  },
  {
   "cell_type": "code",
   "execution_count": 13,
   "id": "38d2e4ea",
   "metadata": {},
   "outputs": [],
   "source": [
    "s.getdata(\"Arc\", 27, \"Salem\")"
   ]
  },
  {
   "cell_type": "code",
   "execution_count": 8,
   "id": "22ff2d82",
   "metadata": {},
   "outputs": [],
   "source": [
    "# Injecting one method"
   ]
  },
  {
   "cell_type": "code",
   "execution_count": 14,
   "id": "f6913d22",
   "metadata": {},
   "outputs": [],
   "source": [
    "def displaystudent(self):\n",
    "    print(\"Name: \", self.name)\n",
    "    print(\"Age: \", self.age)\n",
    "    print(\"City: \", self.city)"
   ]
  },
  {
   "cell_type": "code",
   "execution_count": null,
   "id": "6ba6328c",
   "metadata": {},
   "outputs": [],
   "source": [
    "s."
   ]
  },
  {
   "cell_type": "raw",
   "id": "241776fb",
   "metadata": {},
   "source": [
    "s.age s.city s.getdata s.name # see now we get all these values for s object"
   ]
  },
  {
   "cell_type": "code",
   "execution_count": 18,
   "id": "1d044810",
   "metadata": {},
   "outputs": [],
   "source": [
    "Student.displayme = displaystudent"
   ]
  },
  {
   "cell_type": "code",
   "execution_count": 16,
   "id": "ecbe0fee",
   "metadata": {},
   "outputs": [],
   "source": [
    "# displayme is the property, which is used for assigning the displaystudent method this is called Monkey Patching"
   ]
  },
  {
   "cell_type": "code",
   "execution_count": 19,
   "id": "cb79906b",
   "metadata": {},
   "outputs": [],
   "source": [
    "s.getdata(\"Mani\", 25, \"Coimbatore\")"
   ]
  },
  {
   "cell_type": "code",
   "execution_count": 20,
   "id": "d94c14f7",
   "metadata": {},
   "outputs": [
    {
     "name": "stdout",
     "output_type": "stream",
     "text": [
      "Name:  Mani\n",
      "Age:  25\n",
      "City:  Coimbatore\n"
     ]
    }
   ],
   "source": [
    "s.displayme()"
   ]
  },
  {
   "cell_type": "raw",
   "id": "9e80b939",
   "metadata": {},
   "source": [
    "Monkey patching in python refers to modifying or updating a piece of code or class or any module at the runtime. In simple words, we can change the behavior or working of a class/ module at the runtime without changing the whole python code"
   ]
  }
 ],
 "metadata": {
  "kernelspec": {
   "display_name": "Python 3 (ipykernel)",
   "language": "python",
   "name": "python3"
  },
  "language_info": {
   "codemirror_mode": {
    "name": "ipython",
    "version": 3
   },
   "file_extension": ".py",
   "mimetype": "text/x-python",
   "name": "python",
   "nbconvert_exporter": "python",
   "pygments_lexer": "ipython3",
   "version": "3.9.7"
  }
 },
 "nbformat": 4,
 "nbformat_minor": 5
}
