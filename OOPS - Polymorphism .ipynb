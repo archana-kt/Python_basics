{
 "cells": [
  {
   "cell_type": "markdown",
   "id": "cb8a863a",
   "metadata": {},
   "source": [
    "# Polymorphism"
   ]
  },
  {
   "cell_type": "code",
   "execution_count": 1,
   "id": "1ffd0c1f",
   "metadata": {},
   "outputs": [],
   "source": [
    "# The ability to take multiple forms method / operator"
   ]
  },
  {
   "cell_type": "code",
   "execution_count": 2,
   "id": "3bd60f7a",
   "metadata": {},
   "outputs": [],
   "source": [
    "# overloading and overridding"
   ]
  },
  {
   "cell_type": "code",
   "execution_count": 3,
   "id": "e9becfe3",
   "metadata": {},
   "outputs": [],
   "source": [
    "name = \"Archana\""
   ]
  },
  {
   "cell_type": "code",
   "execution_count": 4,
   "id": "9abf1db4",
   "metadata": {},
   "outputs": [
    {
     "data": {
      "text/plain": [
       "str"
      ]
     },
     "execution_count": 4,
     "metadata": {},
     "output_type": "execute_result"
    }
   ],
   "source": [
    "type(name)"
   ]
  },
  {
   "cell_type": "code",
   "execution_count": 5,
   "id": "bf7828a4",
   "metadata": {},
   "outputs": [
    {
     "data": {
      "text/plain": [
       "7"
      ]
     },
     "execution_count": 5,
     "metadata": {},
     "output_type": "execute_result"
    }
   ],
   "source": [
    "len(name)"
   ]
  },
  {
   "cell_type": "code",
   "execution_count": 7,
   "id": "2e7415bc",
   "metadata": {},
   "outputs": [],
   "source": [
    "data={\"name\":'team',\"age\":[2,3,4,5],\"city\":['x','y','z','a']}"
   ]
  },
  {
   "cell_type": "code",
   "execution_count": 8,
   "id": "def7bf56",
   "metadata": {},
   "outputs": [
    {
     "data": {
      "text/plain": [
       "{'name': 'team', 'age': [2, 3, 4, 5], 'city': ['x', 'y', 'z', 'a']}"
      ]
     },
     "execution_count": 8,
     "metadata": {},
     "output_type": "execute_result"
    }
   ],
   "source": [
    "data"
   ]
  },
  {
   "cell_type": "code",
   "execution_count": 9,
   "id": "9ef0397b",
   "metadata": {},
   "outputs": [
    {
     "data": {
      "text/plain": [
       "dict"
      ]
     },
     "execution_count": 9,
     "metadata": {},
     "output_type": "execute_result"
    }
   ],
   "source": [
    "type(data)"
   ]
  },
  {
   "cell_type": "code",
   "execution_count": 10,
   "id": "a78216ad",
   "metadata": {},
   "outputs": [
    {
     "data": {
      "text/plain": [
       "3"
      ]
     },
     "execution_count": 10,
     "metadata": {},
     "output_type": "execute_result"
    }
   ],
   "source": [
    "len(data)"
   ]
  },
  {
   "cell_type": "markdown",
   "id": "127824e3",
   "metadata": {},
   "source": [
    "# See we are getting different forms of output for len and type for different data types. So polymorphism is representing this only."
   ]
  },
  {
   "cell_type": "code",
   "execution_count": 11,
   "id": "115f48f4",
   "metadata": {},
   "outputs": [],
   "source": [
    "class A:\n",
    "    def getdataA(self):\n",
    "        print(\"method getdataA from A\")\n",
    "        \n",
    "class B(A):\n",
    "    def getdataA(self):\n",
    "        print(\"method getdataA from B\")"
   ]
  },
  {
   "cell_type": "code",
   "execution_count": 12,
   "id": "4e627608",
   "metadata": {},
   "outputs": [],
   "source": [
    "obj = B()"
   ]
  },
  {
   "cell_type": "code",
   "execution_count": 13,
   "id": "d52b9c20",
   "metadata": {},
   "outputs": [
    {
     "name": "stdout",
     "output_type": "stream",
     "text": [
      "method getdataA from B\n"
     ]
    }
   ],
   "source": [
    "obj.getdataA() # Overidding"
   ]
  },
  {
   "cell_type": "markdown",
   "id": "be4fce10",
   "metadata": {},
   "source": [
    "# <font color=\"red\">Method1</font>"
   ]
  },
  {
   "cell_type": "code",
   "execution_count": 14,
   "id": "0a128fd4",
   "metadata": {},
   "outputs": [],
   "source": [
    "# To get without overidding, we need to create seperate obj for A."
   ]
  },
  {
   "cell_type": "code",
   "execution_count": 15,
   "id": "b233997a",
   "metadata": {},
   "outputs": [],
   "source": [
    "obj1 = A()"
   ]
  },
  {
   "cell_type": "code",
   "execution_count": 16,
   "id": "a3e1008c",
   "metadata": {},
   "outputs": [],
   "source": [
    "obj2 = B()"
   ]
  },
  {
   "cell_type": "code",
   "execution_count": 17,
   "id": "652f2d6a",
   "metadata": {},
   "outputs": [
    {
     "name": "stdout",
     "output_type": "stream",
     "text": [
      "method getdataA from A\n"
     ]
    }
   ],
   "source": [
    "obj1.getdataA()"
   ]
  },
  {
   "cell_type": "code",
   "execution_count": 18,
   "id": "947082c8",
   "metadata": {},
   "outputs": [
    {
     "name": "stdout",
     "output_type": "stream",
     "text": [
      "method getdataA from B\n"
     ]
    }
   ],
   "source": [
    "obj2.getdataA()"
   ]
  },
  {
   "cell_type": "markdown",
   "id": "a0d5145f",
   "metadata": {},
   "source": [
    "# Bcoz python doesn't support method overloading. So we go for method 2 now"
   ]
  },
  {
   "cell_type": "markdown",
   "id": "50e187c1",
   "metadata": {},
   "source": [
    "# <font color=\"red\">Method2</font>"
   ]
  },
  {
   "cell_type": "code",
   "execution_count": 20,
   "id": "910124e0",
   "metadata": {},
   "outputs": [],
   "source": [
    "class A:\n",
    "    def getdataA(self):\n",
    "        print(\"method getdataA from A\")\n",
    "    \n",
    "    def getdataA(self,name):\n",
    "        self.name = name\n",
    "        print(\"Name: \", self.name)"
   ]
  },
  {
   "cell_type": "code",
   "execution_count": 21,
   "id": "0906839e",
   "metadata": {},
   "outputs": [],
   "source": [
    "obj = A()"
   ]
  },
  {
   "cell_type": "code",
   "execution_count": 23,
   "id": "1b015a58",
   "metadata": {},
   "outputs": [
    {
     "name": "stdout",
     "output_type": "stream",
     "text": [
      "Name:  Archana\n"
     ]
    }
   ],
   "source": [
    "obj.getdataA('Archana')"
   ]
  },
  {
   "cell_type": "code",
   "execution_count": 24,
   "id": "651cb64d",
   "metadata": {},
   "outputs": [],
   "source": [
    "# See above, it get only the 2nd method. It overides 1st method"
   ]
  },
  {
   "cell_type": "code",
   "execution_count": 25,
   "id": "790de835",
   "metadata": {},
   "outputs": [],
   "source": [
    "class A:\n",
    "    def getdataA(self,name = \"Mani\"):\n",
    "        self.name = name\n",
    "        print(\"Name: \", self.name)"
   ]
  },
  {
   "cell_type": "code",
   "execution_count": 26,
   "id": "9f7248cf",
   "metadata": {},
   "outputs": [],
   "source": [
    "obj = A()"
   ]
  },
  {
   "cell_type": "code",
   "execution_count": 27,
   "id": "18bb7467",
   "metadata": {},
   "outputs": [
    {
     "name": "stdout",
     "output_type": "stream",
     "text": [
      "Name:  Mani\n"
     ]
    }
   ],
   "source": [
    "obj.getdataA()"
   ]
  },
  {
   "cell_type": "code",
   "execution_count": 30,
   "id": "71c82354",
   "metadata": {},
   "outputs": [
    {
     "name": "stdout",
     "output_type": "stream",
     "text": [
      "Name:  Arch\n"
     ]
    }
   ],
   "source": [
    "obj.getdataA(\"Arch\")"
   ]
  },
  {
   "cell_type": "code",
   "execution_count": 31,
   "id": "0ba48f0d",
   "metadata": {},
   "outputs": [
    {
     "data": {
      "text/plain": [
       "'Arch'"
      ]
     },
     "execution_count": 31,
     "metadata": {},
     "output_type": "execute_result"
    }
   ],
   "source": [
    "obj.name"
   ]
  },
  {
   "cell_type": "code",
   "execution_count": 28,
   "id": "29a70df9",
   "metadata": {},
   "outputs": [],
   "source": [
    "# See above, need to give self.name in the 1st method itself"
   ]
  },
  {
   "cell_type": "markdown",
   "id": "6df3d62c",
   "metadata": {},
   "source": [
    "# <font color=\"red\">Method3</font>"
   ]
  },
  {
   "cell_type": "code",
   "execution_count": 32,
   "id": "06548e9f",
   "metadata": {},
   "outputs": [
    {
     "name": "stdout",
     "output_type": "stream",
     "text": [
      "Collecting pythonlangutil\n",
      "  Downloading pythonlangutil-0.1.zip (7.3 kB)\n",
      "  Preparing metadata (setup.py) ... \u001b[?25ldone\n",
      "\u001b[?25hBuilding wheels for collected packages: pythonlangutil\n",
      "  Building wheel for pythonlangutil (setup.py) ... \u001b[?25ldone\n",
      "\u001b[?25h  Created wheel for pythonlangutil: filename=pythonlangutil-0.1-py3-none-any.whl size=3883 sha256=859bf06209cbb65902544fa40f23dde3c8f4afd41f98c4c910fec57f16f5ab2c\n",
      "  Stored in directory: /Users/archanaqueen/Library/Caches/pip/wheels/a0/d9/7c/93a8741ab96f6e2b65addc70e55ee8721cf014afbeaa75a236\n",
      "Successfully built pythonlangutil\n",
      "\u001b[33mDEPRECATION: pyodbc 4.0.0-unsupported has a non-standard version number. pip 23.3 will enforce this behaviour change. A possible replacement is to upgrade to a newer version of pyodbc or contact the author to suggest that they release a version with a conforming version number. Discussion can be found at https://github.com/pypa/pip/issues/12063\u001b[0m\u001b[33m\n",
      "\u001b[0mInstalling collected packages: pythonlangutil\n",
      "Successfully installed pythonlangutil-0.1\n",
      "Note: you may need to restart the kernel to use updated packages.\n"
     ]
    }
   ],
   "source": [
    "pip install pythonlangutil"
   ]
  },
  {
   "cell_type": "code",
   "execution_count": 34,
   "id": "b3dc1534",
   "metadata": {},
   "outputs": [],
   "source": [
    "from pythonlangutil.overload import Overload, signature"
   ]
  },
  {
   "cell_type": "code",
   "execution_count": 37,
   "id": "9e41efe9",
   "metadata": {},
   "outputs": [],
   "source": [
    "class A:\n",
    "    @Overload\n",
    "    @signature()\n",
    "    def getdataA(self):\n",
    "        print(\"method getdataA from A\")\n",
    "        \n",
    "    @getdataA.overload\n",
    "    @signature(\"str\")\n",
    "    def getdataA(self,name):\n",
    "        self.name = name\n",
    "        print(\"Name: \", self.name)"
   ]
  },
  {
   "cell_type": "code",
   "execution_count": 38,
   "id": "db2fdf8e",
   "metadata": {},
   "outputs": [],
   "source": [
    "obj = A()"
   ]
  },
  {
   "cell_type": "code",
   "execution_count": 39,
   "id": "0d771db0",
   "metadata": {},
   "outputs": [
    {
     "name": "stdout",
     "output_type": "stream",
     "text": [
      "Name:  Arc\n"
     ]
    }
   ],
   "source": [
    "obj.getdataA('Arc')"
   ]
  },
  {
   "cell_type": "code",
   "execution_count": 40,
   "id": "ac6ad47b",
   "metadata": {},
   "outputs": [
    {
     "data": {
      "text/plain": [
       "'Arc'"
      ]
     },
     "execution_count": 40,
     "metadata": {},
     "output_type": "execute_result"
    }
   ],
   "source": [
    "obj.name"
   ]
  },
  {
   "cell_type": "code",
   "execution_count": 41,
   "id": "58f1bf91",
   "metadata": {},
   "outputs": [
    {
     "name": "stdout",
     "output_type": "stream",
     "text": [
      "Name:  Mani\n"
     ]
    }
   ],
   "source": [
    "obj.getdataA('Mani')"
   ]
  },
  {
   "cell_type": "code",
   "execution_count": 42,
   "id": "6e2c383f",
   "metadata": {},
   "outputs": [
    {
     "data": {
      "text/plain": [
       "'Mani'"
      ]
     },
     "execution_count": 42,
     "metadata": {},
     "output_type": "execute_result"
    }
   ],
   "source": [
    "obj.name"
   ]
  }
 ],
 "metadata": {
  "kernelspec": {
   "display_name": "Python 3 (ipykernel)",
   "language": "python",
   "name": "python3"
  },
  "language_info": {
   "codemirror_mode": {
    "name": "ipython",
    "version": 3
   },
   "file_extension": ".py",
   "mimetype": "text/x-python",
   "name": "python",
   "nbconvert_exporter": "python",
   "pygments_lexer": "ipython3",
   "version": "3.9.7"
  }
 },
 "nbformat": 4,
 "nbformat_minor": 5
}
