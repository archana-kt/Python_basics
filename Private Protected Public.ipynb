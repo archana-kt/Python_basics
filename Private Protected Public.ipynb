{
 "cells": [
  {
   "cell_type": "markdown",
   "id": "efb48fbe",
   "metadata": {},
   "source": [
    "# Private # Public # Protected"
   ]
  },
  {
   "cell_type": "markdown",
   "id": "f82318cb",
   "metadata": {},
   "source": [
    "# Public"
   ]
  },
  {
   "cell_type": "code",
   "execution_count": 1,
   "id": "158fd9e4",
   "metadata": {},
   "outputs": [],
   "source": [
    "class A:\n",
    "    def getmethod(self):\n",
    "        self.name = 'Archana'\n",
    "        self.city = 'Salem'\n",
    "    def displaymethod(self):\n",
    "        print('Name: ', self.name)\n",
    "        print('City: ', self.city)"
   ]
  },
  {
   "cell_type": "code",
   "execution_count": 2,
   "id": "8b7fe566",
   "metadata": {},
   "outputs": [],
   "source": [
    "a = A()"
   ]
  },
  {
   "cell_type": "code",
   "execution_count": 3,
   "id": "ff70d56f",
   "metadata": {},
   "outputs": [],
   "source": [
    "a.getmethod()"
   ]
  },
  {
   "cell_type": "code",
   "execution_count": 4,
   "id": "c670aa68",
   "metadata": {},
   "outputs": [
    {
     "name": "stdout",
     "output_type": "stream",
     "text": [
      "Name:  Archana\n",
      "City:  Salem\n"
     ]
    }
   ],
   "source": [
    "a.displaymethod()"
   ]
  },
  {
   "cell_type": "code",
   "execution_count": 5,
   "id": "7956e507",
   "metadata": {},
   "outputs": [
    {
     "data": {
      "text/plain": [
       "'Archana'"
      ]
     },
     "execution_count": 5,
     "metadata": {},
     "output_type": "execute_result"
    }
   ],
   "source": [
    "a.name"
   ]
  },
  {
   "cell_type": "code",
   "execution_count": 6,
   "id": "0cac45c9",
   "metadata": {},
   "outputs": [
    {
     "data": {
      "text/plain": [
       "'Salem'"
      ]
     },
     "execution_count": 6,
     "metadata": {},
     "output_type": "execute_result"
    }
   ],
   "source": [
    "a.city"
   ]
  },
  {
   "cell_type": "markdown",
   "id": "2f6f0f86",
   "metadata": {},
   "source": [
    "# Private"
   ]
  },
  {
   "cell_type": "code",
   "execution_count": 7,
   "id": "f2de9fb5",
   "metadata": {},
   "outputs": [],
   "source": [
    "class A:\n",
    "    def getmethod(self):\n",
    "        self.__name = 'Archana'\n",
    "        self.__city = 'Salem'\n",
    "    def displaymethod(self):\n",
    "        print('Name: ', self.__name)\n",
    "        print('City: ', self.__city)"
   ]
  },
  {
   "cell_type": "code",
   "execution_count": 8,
   "id": "3e40006b",
   "metadata": {},
   "outputs": [],
   "source": [
    "a1 = A()"
   ]
  },
  {
   "cell_type": "code",
   "execution_count": 9,
   "id": "796b7f99",
   "metadata": {},
   "outputs": [],
   "source": [
    "a1.getmethod()"
   ]
  },
  {
   "cell_type": "code",
   "execution_count": 10,
   "id": "1a19a80f",
   "metadata": {},
   "outputs": [
    {
     "name": "stdout",
     "output_type": "stream",
     "text": [
      "Name:  Archana\n",
      "City:  Salem\n"
     ]
    }
   ],
   "source": [
    "a1.displaymethod()"
   ]
  },
  {
   "cell_type": "raw",
   "id": "27c4454f",
   "metadata": {},
   "source": [
    "# See here we can't able to get separetely name and city (i.e) instance variables. Bcoz it is given as private with double underscore"
   ]
  },
  {
   "cell_type": "code",
   "execution_count": 11,
   "id": "e453a346",
   "metadata": {},
   "outputs": [],
   "source": [
    "class A: \n",
    "    college = 'GCE'  #class variable is public here\n",
    "    def getmethod(self):\n",
    "        self.__name = 'Archana'\n",
    "        self.__city = 'Salem'\n",
    "    def displaymethod(self):\n",
    "        print('Name: ', self.__name)\n",
    "        print('City: ', self.__city)"
   ]
  },
  {
   "cell_type": "code",
   "execution_count": 12,
   "id": "cf4c4f80",
   "metadata": {},
   "outputs": [],
   "source": [
    "a2 = A()"
   ]
  },
  {
   "cell_type": "code",
   "execution_count": 13,
   "id": "e0276a9d",
   "metadata": {},
   "outputs": [],
   "source": [
    "a2.getmethod()"
   ]
  },
  {
   "cell_type": "code",
   "execution_count": 14,
   "id": "cd5111ea",
   "metadata": {},
   "outputs": [
    {
     "name": "stdout",
     "output_type": "stream",
     "text": [
      "Name:  Archana\n",
      "City:  Salem\n"
     ]
    }
   ],
   "source": [
    "a2.displaymethod()"
   ]
  },
  {
   "cell_type": "code",
   "execution_count": 15,
   "id": "3d207790",
   "metadata": {},
   "outputs": [
    {
     "data": {
      "text/plain": [
       "'GCE'"
      ]
     },
     "execution_count": 15,
     "metadata": {},
     "output_type": "execute_result"
    }
   ],
   "source": [
    "a2.college # class variable is public and so it is accessible"
   ]
  },
  {
   "cell_type": "markdown",
   "id": "c2c942a9",
   "metadata": {},
   "source": [
    "# Class variable is public and so it is accessible by inherited class also"
   ]
  },
  {
   "cell_type": "code",
   "execution_count": 16,
   "id": "c21bedeb",
   "metadata": {},
   "outputs": [],
   "source": [
    "class A: \n",
    "    college = 'GCE'  #class variable is public here\n",
    "    def getmethod(self):\n",
    "        self.__name = 'Archana'\n",
    "        self.__city = 'Salem'\n",
    "    def displaymethod(self):\n",
    "        print('Name: ', self.__name)\n",
    "        print('City: ', self.__city)\n",
    "        \n",
    "class B(A):\n",
    "    def getmethodB(self):\n",
    "        self.__salary = 100000\n",
    "    def displaymethodB(self):\n",
    "        print('Salary: ', self.__salary)"
   ]
  },
  {
   "cell_type": "code",
   "execution_count": 17,
   "id": "2f87db06",
   "metadata": {},
   "outputs": [],
   "source": [
    "b = B()"
   ]
  },
  {
   "cell_type": "code",
   "execution_count": 19,
   "id": "05235206",
   "metadata": {},
   "outputs": [
    {
     "data": {
      "text/plain": [
       "'GCE'"
      ]
     },
     "execution_count": 19,
     "metadata": {},
     "output_type": "execute_result"
    }
   ],
   "source": [
    "b.college"
   ]
  },
  {
   "cell_type": "code",
   "execution_count": 20,
   "id": "0e7c11ab",
   "metadata": {},
   "outputs": [],
   "source": [
    "b.getmethod()"
   ]
  },
  {
   "cell_type": "code",
   "execution_count": 21,
   "id": "007b05c2",
   "metadata": {},
   "outputs": [
    {
     "name": "stdout",
     "output_type": "stream",
     "text": [
      "Name:  Archana\n",
      "City:  Salem\n"
     ]
    }
   ],
   "source": [
    "b.displaymethod()"
   ]
  },
  {
   "cell_type": "code",
   "execution_count": 22,
   "id": "7ac31d4c",
   "metadata": {},
   "outputs": [],
   "source": [
    "b.getmethodB()"
   ]
  },
  {
   "cell_type": "code",
   "execution_count": 23,
   "id": "a6bb6010",
   "metadata": {},
   "outputs": [
    {
     "name": "stdout",
     "output_type": "stream",
     "text": [
      "Salary:  100000\n"
     ]
    }
   ],
   "source": [
    "b.displaymethodB()"
   ]
  },
  {
   "cell_type": "markdown",
   "id": "3616838d",
   "metadata": {},
   "source": [
    "# Class variable is private and so it is accessible only with in the class "
   ]
  },
  {
   "cell_type": "code",
   "execution_count": 31,
   "id": "09cdf36a",
   "metadata": {},
   "outputs": [],
   "source": [
    "class A: \n",
    "    __college = 'GCE'  #class variable is private here\n",
    "    def getmethod(self):\n",
    "        self.__name = 'Archana'\n",
    "        self.__city = 'Salem'\n",
    "    def displaymethod(self):\n",
    "        print('Name: ', self.__name)\n",
    "        print('City: ', self.__city)\n",
    "        print(\"College: \",A.__college) # To print this private class variable. Use class name.__college\n",
    "        \n",
    "class B(A):\n",
    "    def getmethodB(self):\n",
    "        self.__salary = 100000\n",
    "    def displaymethodB(self):\n",
    "        print('Salary: ', self.__salary)"
   ]
  },
  {
   "cell_type": "code",
   "execution_count": 32,
   "id": "4d57baf6",
   "metadata": {},
   "outputs": [],
   "source": [
    "b1 = B()"
   ]
  },
  {
   "cell_type": "code",
   "execution_count": 33,
   "id": "e4cf65ae",
   "metadata": {},
   "outputs": [],
   "source": [
    "b1.getmethod()"
   ]
  },
  {
   "cell_type": "code",
   "execution_count": 34,
   "id": "3d77e24f",
   "metadata": {},
   "outputs": [
    {
     "name": "stdout",
     "output_type": "stream",
     "text": [
      "Name:  Archana\n",
      "City:  Salem\n",
      "College:  GCE\n"
     ]
    }
   ],
   "source": [
    "b1.displaymethod()"
   ]
  },
  {
   "cell_type": "code",
   "execution_count": 35,
   "id": "cda38c12",
   "metadata": {},
   "outputs": [],
   "source": [
    "b1.getmethodB()"
   ]
  },
  {
   "cell_type": "code",
   "execution_count": 36,
   "id": "a69dffb2",
   "metadata": {},
   "outputs": [
    {
     "name": "stdout",
     "output_type": "stream",
     "text": [
      "Salary:  100000\n"
     ]
    }
   ],
   "source": [
    "b1.displaymethodB()"
   ]
  },
  {
   "cell_type": "code",
   "execution_count": 37,
   "id": "639c02ee",
   "metadata": {},
   "outputs": [],
   "source": [
    "# private variable can be accessible by the member function or methods of the own class"
   ]
  },
  {
   "cell_type": "code",
   "execution_count": 38,
   "id": "dc68c53f",
   "metadata": {},
   "outputs": [],
   "source": [
    "class A: \n",
    "    __college = 'GCE'  #class variable is private here\n",
    "    def getmethod(self):\n",
    "        self.__name = 'Archana'\n",
    "        self.__city = 'Salem'\n",
    "    def displaymethod(self):\n",
    "        print('Name: ', self.__name)\n",
    "        print('City: ', self.__city)\n",
    "        print(\"College: \",A.__college) # To print this private class variable. Use class name.__college\n",
    "        \n",
    "class B(A):\n",
    "    def getmethodB(self):\n",
    "        self.__salary = 100000\n",
    "    def displaymethodB(self):\n",
    "        print('Salary: ', self.__salary)\n",
    "        print('College: ', A.__college)"
   ]
  },
  {
   "cell_type": "code",
   "execution_count": 39,
   "id": "a070b3a0",
   "metadata": {},
   "outputs": [],
   "source": [
    "b2 = B()"
   ]
  },
  {
   "cell_type": "code",
   "execution_count": 40,
   "id": "009c32d7",
   "metadata": {},
   "outputs": [],
   "source": [
    "b2.getmethod()"
   ]
  },
  {
   "cell_type": "code",
   "execution_count": 41,
   "id": "facd4965",
   "metadata": {},
   "outputs": [
    {
     "name": "stdout",
     "output_type": "stream",
     "text": [
      "Name:  Archana\n",
      "City:  Salem\n",
      "College:  GCE\n"
     ]
    }
   ],
   "source": [
    "b2.displaymethod()"
   ]
  },
  {
   "cell_type": "code",
   "execution_count": 42,
   "id": "b9c845d8",
   "metadata": {},
   "outputs": [],
   "source": [
    "b2.getmethodB()"
   ]
  },
  {
   "cell_type": "code",
   "execution_count": 43,
   "id": "1a8014f9",
   "metadata": {},
   "outputs": [
    {
     "name": "stdout",
     "output_type": "stream",
     "text": [
      "Salary:  100000\n"
     ]
    },
    {
     "ename": "AttributeError",
     "evalue": "type object 'A' has no attribute '_B__college'",
     "output_type": "error",
     "traceback": [
      "\u001b[0;31m---------------------------------------------------------------------------\u001b[0m",
      "\u001b[0;31mAttributeError\u001b[0m                            Traceback (most recent call last)",
      "Input \u001b[0;32mIn [43]\u001b[0m, in \u001b[0;36m<cell line: 1>\u001b[0;34m()\u001b[0m\n\u001b[0;32m----> 1\u001b[0m \u001b[43mb2\u001b[49m\u001b[38;5;241;43m.\u001b[39;49m\u001b[43mdisplaymethodB\u001b[49m\u001b[43m(\u001b[49m\u001b[43m)\u001b[49m\n",
      "Input \u001b[0;32mIn [38]\u001b[0m, in \u001b[0;36mB.displaymethodB\u001b[0;34m(self)\u001b[0m\n\u001b[1;32m     14\u001b[0m \u001b[38;5;28;01mdef\u001b[39;00m \u001b[38;5;21mdisplaymethodB\u001b[39m(\u001b[38;5;28mself\u001b[39m):\n\u001b[1;32m     15\u001b[0m     \u001b[38;5;28mprint\u001b[39m(\u001b[38;5;124m'\u001b[39m\u001b[38;5;124mSalary: \u001b[39m\u001b[38;5;124m'\u001b[39m, \u001b[38;5;28mself\u001b[39m\u001b[38;5;241m.\u001b[39m__salary)\n\u001b[0;32m---> 16\u001b[0m     \u001b[38;5;28mprint\u001b[39m(\u001b[38;5;124m'\u001b[39m\u001b[38;5;124mCollege: \u001b[39m\u001b[38;5;124m'\u001b[39m, \u001b[43mA\u001b[49m\u001b[38;5;241;43m.\u001b[39;49m\u001b[43m__college\u001b[49m)\n",
      "\u001b[0;31mAttributeError\u001b[0m: type object 'A' has no attribute '_B__college'"
     ]
    }
   ],
   "source": [
    "b2.displaymethodB() # See it shows error. bcoz college is private and only accessible within the function only"
   ]
  }
 ],
 "metadata": {
  "kernelspec": {
   "display_name": "Python 3 (ipykernel)",
   "language": "python",
   "name": "python3"
  },
  "language_info": {
   "codemirror_mode": {
    "name": "ipython",
    "version": 3
   },
   "file_extension": ".py",
   "mimetype": "text/x-python",
   "name": "python",
   "nbconvert_exporter": "python",
   "pygments_lexer": "ipython3",
   "version": "3.9.7"
  }
 },
 "nbformat": 4,
 "nbformat_minor": 5
}
